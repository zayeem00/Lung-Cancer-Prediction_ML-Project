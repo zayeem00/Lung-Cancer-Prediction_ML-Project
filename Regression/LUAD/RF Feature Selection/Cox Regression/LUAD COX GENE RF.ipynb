{
 "cells": [
  {
   "cell_type": "code",
   "execution_count": 1,
   "metadata": {},
   "outputs": [],
   "source": [
    "#importing necessary python packages\n",
    "import sksurv\n",
    "import pandas as pd\n",
    "import numpy as np\n",
    "from sklearn.ensemble import RandomForestRegressor\n",
    "from sklearn.feature_selection import SelectFromModel"
   ]
  },
  {
   "cell_type": "code",
   "execution_count": 2,
   "metadata": {},
   "outputs": [],
   "source": [
    "# Importing the dataset\n",
    "dt = pd.read_excel('LUAD_Genes.xlsx',index_col=0)\n"
   ]
  },
  {
   "cell_type": "code",
   "execution_count": 3,
   "metadata": {},
   "outputs": [],
   "source": [
    "c = pd.read_excel('cox Luad.xlsx')"
   ]
  },
  {
   "cell_type": "code",
   "execution_count": 7,
   "metadata": {},
   "outputs": [],
   "source": [
    "result=c.to_records(index=False)"
   ]
  },
  {
   "cell_type": "code",
   "execution_count": 8,
   "metadata": {},
   "outputs": [],
   "source": [
    "c['Patient\\'s Vital Status' ]=c['Patient\\'s Vital Status' ].astype('bool')"
   ]
  },
  {
   "cell_type": "code",
   "execution_count": 9,
   "metadata": {},
   "outputs": [
    {
     "data": {
      "text/plain": [
       "rec.array([( True, 0.0000e+00), ( True, 5.0030e+01), (False, 3.9800e+00),\n",
       "           ( True, 1.9940e+01), ( True, 1.3990e+01), ( True, 4.4970e+01),\n",
       "           ( True, 3.6990e+01), (False, 0.0000e+00), (False, 9.9500e+00),\n",
       "           (False, 2.4010e+01), ( True, 4.7010e+01), (False, 8.0200e+00),\n",
       "           ( True, 1.8990e+01), ( True, 2.0040e+01), ( True, 0.0000e+00),\n",
       "           (False, 2.9900e+00), ( True, 1.4950e+01), (False, 9.0000e+00),\n",
       "           ( True, 2.9960e+01), ( True, 1.1990e+01), ( True, 2.9990e+01),\n",
       "           ( True, 2.1980e+01), ( True, 2.5990e+01), ( True, 2.5990e+01),\n",
       "           ( True, 2.5000e+01), ( True, 2.5000e+01), ( True, 2.3980e+01),\n",
       "           (False, 1.5010e+01), ( True, 1.5010e+01), ( True, 4.9600e+00),\n",
       "           ( True, 2.8980e+01), ( True, 2.2010e+01), (False, 9.0300e+00),\n",
       "           ( True, 2.0400e+00), ( True, 4.6000e-01), ( True, 7.3900e+00),\n",
       "           ( True, 5.9800e+00), ( True, 8.6700e+00), ( True, 9.7670e+01),\n",
       "           ( True, 1.2070e+02), (False, 3.7680e+01), (False, 4.9010e+01),\n",
       "           (False, 2.8380e+01), (False, 3.5250e+01), (False, 1.1630e+01),\n",
       "           (False, 4.4580e+01), ( True, 1.4720e+01), (False, 2.6280e+01),\n",
       "           ( True, 4.3700e+00), ( True, 4.3500e+01), ( True, 4.6940e+01),\n",
       "           ( True, 4.4380e+01), ( True, 4.4910e+01), ( True, 3.8070e+01),\n",
       "           ( True, 4.2050e+01), ( True, 4.2740e+01), (False, 3.1900e+00),\n",
       "           (False, 2.5000e+01), ( True, 3.7120e+01), ( True, 3.8210e+01),\n",
       "           ( True, 3.4030e+01), (False, 3.3710e+01), (False, 2.6540e+01),\n",
       "           ( True, 3.3280e+01), ( True, 2.8350e+01), ( True, 2.7990e+01),\n",
       "           ( True, 1.9550e+01), ( True, 2.3920e+01), ( True, 2.7760e+01),\n",
       "           ( True, 2.3130e+01), ( True, 2.1620e+01), ( True, 2.3160e+01),\n",
       "           ( True, 8.5940e+01), (False, 3.2420e+01), ( True, 6.1240e+01),\n",
       "           (False, 1.6430e+01), ( True, 2.2700e+01), ( True, 1.9450e+01),\n",
       "           (False, 1.8300e+01), ( True, 7.1600e+00), ( True, 3.6040e+01),\n",
       "           (False, 1.8860e+01), ( True, 2.8980e+01), ( True, 2.9200e+01),\n",
       "           ( True, 2.3620e+01), ( True, 1.2650e+01), ( True, 9.3600e+00),\n",
       "           ( True, 8.5400e+00), ( True, 1.5970e+01), ( True, 1.5310e+01),\n",
       "           ( True, 9.4300e+00), ( True, 1.1530e+01), ( True, 1.3630e+01),\n",
       "           (False, 1.3440e+01), (False, 7.6150e+01), (False, 2.8090e+01),\n",
       "           (False, 2.8550e+01), (False, 1.2650e+01), (False, 3.5510e+01),\n",
       "           (False, 4.6680e+01), (False, 1.4060e+01), (False, 3.2820e+01),\n",
       "           (False, 8.8000e+00), (False, 2.9430e+01), (False, 2.9730e+01),\n",
       "           ( True, 5.5850e+01), (False, 1.6030e+01), ( True, 5.3250e+01),\n",
       "           ( True, 5.5290e+01), ( True, 1.7150e+01), ( True, 1.1630e+01),\n",
       "           ( True, 2.2240e+01), (False, 2.2240e+01), ( True, 1.5654e+02),\n",
       "           ( True, 7.3060e+01), ( True, 6.2190e+01), (False, 2.8880e+01),\n",
       "           (False, 8.5400e+00), (False, 4.0370e+01), (False, 3.7290e+01),\n",
       "           ( True, 1.2349e+02), ( True, 2.2116e+02), ( True, 1.6399e+02),\n",
       "           (False, 9.8600e+00), (False, 2.0500e+01), (False, 7.1420e+01),\n",
       "           ( True, 1.0164e+02), (False, 1.5700e+01), (False, 6.0120e+01),\n",
       "           ( True, 4.7370e+01), ( True, 4.7370e+01), (False, 4.9240e+01),\n",
       "           (False, 8.2100e+00), (False, 9.2600e+00), (False, 1.4260e+01),\n",
       "           (False, 4.0570e+01), (False, 7.8610e+01), (False, 2.1450e+01),\n",
       "           (False, 8.4400e+00), (False, 1.5110e+01), ( True, 4.8420e+01),\n",
       "           ( True, 6.0680e+01), ( True, 5.7490e+01), ( True, 5.3120e+01),\n",
       "           ( True, 5.3120e+01), (False, 4.2310e+01), (False, 3.9100e+00),\n",
       "           (False, 2.5530e+01), (False, 1.1040e+01), (False, 1.2160e+01),\n",
       "           (False, 6.2100e+00), (False, 4.1660e+01), (False, 7.2000e-01),\n",
       "           (False, 1.0120e+01), ( True, 3.6960e+01), ( True, 3.6760e+01),\n",
       "           ( True, 2.7230e+01), (False, 3.4260e+01), (False, 3.0520e+01),\n",
       "           ( True, 1.3930e+01), ( True, 3.5180e+01), (False, 2.3030e+01),\n",
       "           ( True, 3.8700e+01), ( True, 4.8590e+01), ( True, 6.7840e+01),\n",
       "           ( True, 3.0550e+01), ( True, 1.4290e+01), ( True, 8.0450e+01),\n",
       "           (False, 5.6200e+00), (False, 4.2480e+01), ( True, 4.0700e+01),\n",
       "           (False, 1.5240e+01), ( True, 4.5990e+01), (False, 5.3610e+01),\n",
       "           (False, 3.8800e+00), (False, 5.7800e+00), (False, 7.7900e+00),\n",
       "           ( True, 6.9280e+01), (False, 4.5300e+01), (False, 3.2690e+01),\n",
       "           ( True, 9.2740e+01), (False, 2.4970e+01), ( True, 4.0510e+01),\n",
       "           ( True, 1.0713e+02), ( True, 7.0200e+01), (False, 3.1270e+01),\n",
       "           ( True, 2.8650e+01), ( True, 2.0010e+01), (False, 7.9800e+00),\n",
       "           ( True, 2.7070e+01), ( True, 1.6000e+01), (False, 3.2690e+01),\n",
       "           ( True, 2.2010e+01), ( True, 2.3160e+01), ( True, 1.4520e+01),\n",
       "           ( True, 2.1420e+01), ( True, 3.9100e+00), ( True, 2.3130e+01),\n",
       "           ( True, 2.5390e+01), (False, 1.5370e+01), ( True, 1.8630e+01),\n",
       "           (False, 1.1270e+01), ( True, 3.4170e+01), ( True, 1.7640e+01),\n",
       "           (False, 1.8430e+01), (False, 6.1400e+00), ( True, 1.9810e+01),\n",
       "           ( True, 2.9200e+01), ( True, 2.9700e+01), ( True, 1.5180e+01),\n",
       "           (False, 2.3060e+01), (False, 1.9650e+01), ( True, 1.9710e+01),\n",
       "           (False, 5.0600e+00), ( True, 1.7770e+01), (False, 2.3620e+01),\n",
       "           ( True, 1.5640e+01), ( True, 1.7970e+01), ( True, 1.6920e+01),\n",
       "           ( True, 1.9680e+01), ( True, 2.9170e+01), ( True, 3.2100e+01),\n",
       "           ( True, 2.2140e+01), (False, 1.5410e+01), ( True, 1.7540e+01),\n",
       "           ( True, 1.5700e+01), ( True, 1.4450e+01), ( True, 3.6000e-01),\n",
       "           ( True, 1.3730e+01), ( True, 2.0270e+01), ( True, 1.7710e+01),\n",
       "           ( True, 1.8130e+01), (False, 1.9940e+01), ( True, 2.5990e+01),\n",
       "           ( True, 1.7080e+01), ( True, 1.7610e+01), ( True, 1.4650e+01),\n",
       "           ( True, 1.5800e+00), ( True, 1.3670e+01), (False, 1.2320e+01),\n",
       "           ( True, 1.6920e+01), ( True, 2.2630e+01), ( True, 2.0700e+01),\n",
       "           ( True, 2.1390e+01), (False, 3.2500e+00), ( True, 2.0570e+01),\n",
       "           ( True, 1.9580e+01), ( True, 9.2000e-01), ( True, 1.5800e+01),\n",
       "           (False, 2.0170e+01), ( True, 1.9970e+01), ( True, 1.7940e+01),\n",
       "           (False, 4.5700e+00), ( True, 3.9950e+01), ( True, 4.2350e+01),\n",
       "           (False, 1.4590e+01), ( True, 8.8570e+01), (False, 4.9210e+01),\n",
       "           (False, 4.7770e+01), (False, 1.9510e+01), (False, 5.6670e+01),\n",
       "           (False, 5.4300e+01), ( True, 6.7900e+01), ( True, 7.2240e+01),\n",
       "           (False, 1.3600e+01), (False, 3.9220e+01), ( True, 4.0930e+01),\n",
       "           ( True, 2.9890e+01), ( True, 5.6770e+01), (False, 2.0630e+01),\n",
       "           ( True, 3.9060e+01), ( True, 8.1730e+01), ( True, 3.6990e+01),\n",
       "           (False, 3.8340e+01), ( True, 8.7910e+01), (False, 2.0400e+00),\n",
       "           ( True, 4.2870e+01), ( True, 2.8380e+01), ( True, 5.1220e+01),\n",
       "           ( True, 2.8450e+01), ( True, 2.0040e+01), ( True, 2.0040e+01),\n",
       "           ( True, 1.8820e+01), ( True, 1.4030e+01), ( True, 1.2650e+01),\n",
       "           ( True, 1.4720e+01), ( True, 5.7200e+00), ( True, 4.6300e+00),\n",
       "           ( True, 1.3860e+01), ( True, 6.6400e+00), ( True, 6.1100e+00),\n",
       "           ( True, 2.2670e+01), ( True, 1.3600e+01), ( True, 5.4200e+00),\n",
       "           ( True, 7.5600e+00), ( True, 6.0400e+00), ( True, 4.4000e+00),\n",
       "           ( True, 1.3400e+01), ( True, 1.3500e+01), ( True, 1.3990e+01),\n",
       "           ( True, 1.3440e+01), ( True, 4.2400e+00), ( True, 2.6710e+01),\n",
       "           ( True, 1.9420e+01), ( True, 8.4100e+00), (False, 6.9000e+00),\n",
       "           (False, 5.2560e+01), (False, 2.3360e+01), ( True, 8.2620e+01),\n",
       "           ( True, 2.6280e+01), ( True, 1.5340e+01), ( True, 4.3000e+00),\n",
       "           (False, 3.0290e+01), (False, 9.2300e+00), (False, 1.2500e+00),\n",
       "           ( True, 3.9060e+01), (False, 5.0300e+01), (False, 1.1170e+01),\n",
       "           (False, 0.0000e+00), (False, 6.6590e+01), ( True, 0.0000e+00),\n",
       "           ( True, 7.7790e+01), ( True, 4.3790e+01), ( True, 0.0000e+00),\n",
       "           (False, 0.0000e+00), ( True, 8.5090e+01), (False, 0.0000e+00),\n",
       "           (False, 0.0000e+00), (False, 4.9800e+01), (False, 3.6630e+01),\n",
       "           ( True, 1.0857e+02), ( True, 1.0049e+02), ( True, 0.0000e+00),\n",
       "           ( True, 0.0000e+00), (False, 1.6298e+02), (False, 2.7140e+01),\n",
       "           (False, 5.6800e+00), (False, 1.9250e+01), (False, 2.0570e+01),\n",
       "           ( True, 1.2943e+02), (False, 2.1880e+01), (False, 3.9910e+01),\n",
       "           ( True, 1.1942e+02), (False, 1.9480e+01), (False, 3.8470e+01),\n",
       "           (False, 3.2060e+01), (False, 5.8800e+00), ( True, 6.4850e+01),\n",
       "           (False, 2.2900e+01), (False, 9.5600e+00), (False, 1.0411e+02),\n",
       "           ( True, 2.3811e+02), (False, 8.4800e+00), (False, 8.8070e+01),\n",
       "           (False, 2.6510e+01), (False, 3.1180e+01), (False, 8.0200e+00),\n",
       "           (False, 5.3290e+01), ( True, 2.5990e+01), (False, 3.9320e+01),\n",
       "           (False, 1.0550e+01), (False, 5.0200e+01), ( True, 2.3200e+02),\n",
       "           (False, 3.9720e+01), ( True, 7.7530e+01), (False, 1.0550e+01),\n",
       "           (False, 1.1041e+02), ( True, 0.0000e+00), ( True, 9.3040e+01),\n",
       "           ( True, 8.5250e+01), ( True, 2.7070e+01), (False, 1.2350e+01),\n",
       "           ( True, 5.8800e+00), ( True, 3.1110e+01), (False, 3.4360e+01),\n",
       "           ( True, 3.8010e+01), (False, 2.0530e+01), ( True, 3.2750e+01),\n",
       "           ( True, 1.9880e+01), ( True, 3.5220e+01), ( True, 3.7710e+01),\n",
       "           (False, 4.0700e+00), ( True, 4.5700e+00), ( True, 2.4310e+01),\n",
       "           ( True, 7.9000e-01), (False, 2.2800e+01), ( True, 3.2620e+01),\n",
       "           ( True, 3.1010e+01), ( True, 3.1180e+01), ( True, 2.3030e+01),\n",
       "           ( True, 0.0000e+00), ( True, 2.1450e+01), (False, 1.4590e+01),\n",
       "           ( True, 1.1600e+01), ( True, 1.3900e+01), ( True, 3.0810e+01),\n",
       "           ( True, 2.7560e+01), (False, 6.2000e-01), ( True, 2.8320e+01),\n",
       "           ( True, 2.6480e+01), ( True, 2.9430e+01), (False, 3.8100e+00),\n",
       "           (False, 2.4210e+01), ( True, 1.3630e+01), ( True, 2.6450e+01),\n",
       "           ( True, 1.0610e+01), (False, 4.1330e+01), ( True, 1.9700e+00),\n",
       "           ( True, 1.0180e+01), ( True, 2.6000e+00), ( True, 1.3700e+01),\n",
       "           ( True, 1.2220e+01), ( True, 2.7660e+01), ( True, 7.3600e+00),\n",
       "           ( True, 1.1500e+00), ( True, 1.6160e+01), ( True, 1.6590e+01),\n",
       "           (False, 1.4260e+01), ( True, 1.1800e+00), ( True, 1.4500e+00),\n",
       "           ( True, 1.9810e+01), ( True, 2.2440e+01), ( True, 1.7440e+01),\n",
       "           ( True, 6.1100e+00), ( True, 2.3590e+01), (False, 1.0800e+00),\n",
       "           ( True, 1.8990e+01), ( True, 1.7280e+01), ( True, 4.1790e+01),\n",
       "           (False, 1.6520e+01), (False, 2.8600e+00), ( True, 1.8660e+01),\n",
       "           ( True, 1.2390e+01), ( True, 1.5670e+01), ( True, 1.5640e+01),\n",
       "           ( True, 2.7270e+01), ( True, 2.7600e+00), ( True, 2.1390e+01),\n",
       "           ( True, 1.8170e+01), ( True, 1.9880e+01), ( True, 4.2210e+01),\n",
       "           ( True, 6.4550e+01), ( True, 6.3470e+01), ( True, 6.1430e+01),\n",
       "           ( True, 2.5460e+01), ( True, 1.8530e+01), (False, 5.9000e-01),\n",
       "           ( True, 1.5900e+01), ( True, 1.8660e+01), ( True, 1.7900e+01),\n",
       "           (False, 5.3900e+00), ( True, 1.8100e+01), (False, 1.5370e+01),\n",
       "           ( True, 1.6390e+01), ( True, 1.4290e+01), ( True, 2.1580e+01),\n",
       "           ( True, 2.0570e+01), ( True, 2.0170e+01), ( True, 2.1420e+01),\n",
       "           ( True, 1.9740e+01), ( True, 2.0500e+01), ( True, 1.7740e+01),\n",
       "           ( True, 2.0830e+01), ( True, 1.8660e+01), ( True, 2.0660e+01),\n",
       "           ( True, 2.4540e+01), ( True, 3.4820e+01), ( True, 3.6730e+01),\n",
       "           ( True, 1.4500e+00), (False, 2.1550e+01), ( True, 2.1620e+01),\n",
       "           ( True, 2.4280e+01), ( True, 2.3780e+01), (False, 1.8070e+01),\n",
       "           ( True, 3.5450e+01), ( True, 3.2460e+01), ( True, 1.8990e+01),\n",
       "           ( True, 1.4290e+01), (False, 6.3400e+00), ( True, 1.0090e+01),\n",
       "           (False, 1.4520e+01), (False, 1.9100e+00), ( True, 2.1810e+01),\n",
       "           ( True, 1.8560e+01), ( True, 1.5640e+01), ( True, 2.7170e+01),\n",
       "           ( True, 3.8600e+01), ( True, 2.7600e+00), (False, 8.6070e+01),\n",
       "           (False, 5.8410e+01), (False, 4.9310e+01), (False, 8.5970e+01),\n",
       "           (False, 5.8800e+01), (False, 5.4900e+00), (False, 5.2900e+00),\n",
       "           (False, 4.1560e+01), (False, 3.1210e+01), (False, 2.4300e+00),\n",
       "           (False, 1.0090e+01), (False, 2.9430e+01), (False, 1.1040e+01),\n",
       "           ( True, 2.4340e+01), (False, 1.4090e+01), (False, 1.1140e+01),\n",
       "           (False, 1.9120e+01), ( True, 7.3850e+01), ( True, 7.0990e+01),\n",
       "           ( True, 7.4280e+01), (False, 1.3000e-01), ( True, 1.6400e+00),\n",
       "           ( True, 4.7040e+01), ( True, 4.9000e-01), ( True, 4.3000e-01),\n",
       "           ( True, 1.9810e+01), ( True, 2.0270e+01), (False, 5.9070e+01),\n",
       "           ( True, 1.6850e+01)],\n",
       "          dtype=[(\"Patient's Vital Status\", '?'), ('Survival ', '<f8')])"
      ]
     },
     "execution_count": 9,
     "metadata": {},
     "output_type": "execute_result"
    }
   ],
   "source": [
    "result"
   ]
  },
  {
   "cell_type": "code",
   "execution_count": 10,
   "metadata": {},
   "outputs": [],
   "source": [
    "y = result"
   ]
  },
  {
   "cell_type": "code",
   "execution_count": 11,
   "metadata": {},
   "outputs": [
    {
     "data": {
      "text/plain": [
       "(517, 14807)"
      ]
     },
     "execution_count": 11,
     "metadata": {},
     "output_type": "execute_result"
    }
   ],
   "source": [
    "dt.shape"
   ]
  },
  {
   "cell_type": "code",
   "execution_count": 12,
   "metadata": {},
   "outputs": [
    {
     "data": {
      "text/html": [
       "<div>\n",
       "<style scoped>\n",
       "    .dataframe tbody tr th:only-of-type {\n",
       "        vertical-align: middle;\n",
       "    }\n",
       "\n",
       "    .dataframe tbody tr th {\n",
       "        vertical-align: top;\n",
       "    }\n",
       "\n",
       "    .dataframe thead th {\n",
       "        text-align: right;\n",
       "    }\n",
       "</style>\n",
       "<table border=\"1\" class=\"dataframe\">\n",
       "  <thead>\n",
       "    <tr style=\"text-align: right;\">\n",
       "      <th></th>\n",
       "      <th>UBE2Q2P2</th>\n",
       "      <th>SSX9</th>\n",
       "      <th>CXORF67</th>\n",
       "      <th>EFCAB8</th>\n",
       "      <th>SDR16C6P</th>\n",
       "      <th>EFCAB12</th>\n",
       "      <th>A1BG</th>\n",
       "      <th>A1CF</th>\n",
       "      <th>RBFOX1</th>\n",
       "      <th>GGACT</th>\n",
       "      <th>...</th>\n",
       "      <th>SLTM</th>\n",
       "      <th>SLU7</th>\n",
       "      <th>SLURP1</th>\n",
       "      <th>SMAD2</th>\n",
       "      <th>SMAD3</th>\n",
       "      <th>SMAD4</th>\n",
       "      <th>SMAD5</th>\n",
       "      <th>SMAD6</th>\n",
       "      <th>SMAD7</th>\n",
       "      <th>Survival</th>\n",
       "    </tr>\n",
       "    <tr>\n",
       "      <th>Hugo_Symbol</th>\n",
       "      <th></th>\n",
       "      <th></th>\n",
       "      <th></th>\n",
       "      <th></th>\n",
       "      <th></th>\n",
       "      <th></th>\n",
       "      <th></th>\n",
       "      <th></th>\n",
       "      <th></th>\n",
       "      <th></th>\n",
       "      <th></th>\n",
       "      <th></th>\n",
       "      <th></th>\n",
       "      <th></th>\n",
       "      <th></th>\n",
       "      <th></th>\n",
       "      <th></th>\n",
       "      <th></th>\n",
       "      <th></th>\n",
       "      <th></th>\n",
       "      <th></th>\n",
       "    </tr>\n",
       "  </thead>\n",
       "  <tbody>\n",
       "    <tr>\n",
       "      <th>TCGA-05-4244-01</th>\n",
       "      <td>-0.4238</td>\n",
       "      <td>-0.1379</td>\n",
       "      <td>-0.1805</td>\n",
       "      <td>0.4529</td>\n",
       "      <td>-0.3317</td>\n",
       "      <td>-0.1012</td>\n",
       "      <td>-0.6977</td>\n",
       "      <td>-0.1476</td>\n",
       "      <td>-0.224</td>\n",
       "      <td>0.3832</td>\n",
       "      <td>...</td>\n",
       "      <td>-1.1877</td>\n",
       "      <td>3.4584</td>\n",
       "      <td>-0.2752</td>\n",
       "      <td>-0.7736</td>\n",
       "      <td>-0.6896</td>\n",
       "      <td>-0.0017</td>\n",
       "      <td>0.1779</td>\n",
       "      <td>-0.6433</td>\n",
       "      <td>0.7445</td>\n",
       "      <td>0.00</td>\n",
       "    </tr>\n",
       "    <tr>\n",
       "      <th>TCGA-05-4249-01</th>\n",
       "      <td>-0.3291</td>\n",
       "      <td>-0.1379</td>\n",
       "      <td>-0.1805</td>\n",
       "      <td>-0.0869</td>\n",
       "      <td>-0.3317</td>\n",
       "      <td>-0.1661</td>\n",
       "      <td>-0.1483</td>\n",
       "      <td>-0.1371</td>\n",
       "      <td>-0.226</td>\n",
       "      <td>-0.5346</td>\n",
       "      <td>...</td>\n",
       "      <td>-0.5540</td>\n",
       "      <td>0.7962</td>\n",
       "      <td>-0.2752</td>\n",
       "      <td>-0.6214</td>\n",
       "      <td>0.0881</td>\n",
       "      <td>1.3829</td>\n",
       "      <td>2.3203</td>\n",
       "      <td>-0.4918</td>\n",
       "      <td>0.0368</td>\n",
       "      <td>50.03</td>\n",
       "    </tr>\n",
       "  </tbody>\n",
       "</table>\n",
       "<p>2 rows × 14807 columns</p>\n",
       "</div>"
      ],
      "text/plain": [
       "                 UBE2Q2P2    SSX9  CXORF67  EFCAB8  SDR16C6P  EFCAB12    A1BG  \\\n",
       "Hugo_Symbol                                                                     \n",
       "TCGA-05-4244-01   -0.4238 -0.1379  -0.1805  0.4529   -0.3317  -0.1012 -0.6977   \n",
       "TCGA-05-4249-01   -0.3291 -0.1379  -0.1805 -0.0869   -0.3317  -0.1661 -0.1483   \n",
       "\n",
       "                   A1CF  RBFOX1   GGACT  ...    SLTM    SLU7  SLURP1   SMAD2  \\\n",
       "Hugo_Symbol                              ...                                   \n",
       "TCGA-05-4244-01 -0.1476  -0.224  0.3832  ... -1.1877  3.4584 -0.2752 -0.7736   \n",
       "TCGA-05-4249-01 -0.1371  -0.226 -0.5346  ... -0.5540  0.7962 -0.2752 -0.6214   \n",
       "\n",
       "                  SMAD3   SMAD4   SMAD5   SMAD6   SMAD7  Survival   \n",
       "Hugo_Symbol                                                         \n",
       "TCGA-05-4244-01 -0.6896 -0.0017  0.1779 -0.6433  0.7445       0.00  \n",
       "TCGA-05-4249-01  0.0881  1.3829  2.3203 -0.4918  0.0368      50.03  \n",
       "\n",
       "[2 rows x 14807 columns]"
      ]
     },
     "execution_count": 12,
     "metadata": {},
     "output_type": "execute_result"
    }
   ],
   "source": [
    "dt.head(2)"
   ]
  },
  {
   "cell_type": "code",
   "execution_count": 13,
   "metadata": {},
   "outputs": [],
   "source": [
    "X = dt.iloc[:,0:14806]\n",
    "y1 = dt.iloc[:, -1].values"
   ]
  },
  {
   "cell_type": "code",
   "execution_count": 14,
   "metadata": {},
   "outputs": [],
   "source": [
    "# Splitting the dataset into the Training set and Test set\n",
    "from sklearn.model_selection import train_test_split\n",
    "X_train, X_test, y1_train, y1_test = train_test_split(X, y1, test_size = 0.2, random_state = 0)\n",
    "X_train, X_val, y1_train, y1_val = train_test_split(X_train, y1_train, test_size=0.2, random_state=0)"
   ]
  },
  {
   "cell_type": "code",
   "execution_count": 15,
   "metadata": {},
   "outputs": [],
   "source": [
    "# Splitting the dataset into the Training set and Test set\n",
    "from sklearn.model_selection import train_test_split\n",
    "X_train, X_test, y_train, y_test = train_test_split(X, y, test_size = 0.2, random_state = 0)\n",
    "X_train, X_val, y_train, y_val = train_test_split(X_train, y_train, test_size=0.2, random_state=0)"
   ]
  },
  {
   "cell_type": "code",
   "execution_count": 16,
   "metadata": {},
   "outputs": [],
   "source": [
    "# Feature Scaling\n",
    "from sklearn.preprocessing import StandardScaler\n",
    "sc_X = StandardScaler()\n",
    "X_train = sc_X.fit_transform(X_train)\n",
    "X_test = sc_X.transform(X_test)\n",
    "X_val = sc_X.transform(X_val)"
   ]
  },
  {
   "cell_type": "code",
   "execution_count": 17,
   "metadata": {},
   "outputs": [],
   "source": [
    "# Create a random forest Regressor\n",
    "rgr = RandomForestRegressor(n_estimators=100, random_state=0)"
   ]
  },
  {
   "cell_type": "code",
   "execution_count": 18,
   "metadata": {},
   "outputs": [
    {
     "data": {
      "text/plain": [
       "RandomForestRegressor(bootstrap=True, criterion='mse', max_depth=None,\n",
       "           max_features='auto', max_leaf_nodes=None,\n",
       "           min_impurity_decrease=0.0, min_impurity_split=None,\n",
       "           min_samples_leaf=1, min_samples_split=2,\n",
       "           min_weight_fraction_leaf=0.0, n_estimators=100, n_jobs=None,\n",
       "           oob_score=False, random_state=0, verbose=0, warm_start=False)"
      ]
     },
     "execution_count": 18,
     "metadata": {},
     "output_type": "execute_result"
    }
   ],
   "source": [
    "# Train the Regressor\n",
    "rgr.fit(X_train, y1_train)"
   ]
  },
  {
   "cell_type": "code",
   "execution_count": null,
   "metadata": {},
   "outputs": [],
   "source": [
    "# Print the name and importance of each feature\n",
    "for feature in zip(X.columns, rgr.feature_importances_):\n",
    "    print(feature)"
   ]
  },
  {
   "cell_type": "code",
   "execution_count": 20,
   "metadata": {},
   "outputs": [],
   "source": [
    "#Select the best features from the regressor\n",
    "sfm = SelectFromModel(rgr)"
   ]
  },
  {
   "cell_type": "code",
   "execution_count": 21,
   "metadata": {},
   "outputs": [
    {
     "data": {
      "text/plain": [
       "SelectFromModel(estimator=RandomForestRegressor(bootstrap=True, criterion='mse', max_depth=None,\n",
       "           max_features='auto', max_leaf_nodes=None,\n",
       "           min_impurity_decrease=0.0, min_impurity_split=None,\n",
       "           min_samples_leaf=1, min_samples_split=2,\n",
       "           min_weight_fraction_leaf=0.0, n_estimators=100, n_jobs=None,\n",
       "           oob_score=False, random_state=0, verbose=0, warm_start=False),\n",
       "        max_features=None, norm_order=1, prefit=False, threshold=None)"
      ]
     },
     "execution_count": 21,
     "metadata": {},
     "output_type": "execute_result"
    }
   ],
   "source": [
    "# Train the Regressor\n",
    "sfm.fit(X_train, y1_train)"
   ]
  },
  {
   "cell_type": "code",
   "execution_count": null,
   "metadata": {},
   "outputs": [],
   "source": [
    "# Print the names of the most important features\n",
    "for feature_list_index in sfm.get_support(indices=True):\n",
    "    print(X.columns[feature_list_index])"
   ]
  },
  {
   "cell_type": "code",
   "execution_count": 23,
   "metadata": {},
   "outputs": [
    {
     "data": {
      "text/plain": [
       "1643"
      ]
     },
     "execution_count": 23,
     "metadata": {},
     "output_type": "execute_result"
    }
   ],
   "source": [
    "sfm.get_support().sum()"
   ]
  },
  {
   "cell_type": "code",
   "execution_count": 24,
   "metadata": {},
   "outputs": [],
   "source": [
    "# Transform the data to create a new dataset containing only the most important features\n",
    "# Note: We have to apply the transform to both the training X and test X data.\n",
    "X_important_train = sfm.transform(X_train)\n",
    "X_important_val = sfm.transform(X_val)\n",
    "X_important_test = sfm.transform(X_test)"
   ]
  },
  {
   "cell_type": "code",
   "execution_count": 25,
   "metadata": {},
   "outputs": [
    {
     "name": "stdout",
     "output_type": "stream",
     "text": [
      "iter     15: optimization converged\n"
     ]
    },
    {
     "data": {
      "text/plain": [
       "CoxPHSurvivalAnalysis(alpha=1, n_iter=100, tol=1e-09, verbose=1)"
      ]
     },
     "execution_count": 25,
     "metadata": {},
     "output_type": "execute_result"
    }
   ],
   "source": [
    "from sksurv.linear_model import CoxPHSurvivalAnalysis\n",
    "estimator = CoxPHSurvivalAnalysis(verbose=1,alpha=1)\n",
    "estimator.fit(X_important_train, y_train)"
   ]
  },
  {
   "cell_type": "code",
   "execution_count": 26,
   "metadata": {},
   "outputs": [
    {
     "data": {
      "text/plain": [
       "0.48186528497409326"
      ]
     },
     "execution_count": 26,
     "metadata": {},
     "output_type": "execute_result"
    }
   ],
   "source": [
    "from sksurv.metrics import concordance_index_censored\n",
    "\n",
    "prediction = estimator.predict(X_important_val)\n",
    "result = concordance_index_censored(y_val['Patient\\'s Vital Status'], y_val['Survival '], prediction)\n",
    "result[0]"
   ]
  },
  {
   "cell_type": "code",
   "execution_count": 27,
   "metadata": {},
   "outputs": [
    {
     "name": "stdout",
     "output_type": "stream",
     "text": [
      "iter     17: optimization converged\n",
      "iter     14: optimization converged\n",
      "iter     12: optimization converged\n",
      "0.5801537918159576 0.030207752250205763\n"
     ]
    }
   ],
   "source": [
    "# KFOlD\n",
    "from sklearn.model_selection import cross_val_score\n",
    "from sklearn.model_selection import KFold\n",
    "kfold = KFold(n_splits=3, random_state=0)\n",
    "results = cross_val_score(estimator, X_important_train, y_train, cv=kfold)\n",
    "print(results.mean(), results.std())"
   ]
  },
  {
   "cell_type": "code",
   "execution_count": null,
   "metadata": {},
   "outputs": [],
   "source": [
    "-------------------------------OPTIMISATION---------------------------------------"
   ]
  },
  {
   "cell_type": "code",
   "execution_count": 28,
   "metadata": {},
   "outputs": [
    {
     "name": "stderr",
     "output_type": "stream",
     "text": [
      "/Users/Zayeem/anaconda3/lib/python3.7/site-packages/sklearn/model_selection/_validation.py:528: ConvergenceWarning: Optimization did not converge: Maximum number of iterations has been exceeded.\n",
      "  estimator.fit(X_train, y_train, **fit_params)\n",
      "/Users/Zayeem/anaconda3/lib/python3.7/site-packages/sklearn/model_selection/_validation.py:528: ConvergenceWarning: Optimization did not converge: Maximum number of iterations has been exceeded.\n",
      "  estimator.fit(X_train, y_train, **fit_params)\n",
      "/Users/Zayeem/anaconda3/lib/python3.7/site-packages/sklearn/model_selection/_validation.py:528: ConvergenceWarning: Optimization did not converge: Maximum number of iterations has been exceeded.\n",
      "  estimator.fit(X_train, y_train, **fit_params)\n",
      "/Users/Zayeem/anaconda3/lib/python3.7/site-packages/sklearn/model_selection/_validation.py:528: ConvergenceWarning: Optimization did not converge: Maximum number of iterations has been exceeded.\n",
      "  estimator.fit(X_train, y_train, **fit_params)\n",
      "/Users/Zayeem/anaconda3/lib/python3.7/site-packages/sksurv/linear_model/coxph.py:77: RuntimeWarning: divide by zero encountered in true_divide\n",
      "  y = numpy.cumsum(n_events / divisor)\n",
      "/Users/Zayeem/anaconda3/lib/python3.7/site-packages/sklearn/model_selection/_validation.py:528: ConvergenceWarning: Optimization did not converge: Maximum number of iterations has been exceeded.\n",
      "  estimator.fit(X_train, y_train, **fit_params)\n",
      "/Users/Zayeem/anaconda3/lib/python3.7/site-packages/sklearn/model_selection/_validation.py:528: ConvergenceWarning: Optimization did not converge: Maximum number of iterations has been exceeded.\n",
      "  estimator.fit(X_train, y_train, **fit_params)\n",
      "/Users/Zayeem/anaconda3/lib/python3.7/site-packages/sklearn/model_selection/_validation.py:528: ConvergenceWarning: Optimization did not converge: Maximum number of iterations has been exceeded.\n",
      "  estimator.fit(X_train, y_train, **fit_params)\n",
      "/Users/Zayeem/anaconda3/lib/python3.7/site-packages/sklearn/model_selection/_validation.py:528: ConvergenceWarning: Optimization did not converge: Maximum number of iterations has been exceeded.\n",
      "  estimator.fit(X_train, y_train, **fit_params)\n",
      "/Users/Zayeem/anaconda3/lib/python3.7/site-packages/sklearn/model_selection/_validation.py:528: ConvergenceWarning: Optimization did not converge: Maximum number of iterations has been exceeded.\n",
      "  estimator.fit(X_train, y_train, **fit_params)\n",
      "/Users/Zayeem/anaconda3/lib/python3.7/site-packages/sklearn/model_selection/_validation.py:528: ConvergenceWarning: Optimization did not converge: Maximum number of iterations has been exceeded.\n",
      "  estimator.fit(X_train, y_train, **fit_params)\n",
      "/Users/Zayeem/anaconda3/lib/python3.7/site-packages/sklearn/model_selection/_validation.py:528: ConvergenceWarning: Optimization did not converge: Maximum number of iterations has been exceeded.\n",
      "  estimator.fit(X_train, y_train, **fit_params)\n",
      "/Users/Zayeem/anaconda3/lib/python3.7/site-packages/sklearn/model_selection/_validation.py:528: ConvergenceWarning: Optimization did not converge: Maximum number of iterations has been exceeded.\n",
      "  estimator.fit(X_train, y_train, **fit_params)\n",
      "/Users/Zayeem/anaconda3/lib/python3.7/site-packages/sklearn/model_selection/_validation.py:528: ConvergenceWarning: Optimization did not converge: Maximum number of iterations has been exceeded.\n",
      "  estimator.fit(X_train, y_train, **fit_params)\n",
      "/Users/Zayeem/anaconda3/lib/python3.7/site-packages/sklearn/model_selection/_validation.py:528: ConvergenceWarning: Optimization did not converge: Maximum number of iterations has been exceeded.\n",
      "  estimator.fit(X_train, y_train, **fit_params)\n",
      "/Users/Zayeem/anaconda3/lib/python3.7/site-packages/sklearn/model_selection/_validation.py:528: ConvergenceWarning: Optimization did not converge: Maximum number of iterations has been exceeded.\n",
      "  estimator.fit(X_train, y_train, **fit_params)\n",
      "/Users/Zayeem/anaconda3/lib/python3.7/site-packages/sklearn/model_selection/_validation.py:528: ConvergenceWarning: Optimization did not converge: Maximum number of iterations has been exceeded.\n",
      "  estimator.fit(X_train, y_train, **fit_params)\n",
      "/Users/Zayeem/anaconda3/lib/python3.7/site-packages/sklearn/model_selection/_validation.py:528: ConvergenceWarning: Optimization did not converge: Maximum number of iterations has been exceeded.\n",
      "  estimator.fit(X_train, y_train, **fit_params)\n",
      "/Users/Zayeem/anaconda3/lib/python3.7/site-packages/sklearn/model_selection/_validation.py:528: ConvergenceWarning: Optimization did not converge: Maximum number of iterations has been exceeded.\n",
      "  estimator.fit(X_train, y_train, **fit_params)\n",
      "/Users/Zayeem/anaconda3/lib/python3.7/site-packages/sklearn/model_selection/_validation.py:528: ConvergenceWarning: Optimization did not converge: Maximum number of iterations has been exceeded.\n",
      "  estimator.fit(X_train, y_train, **fit_params)\n",
      "/Users/Zayeem/anaconda3/lib/python3.7/site-packages/sklearn/model_selection/_validation.py:528: ConvergenceWarning: Optimization did not converge: Maximum number of iterations has been exceeded.\n",
      "  estimator.fit(X_train, y_train, **fit_params)\n",
      "/Users/Zayeem/anaconda3/lib/python3.7/site-packages/sklearn/model_selection/_validation.py:528: ConvergenceWarning: Optimization did not converge: Maximum number of iterations has been exceeded.\n",
      "  estimator.fit(X_train, y_train, **fit_params)\n",
      "/Users/Zayeem/anaconda3/lib/python3.7/site-packages/sklearn/model_selection/_validation.py:528: ConvergenceWarning: Optimization did not converge: Maximum number of iterations has been exceeded.\n",
      "  estimator.fit(X_train, y_train, **fit_params)\n",
      "/Users/Zayeem/anaconda3/lib/python3.7/site-packages/sklearn/model_selection/_validation.py:528: ConvergenceWarning: Optimization did not converge: Maximum number of iterations has been exceeded.\n",
      "  estimator.fit(X_train, y_train, **fit_params)\n"
     ]
    },
    {
     "name": "stdout",
     "output_type": "stream",
     "text": [
      "Best: 0.583571 using {'tol': 0.001, 'n_iter': 10, 'alpha': 8}\n"
     ]
    }
   ],
   "source": [
    "from sklearn.model_selection import RandomizedSearchCV\n",
    "param_grid = {  'alpha':[0.1,0.2,0.3,0.4,0.5,0.6,0.7,0.8,0.9,1.0,2,3,4,5,6,7,8,9,10],\n",
    "                'n_iter':[1,2,3,4,5,6,7,8,9,10],\n",
    "                'tol':[0.001,0.01,0.1,0.005,0.05,0.5,1.0,2,5,10,15,20,25,30],\n",
    "                \n",
    "                 }  \n",
    "regressor = CoxPHSurvivalAnalysis()\n",
    "random=RandomizedSearchCV(estimator=regressor,param_distributions=param_grid,cv=3,n_iter=20)\n",
    "random_result=random.fit(X_important_train,y_train)\n",
    "print(\"Best: %f using %s\" % (random_result.best_score_,random_result.best_params_))"
   ]
  },
  {
   "cell_type": "code",
   "execution_count": 31,
   "metadata": {},
   "outputs": [
    {
     "data": {
      "text/plain": [
       "CoxPHSurvivalAnalysis(alpha=8, n_iter=10, tol=0.001, verbose=0)"
      ]
     },
     "execution_count": 31,
     "metadata": {},
     "output_type": "execute_result"
    }
   ],
   "source": [
    "from sksurv.linear_model import CoxPHSurvivalAnalysis\n",
    "estimator = CoxPHSurvivalAnalysis(alpha=8,n_iter=10,tol=0.001,verbose=0)\n",
    "estimator.fit(X_important_train, y_train)"
   ]
  },
  {
   "cell_type": "code",
   "execution_count": 32,
   "metadata": {},
   "outputs": [
    {
     "data": {
      "text/plain": [
       "0.48013816925734026"
      ]
     },
     "execution_count": 32,
     "metadata": {},
     "output_type": "execute_result"
    }
   ],
   "source": [
    "from sksurv.metrics import concordance_index_censored\n",
    "\n",
    "prediction = estimator.predict(X_important_val)\n",
    "result = concordance_index_censored(y_val['Patient\\'s Vital Status'], y_val['Survival '], prediction)\n",
    "result[0]"
   ]
  },
  {
   "cell_type": "code",
   "execution_count": 33,
   "metadata": {},
   "outputs": [
    {
     "data": {
      "text/plain": [
       "CoxPHSurvivalAnalysis(alpha=8, n_iter=10, tol=0.001, verbose=0)"
      ]
     },
     "execution_count": 33,
     "metadata": {},
     "output_type": "execute_result"
    }
   ],
   "source": [
    "#################Testing Set###########################\n",
    "from sksurv.linear_model import CoxPHSurvivalAnalysis\n",
    "estimator = CoxPHSurvivalAnalysis(alpha=8,n_iter=10,tol=0.001,verbose=0)\n",
    "estimator.fit(X_important_train, y_train)"
   ]
  },
  {
   "cell_type": "code",
   "execution_count": 34,
   "metadata": {},
   "outputs": [
    {
     "data": {
      "text/plain": [
       "0.5531281032770605"
      ]
     },
     "execution_count": 34,
     "metadata": {},
     "output_type": "execute_result"
    }
   ],
   "source": [
    "from sksurv.metrics import concordance_index_censored\n",
    "\n",
    "prediction = estimator.predict(X_important_test)\n",
    "result = concordance_index_censored(y_test['Patient\\'s Vital Status'], y_test['Survival '], prediction)\n",
    "result[0]"
   ]
  },
  {
   "cell_type": "code",
   "execution_count": null,
   "metadata": {},
   "outputs": [],
   "source": []
  }
 ],
 "metadata": {
  "kernelspec": {
   "display_name": "Python 3",
   "language": "python",
   "name": "python3"
  },
  "language_info": {
   "codemirror_mode": {
    "name": "ipython",
    "version": 3
   },
   "file_extension": ".py",
   "mimetype": "text/x-python",
   "name": "python",
   "nbconvert_exporter": "python",
   "pygments_lexer": "ipython3",
   "version": "3.7.3"
  }
 },
 "nbformat": 4,
 "nbformat_minor": 2
}
