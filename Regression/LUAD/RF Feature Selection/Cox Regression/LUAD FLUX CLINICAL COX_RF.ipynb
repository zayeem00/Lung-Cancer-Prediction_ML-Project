{
 "cells": [
  {
   "cell_type": "code",
   "execution_count": 1,
   "metadata": {},
   "outputs": [],
   "source": [
    "#importing necessary python packages\n",
    "import sksurv\n",
    "import pandas as pd\n",
    "import numpy as np\n",
    "from sklearn.ensemble import RandomForestRegressor\n",
    "from sklearn.feature_selection import SelectFromModel"
   ]
  },
  {
   "cell_type": "code",
   "execution_count": 2,
   "metadata": {},
   "outputs": [],
   "source": [
    "# Importing the dataset\n",
    "dt = pd.read_excel('Flux Clinical.xlsx',index_col=0)"
   ]
  },
  {
   "cell_type": "code",
   "execution_count": 3,
   "metadata": {},
   "outputs": [],
   "source": [
    "del dt['Column1']\n",
    "del dt['Patient\\'s Vital Status_Dead']\n",
    "del dt['Patient\\'s Vital Status_Alive']"
   ]
  },
  {
   "cell_type": "code",
   "execution_count": 4,
   "metadata": {},
   "outputs": [],
   "source": [
    "c = pd.read_excel('cox Luad.xlsx')"
   ]
  },
  {
   "cell_type": "code",
   "execution_count": 8,
   "metadata": {},
   "outputs": [],
   "source": [
    "result=c.to_records(index=False)"
   ]
  },
  {
   "cell_type": "code",
   "execution_count": 9,
   "metadata": {},
   "outputs": [],
   "source": [
    "c['Patient\\'s Vital Status' ]=c['Patient\\'s Vital Status' ].astype('bool')"
   ]
  },
  {
   "cell_type": "code",
   "execution_count": 10,
   "metadata": {},
   "outputs": [
    {
     "data": {
      "text/plain": [
       "rec.array([( True, 0.0000e+00), ( True, 5.0030e+01), (False, 3.9800e+00),\n",
       "           ( True, 1.9940e+01), ( True, 1.3990e+01), ( True, 4.4970e+01),\n",
       "           ( True, 3.6990e+01), (False, 0.0000e+00), (False, 9.9500e+00),\n",
       "           (False, 2.4010e+01), ( True, 4.7010e+01), (False, 8.0200e+00),\n",
       "           ( True, 1.8990e+01), ( True, 2.0040e+01), ( True, 0.0000e+00),\n",
       "           (False, 2.9900e+00), ( True, 1.4950e+01), (False, 9.0000e+00),\n",
       "           ( True, 2.9960e+01), ( True, 1.1990e+01), ( True, 2.9990e+01),\n",
       "           ( True, 2.1980e+01), ( True, 2.5990e+01), ( True, 2.5990e+01),\n",
       "           ( True, 2.5000e+01), ( True, 2.5000e+01), ( True, 2.3980e+01),\n",
       "           (False, 1.5010e+01), ( True, 1.5010e+01), ( True, 4.9600e+00),\n",
       "           ( True, 2.8980e+01), ( True, 2.2010e+01), (False, 9.0300e+00),\n",
       "           ( True, 2.0400e+00), ( True, 4.6000e-01), ( True, 7.3900e+00),\n",
       "           ( True, 5.9800e+00), ( True, 8.6700e+00), ( True, 9.7670e+01),\n",
       "           ( True, 1.2070e+02), (False, 3.7680e+01), (False, 4.9010e+01),\n",
       "           (False, 2.8380e+01), (False, 3.5250e+01), (False, 1.1630e+01),\n",
       "           (False, 4.4580e+01), ( True, 1.4720e+01), (False, 2.6280e+01),\n",
       "           ( True, 4.3700e+00), ( True, 4.3500e+01), ( True, 4.6940e+01),\n",
       "           ( True, 4.4380e+01), ( True, 4.4910e+01), ( True, 3.8070e+01),\n",
       "           ( True, 4.2050e+01), ( True, 4.2740e+01), (False, 3.1900e+00),\n",
       "           (False, 2.5000e+01), ( True, 3.7120e+01), ( True, 3.8210e+01),\n",
       "           ( True, 3.4030e+01), (False, 3.3710e+01), (False, 2.6540e+01),\n",
       "           ( True, 3.3280e+01), ( True, 2.8350e+01), ( True, 2.7990e+01),\n",
       "           ( True, 1.9550e+01), ( True, 2.3920e+01), ( True, 2.7760e+01),\n",
       "           ( True, 2.3130e+01), ( True, 2.1620e+01), ( True, 2.3160e+01),\n",
       "           ( True, 8.5940e+01), (False, 3.2420e+01), ( True, 6.1240e+01),\n",
       "           (False, 1.6430e+01), ( True, 2.2700e+01), ( True, 1.9450e+01),\n",
       "           (False, 1.8300e+01), ( True, 7.1600e+00), ( True, 3.6040e+01),\n",
       "           (False, 1.8860e+01), ( True, 2.8980e+01), ( True, 2.9200e+01),\n",
       "           ( True, 2.3620e+01), ( True, 1.2650e+01), ( True, 9.3600e+00),\n",
       "           ( True, 8.5400e+00), ( True, 1.5970e+01), ( True, 1.5310e+01),\n",
       "           ( True, 9.4300e+00), ( True, 1.1530e+01), ( True, 1.3630e+01),\n",
       "           (False, 1.3440e+01), (False, 7.6150e+01), (False, 2.8090e+01),\n",
       "           (False, 2.8550e+01), (False, 1.2650e+01), (False, 3.5510e+01),\n",
       "           (False, 4.6680e+01), (False, 1.4060e+01), (False, 3.2820e+01),\n",
       "           (False, 8.8000e+00), (False, 2.9430e+01), (False, 2.9730e+01),\n",
       "           ( True, 5.5850e+01), (False, 1.6030e+01), ( True, 5.3250e+01),\n",
       "           ( True, 5.5290e+01), ( True, 1.7150e+01), ( True, 1.1630e+01),\n",
       "           ( True, 2.2240e+01), (False, 2.2240e+01), ( True, 1.5654e+02),\n",
       "           ( True, 7.3060e+01), ( True, 6.2190e+01), (False, 2.8880e+01),\n",
       "           (False, 8.5400e+00), (False, 4.0370e+01), (False, 3.7290e+01),\n",
       "           ( True, 1.2349e+02), ( True, 2.2116e+02), ( True, 1.6399e+02),\n",
       "           (False, 9.8600e+00), (False, 2.0500e+01), (False, 7.1420e+01),\n",
       "           ( True, 1.0164e+02), (False, 1.5700e+01), (False, 6.0120e+01),\n",
       "           ( True, 4.7370e+01), ( True, 4.7370e+01), (False, 4.9240e+01),\n",
       "           (False, 8.2100e+00), (False, 9.2600e+00), (False, 1.4260e+01),\n",
       "           (False, 4.0570e+01), (False, 7.8610e+01), (False, 2.1450e+01),\n",
       "           (False, 8.4400e+00), (False, 1.5110e+01), ( True, 4.8420e+01),\n",
       "           ( True, 6.0680e+01), ( True, 5.7490e+01), ( True, 5.3120e+01),\n",
       "           ( True, 5.3120e+01), (False, 4.2310e+01), (False, 3.9100e+00),\n",
       "           (False, 2.5530e+01), (False, 1.1040e+01), (False, 1.2160e+01),\n",
       "           (False, 6.2100e+00), (False, 4.1660e+01), (False, 7.2000e-01),\n",
       "           (False, 1.0120e+01), ( True, 3.6960e+01), ( True, 3.6760e+01),\n",
       "           ( True, 2.7230e+01), (False, 3.4260e+01), (False, 3.0520e+01),\n",
       "           ( True, 1.3930e+01), ( True, 3.5180e+01), (False, 2.3030e+01),\n",
       "           ( True, 3.8700e+01), ( True, 4.8590e+01), ( True, 6.7840e+01),\n",
       "           ( True, 3.0550e+01), ( True, 1.4290e+01), ( True, 8.0450e+01),\n",
       "           (False, 5.6200e+00), (False, 4.2480e+01), ( True, 4.0700e+01),\n",
       "           (False, 1.5240e+01), ( True, 4.5990e+01), (False, 5.3610e+01),\n",
       "           (False, 3.8800e+00), (False, 5.7800e+00), (False, 7.7900e+00),\n",
       "           ( True, 6.9280e+01), (False, 4.5300e+01), (False, 3.2690e+01),\n",
       "           ( True, 9.2740e+01), (False, 2.4970e+01), ( True, 4.0510e+01),\n",
       "           ( True, 1.0713e+02), ( True, 7.0200e+01), (False, 3.1270e+01),\n",
       "           ( True, 2.8650e+01), ( True, 2.0010e+01), (False, 7.9800e+00),\n",
       "           ( True, 2.7070e+01), ( True, 1.6000e+01), (False, 3.2690e+01),\n",
       "           ( True, 2.2010e+01), ( True, 2.3160e+01), ( True, 1.4520e+01),\n",
       "           ( True, 2.1420e+01), ( True, 3.9100e+00), ( True, 2.3130e+01),\n",
       "           ( True, 2.5390e+01), (False, 1.5370e+01), ( True, 1.8630e+01),\n",
       "           (False, 1.1270e+01), ( True, 3.4170e+01), ( True, 1.7640e+01),\n",
       "           (False, 1.8430e+01), (False, 6.1400e+00), ( True, 1.9810e+01),\n",
       "           ( True, 2.9200e+01), ( True, 2.9700e+01), ( True, 1.5180e+01),\n",
       "           (False, 2.3060e+01), (False, 1.9650e+01), ( True, 1.9710e+01),\n",
       "           (False, 5.0600e+00), ( True, 1.7770e+01), (False, 2.3620e+01),\n",
       "           ( True, 1.5640e+01), ( True, 1.7970e+01), ( True, 1.6920e+01),\n",
       "           ( True, 1.9680e+01), ( True, 2.9170e+01), ( True, 3.2100e+01),\n",
       "           ( True, 2.2140e+01), (False, 1.5410e+01), ( True, 1.7540e+01),\n",
       "           ( True, 1.5700e+01), ( True, 1.4450e+01), ( True, 3.6000e-01),\n",
       "           ( True, 1.3730e+01), ( True, 2.0270e+01), ( True, 1.7710e+01),\n",
       "           ( True, 1.8130e+01), (False, 1.9940e+01), ( True, 2.5990e+01),\n",
       "           ( True, 1.7080e+01), ( True, 1.7610e+01), ( True, 1.4650e+01),\n",
       "           ( True, 1.5800e+00), ( True, 1.3670e+01), (False, 1.2320e+01),\n",
       "           ( True, 1.6920e+01), ( True, 2.2630e+01), ( True, 2.0700e+01),\n",
       "           ( True, 2.1390e+01), (False, 3.2500e+00), ( True, 2.0570e+01),\n",
       "           ( True, 1.9580e+01), ( True, 9.2000e-01), ( True, 1.5800e+01),\n",
       "           (False, 2.0170e+01), ( True, 1.9970e+01), ( True, 1.7940e+01),\n",
       "           (False, 4.5700e+00), ( True, 3.9950e+01), ( True, 4.2350e+01),\n",
       "           (False, 1.4590e+01), ( True, 8.8570e+01), (False, 4.9210e+01),\n",
       "           (False, 4.7770e+01), (False, 1.9510e+01), (False, 5.6670e+01),\n",
       "           (False, 5.4300e+01), ( True, 6.7900e+01), ( True, 7.2240e+01),\n",
       "           (False, 1.3600e+01), (False, 3.9220e+01), ( True, 4.0930e+01),\n",
       "           ( True, 2.9890e+01), ( True, 5.6770e+01), (False, 2.0630e+01),\n",
       "           ( True, 3.9060e+01), ( True, 8.1730e+01), ( True, 3.6990e+01),\n",
       "           (False, 3.8340e+01), ( True, 8.7910e+01), (False, 2.0400e+00),\n",
       "           ( True, 4.2870e+01), ( True, 2.8380e+01), ( True, 5.1220e+01),\n",
       "           ( True, 2.8450e+01), ( True, 2.0040e+01), ( True, 2.0040e+01),\n",
       "           ( True, 1.8820e+01), ( True, 1.4030e+01), ( True, 1.2650e+01),\n",
       "           ( True, 1.4720e+01), ( True, 5.7200e+00), ( True, 4.6300e+00),\n",
       "           ( True, 1.3860e+01), ( True, 6.6400e+00), ( True, 6.1100e+00),\n",
       "           ( True, 2.2670e+01), ( True, 1.3600e+01), ( True, 5.4200e+00),\n",
       "           ( True, 7.5600e+00), ( True, 6.0400e+00), ( True, 4.4000e+00),\n",
       "           ( True, 1.3400e+01), ( True, 1.3500e+01), ( True, 1.3990e+01),\n",
       "           ( True, 1.3440e+01), ( True, 4.2400e+00), ( True, 2.6710e+01),\n",
       "           ( True, 1.9420e+01), ( True, 8.4100e+00), (False, 6.9000e+00),\n",
       "           (False, 5.2560e+01), (False, 2.3360e+01), ( True, 8.2620e+01),\n",
       "           ( True, 2.6280e+01), ( True, 1.5340e+01), ( True, 4.3000e+00),\n",
       "           (False, 3.0290e+01), (False, 9.2300e+00), (False, 1.2500e+00),\n",
       "           ( True, 3.9060e+01), (False, 5.0300e+01), (False, 1.1170e+01),\n",
       "           (False, 0.0000e+00), (False, 6.6590e+01), ( True, 0.0000e+00),\n",
       "           ( True, 7.7790e+01), ( True, 4.3790e+01), ( True, 0.0000e+00),\n",
       "           (False, 0.0000e+00), ( True, 8.5090e+01), (False, 0.0000e+00),\n",
       "           (False, 0.0000e+00), (False, 4.9800e+01), (False, 3.6630e+01),\n",
       "           ( True, 1.0857e+02), ( True, 1.0049e+02), ( True, 0.0000e+00),\n",
       "           ( True, 0.0000e+00), (False, 1.6298e+02), (False, 2.7140e+01),\n",
       "           (False, 5.6800e+00), (False, 1.9250e+01), (False, 2.0570e+01),\n",
       "           ( True, 1.2943e+02), (False, 2.1880e+01), (False, 3.9910e+01),\n",
       "           ( True, 1.1942e+02), (False, 1.9480e+01), (False, 3.8470e+01),\n",
       "           (False, 3.2060e+01), (False, 5.8800e+00), ( True, 6.4850e+01),\n",
       "           (False, 2.2900e+01), (False, 9.5600e+00), (False, 1.0411e+02),\n",
       "           ( True, 2.3811e+02), (False, 8.4800e+00), (False, 8.8070e+01),\n",
       "           (False, 2.6510e+01), (False, 3.1180e+01), (False, 8.0200e+00),\n",
       "           (False, 5.3290e+01), ( True, 2.5990e+01), (False, 3.9320e+01),\n",
       "           (False, 1.0550e+01), (False, 5.0200e+01), ( True, 2.3200e+02),\n",
       "           (False, 3.9720e+01), ( True, 7.7530e+01), (False, 1.0550e+01),\n",
       "           (False, 1.1041e+02), ( True, 0.0000e+00), ( True, 9.3040e+01),\n",
       "           ( True, 8.5250e+01), ( True, 2.7070e+01), (False, 1.2350e+01),\n",
       "           ( True, 5.8800e+00), ( True, 3.1110e+01), (False, 3.4360e+01),\n",
       "           ( True, 3.8010e+01), (False, 2.0530e+01), ( True, 3.2750e+01),\n",
       "           ( True, 1.9880e+01), ( True, 3.5220e+01), ( True, 3.7710e+01),\n",
       "           (False, 4.0700e+00), ( True, 4.5700e+00), ( True, 2.4310e+01),\n",
       "           ( True, 7.9000e-01), (False, 2.2800e+01), ( True, 3.2620e+01),\n",
       "           ( True, 3.1010e+01), ( True, 3.1180e+01), ( True, 2.3030e+01),\n",
       "           ( True, 0.0000e+00), ( True, 2.1450e+01), (False, 1.4590e+01),\n",
       "           ( True, 1.1600e+01), ( True, 1.3900e+01), ( True, 3.0810e+01),\n",
       "           ( True, 2.7560e+01), (False, 6.2000e-01), ( True, 2.8320e+01),\n",
       "           ( True, 2.6480e+01), ( True, 2.9430e+01), (False, 3.8100e+00),\n",
       "           (False, 2.4210e+01), ( True, 1.3630e+01), ( True, 2.6450e+01),\n",
       "           ( True, 1.0610e+01), (False, 4.1330e+01), ( True, 1.9700e+00),\n",
       "           ( True, 1.0180e+01), ( True, 2.6000e+00), ( True, 1.3700e+01),\n",
       "           ( True, 1.2220e+01), ( True, 2.7660e+01), ( True, 7.3600e+00),\n",
       "           ( True, 1.1500e+00), ( True, 1.6160e+01), ( True, 1.6590e+01),\n",
       "           (False, 1.4260e+01), ( True, 1.1800e+00), ( True, 1.4500e+00),\n",
       "           ( True, 1.9810e+01), ( True, 2.2440e+01), ( True, 1.7440e+01),\n",
       "           ( True, 6.1100e+00), ( True, 2.3590e+01), (False, 1.0800e+00),\n",
       "           ( True, 1.8990e+01), ( True, 1.7280e+01), ( True, 4.1790e+01),\n",
       "           (False, 1.6520e+01), (False, 2.8600e+00), ( True, 1.8660e+01),\n",
       "           ( True, 1.2390e+01), ( True, 1.5670e+01), ( True, 1.5640e+01),\n",
       "           ( True, 2.7270e+01), ( True, 2.7600e+00), ( True, 2.1390e+01),\n",
       "           ( True, 1.8170e+01), ( True, 1.9880e+01), ( True, 4.2210e+01),\n",
       "           ( True, 6.4550e+01), ( True, 6.3470e+01), ( True, 6.1430e+01),\n",
       "           ( True, 2.5460e+01), ( True, 1.8530e+01), (False, 5.9000e-01),\n",
       "           ( True, 1.5900e+01), ( True, 1.8660e+01), ( True, 1.7900e+01),\n",
       "           (False, 5.3900e+00), ( True, 1.8100e+01), (False, 1.5370e+01),\n",
       "           ( True, 1.6390e+01), ( True, 1.4290e+01), ( True, 2.1580e+01),\n",
       "           ( True, 2.0570e+01), ( True, 2.0170e+01), ( True, 2.1420e+01),\n",
       "           ( True, 1.9740e+01), ( True, 2.0500e+01), ( True, 1.7740e+01),\n",
       "           ( True, 2.0830e+01), ( True, 1.8660e+01), ( True, 2.0660e+01),\n",
       "           ( True, 2.4540e+01), ( True, 3.4820e+01), ( True, 3.6730e+01),\n",
       "           ( True, 1.4500e+00), (False, 2.1550e+01), ( True, 2.1620e+01),\n",
       "           ( True, 2.4280e+01), ( True, 2.3780e+01), (False, 1.8070e+01),\n",
       "           ( True, 3.5450e+01), ( True, 3.2460e+01), ( True, 1.8990e+01),\n",
       "           ( True, 1.4290e+01), (False, 6.3400e+00), ( True, 1.0090e+01),\n",
       "           (False, 1.4520e+01), (False, 1.9100e+00), ( True, 2.1810e+01),\n",
       "           ( True, 1.8560e+01), ( True, 1.5640e+01), ( True, 2.7170e+01),\n",
       "           ( True, 3.8600e+01), ( True, 2.7600e+00), (False, 8.6070e+01),\n",
       "           (False, 5.8410e+01), (False, 4.9310e+01), (False, 8.5970e+01),\n",
       "           (False, 5.8800e+01), (False, 5.4900e+00), (False, 5.2900e+00),\n",
       "           (False, 4.1560e+01), (False, 3.1210e+01), (False, 2.4300e+00),\n",
       "           (False, 1.0090e+01), (False, 2.9430e+01), (False, 1.1040e+01),\n",
       "           ( True, 2.4340e+01), (False, 1.4090e+01), (False, 1.1140e+01),\n",
       "           (False, 1.9120e+01), ( True, 7.3850e+01), ( True, 7.0990e+01),\n",
       "           ( True, 7.4280e+01), (False, 1.3000e-01), ( True, 1.6400e+00),\n",
       "           ( True, 4.7040e+01), ( True, 4.9000e-01), ( True, 4.3000e-01),\n",
       "           ( True, 1.9810e+01), ( True, 2.0270e+01), (False, 5.9070e+01),\n",
       "           ( True, 1.6850e+01)],\n",
       "          dtype=[(\"Patient's Vital Status\", '?'), ('Survival ', '<f8')])"
      ]
     },
     "execution_count": 10,
     "metadata": {},
     "output_type": "execute_result"
    }
   ],
   "source": [
    "result"
   ]
  },
  {
   "cell_type": "code",
   "execution_count": 11,
   "metadata": {},
   "outputs": [],
   "source": [
    "y = result"
   ]
  },
  {
   "cell_type": "code",
   "execution_count": 12,
   "metadata": {},
   "outputs": [
    {
     "data": {
      "text/plain": [
       "(517, 2306)"
      ]
     },
     "execution_count": 12,
     "metadata": {},
     "output_type": "execute_result"
    }
   ],
   "source": [
    "dt.shape"
   ]
  },
  {
   "cell_type": "code",
   "execution_count": 13,
   "metadata": {},
   "outputs": [
    {
     "data": {
      "text/html": [
       "<div>\n",
       "<style scoped>\n",
       "    .dataframe tbody tr th:only-of-type {\n",
       "        vertical-align: middle;\n",
       "    }\n",
       "\n",
       "    .dataframe tbody tr th {\n",
       "        vertical-align: top;\n",
       "    }\n",
       "\n",
       "    .dataframe thead th {\n",
       "        text-align: right;\n",
       "    }\n",
       "</style>\n",
       "<table border=\"1\" class=\"dataframe\">\n",
       "  <thead>\n",
       "    <tr style=\"text-align: right;\">\n",
       "      <th></th>\n",
       "      <th>'3DSPHR'</th>\n",
       "      <th>'3HBCOAHLm'</th>\n",
       "      <th>'ABTArm'</th>\n",
       "      <th>'ABTD'</th>\n",
       "      <th>'ACACT1r'</th>\n",
       "      <th>'ACACT1rm'</th>\n",
       "      <th>'ACACT1x'</th>\n",
       "      <th>'ACOAD9m'</th>\n",
       "      <th>'ACOAO7p'</th>\n",
       "      <th>'ACOATA'</th>\n",
       "      <th>...</th>\n",
       "      <th>Tissue Source Site_MN</th>\n",
       "      <th>Tissue Source Site_MP</th>\n",
       "      <th>Tissue Source Site_NJ</th>\n",
       "      <th>Tissue Source Site_O1</th>\n",
       "      <th>Tissue Source Site_S2</th>\n",
       "      <th>Person Neoplasm Status_TUMOR FREE</th>\n",
       "      <th>Person Neoplasm Status_WITH TUMOR</th>\n",
       "      <th>Vial number_A</th>\n",
       "      <th>Vial number_B</th>\n",
       "      <th>Overall Survival (Months)</th>\n",
       "    </tr>\n",
       "    <tr>\n",
       "      <th>HUG0_SYMBOL</th>\n",
       "      <th></th>\n",
       "      <th></th>\n",
       "      <th></th>\n",
       "      <th></th>\n",
       "      <th></th>\n",
       "      <th></th>\n",
       "      <th></th>\n",
       "      <th></th>\n",
       "      <th></th>\n",
       "      <th></th>\n",
       "      <th></th>\n",
       "      <th></th>\n",
       "      <th></th>\n",
       "      <th></th>\n",
       "      <th></th>\n",
       "      <th></th>\n",
       "      <th></th>\n",
       "      <th></th>\n",
       "      <th></th>\n",
       "      <th></th>\n",
       "      <th></th>\n",
       "    </tr>\n",
       "  </thead>\n",
       "  <tbody>\n",
       "    <tr>\n",
       "      <th>TCGA-05-4244-01</th>\n",
       "      <td>11.448262</td>\n",
       "      <td>154.187481</td>\n",
       "      <td>-583.764387</td>\n",
       "      <td>-14.237357</td>\n",
       "      <td>125.403072</td>\n",
       "      <td>235.338244</td>\n",
       "      <td>457.654536</td>\n",
       "      <td>74.716367</td>\n",
       "      <td>72.493260</td>\n",
       "      <td>-165.591744</td>\n",
       "      <td>...</td>\n",
       "      <td>0</td>\n",
       "      <td>0</td>\n",
       "      <td>0</td>\n",
       "      <td>0</td>\n",
       "      <td>0</td>\n",
       "      <td>1</td>\n",
       "      <td>0</td>\n",
       "      <td>1</td>\n",
       "      <td>0</td>\n",
       "      <td>0.00</td>\n",
       "    </tr>\n",
       "    <tr>\n",
       "      <th>TCGA-05-4249-01</th>\n",
       "      <td>9.173955</td>\n",
       "      <td>162.200877</td>\n",
       "      <td>-442.863722</td>\n",
       "      <td>-5.338254</td>\n",
       "      <td>128.134267</td>\n",
       "      <td>137.492687</td>\n",
       "      <td>149.939274</td>\n",
       "      <td>75.026103</td>\n",
       "      <td>56.620656</td>\n",
       "      <td>-73.252506</td>\n",
       "      <td>...</td>\n",
       "      <td>0</td>\n",
       "      <td>0</td>\n",
       "      <td>0</td>\n",
       "      <td>0</td>\n",
       "      <td>0</td>\n",
       "      <td>1</td>\n",
       "      <td>0</td>\n",
       "      <td>1</td>\n",
       "      <td>0</td>\n",
       "      <td>50.03</td>\n",
       "    </tr>\n",
       "  </tbody>\n",
       "</table>\n",
       "<p>2 rows × 2306 columns</p>\n",
       "</div>"
      ],
      "text/plain": [
       "                  '3DSPHR'  '3HBCOAHLm'    'ABTArm'     'ABTD'   'ACACT1r'  \\\n",
       "HUG0_SYMBOL                                                                  \n",
       "TCGA-05-4244-01  11.448262   154.187481 -583.764387 -14.237357  125.403072   \n",
       "TCGA-05-4249-01   9.173955   162.200877 -442.863722  -5.338254  128.134267   \n",
       "\n",
       "                 'ACACT1rm'   'ACACT1x'  'ACOAD9m'  'ACOAO7p'    'ACOATA'  \\\n",
       "HUG0_SYMBOL                                                                 \n",
       "TCGA-05-4244-01  235.338244  457.654536  74.716367  72.493260 -165.591744   \n",
       "TCGA-05-4249-01  137.492687  149.939274  75.026103  56.620656  -73.252506   \n",
       "\n",
       "                 ...  Tissue Source Site_MN  Tissue Source Site_MP  \\\n",
       "HUG0_SYMBOL      ...                                                 \n",
       "TCGA-05-4244-01  ...                      0                      0   \n",
       "TCGA-05-4249-01  ...                      0                      0   \n",
       "\n",
       "                 Tissue Source Site_NJ  Tissue Source Site_O1  \\\n",
       "HUG0_SYMBOL                                                     \n",
       "TCGA-05-4244-01                      0                      0   \n",
       "TCGA-05-4249-01                      0                      0   \n",
       "\n",
       "                 Tissue Source Site_S2  Person Neoplasm Status_TUMOR FREE  \\\n",
       "HUG0_SYMBOL                                                                 \n",
       "TCGA-05-4244-01                      0                                  1   \n",
       "TCGA-05-4249-01                      0                                  1   \n",
       "\n",
       "                 Person Neoplasm Status_WITH TUMOR  Vial number_A  \\\n",
       "HUG0_SYMBOL                                                         \n",
       "TCGA-05-4244-01                                  0              1   \n",
       "TCGA-05-4249-01                                  0              1   \n",
       "\n",
       "                 Vial number_B  Overall Survival (Months)  \n",
       "HUG0_SYMBOL                                                \n",
       "TCGA-05-4244-01              0                       0.00  \n",
       "TCGA-05-4249-01              0                      50.03  \n",
       "\n",
       "[2 rows x 2306 columns]"
      ]
     },
     "execution_count": 13,
     "metadata": {},
     "output_type": "execute_result"
    }
   ],
   "source": [
    "dt.head(2)"
   ]
  },
  {
   "cell_type": "code",
   "execution_count": 14,
   "metadata": {},
   "outputs": [],
   "source": [
    "X = dt.iloc[:,0:2305]\n",
    "y1 = dt.iloc[:, -1].values"
   ]
  },
  {
   "cell_type": "code",
   "execution_count": 15,
   "metadata": {},
   "outputs": [],
   "source": [
    "# Splitting the dataset into the Training set and Test set\n",
    "from sklearn.model_selection import train_test_split\n",
    "X_train, X_test, y1_train, y1_test = train_test_split(X, y1, test_size = 0.2, random_state = 0)\n",
    "X_train, X_val, y1_train, y1_val = train_test_split(X_train, y1_train, test_size=0.2, random_state=0)"
   ]
  },
  {
   "cell_type": "code",
   "execution_count": 16,
   "metadata": {},
   "outputs": [],
   "source": [
    "# Splitting the dataset into the Training set and Test set\n",
    "from sklearn.model_selection import train_test_split\n",
    "X_train, X_test, y_train, y_test = train_test_split(X, y, test_size = 0.2, random_state = 0)\n",
    "X_train, X_val, y_train, y_val = train_test_split(X_train, y_train, test_size=0.2, random_state=0)"
   ]
  },
  {
   "cell_type": "code",
   "execution_count": 17,
   "metadata": {},
   "outputs": [
    {
     "name": "stderr",
     "output_type": "stream",
     "text": [
      "/Users/Zayeem/anaconda3/lib/python3.7/site-packages/sklearn/preprocessing/data.py:645: DataConversionWarning: Data with input dtype int64, float64 were all converted to float64 by StandardScaler.\n",
      "  return self.partial_fit(X, y)\n",
      "/Users/Zayeem/anaconda3/lib/python3.7/site-packages/sklearn/base.py:464: DataConversionWarning: Data with input dtype int64, float64 were all converted to float64 by StandardScaler.\n",
      "  return self.fit(X, **fit_params).transform(X)\n",
      "/Users/Zayeem/anaconda3/lib/python3.7/site-packages/ipykernel_launcher.py:5: DataConversionWarning: Data with input dtype int64, float64 were all converted to float64 by StandardScaler.\n",
      "  \"\"\"\n",
      "/Users/Zayeem/anaconda3/lib/python3.7/site-packages/ipykernel_launcher.py:6: DataConversionWarning: Data with input dtype int64, float64 were all converted to float64 by StandardScaler.\n",
      "  \n"
     ]
    }
   ],
   "source": [
    "# Feature Scaling\n",
    "from sklearn.preprocessing import StandardScaler\n",
    "sc_X = StandardScaler()\n",
    "X_train = sc_X.fit_transform(X_train)\n",
    "X_test = sc_X.transform(X_test)\n",
    "X_val = sc_X.transform(X_val)"
   ]
  },
  {
   "cell_type": "code",
   "execution_count": 18,
   "metadata": {},
   "outputs": [],
   "source": [
    "# Create a random forest Regressor\n",
    "rgr = RandomForestRegressor(n_estimators=100, random_state=0)"
   ]
  },
  {
   "cell_type": "code",
   "execution_count": 19,
   "metadata": {},
   "outputs": [
    {
     "data": {
      "text/plain": [
       "RandomForestRegressor(bootstrap=True, criterion='mse', max_depth=None,\n",
       "           max_features='auto', max_leaf_nodes=None,\n",
       "           min_impurity_decrease=0.0, min_impurity_split=None,\n",
       "           min_samples_leaf=1, min_samples_split=2,\n",
       "           min_weight_fraction_leaf=0.0, n_estimators=100, n_jobs=None,\n",
       "           oob_score=False, random_state=0, verbose=0, warm_start=False)"
      ]
     },
     "execution_count": 19,
     "metadata": {},
     "output_type": "execute_result"
    }
   ],
   "source": [
    "# Train the Regressor\n",
    "rgr.fit(X_train, y1_train)"
   ]
  },
  {
   "cell_type": "code",
   "execution_count": null,
   "metadata": {},
   "outputs": [],
   "source": [
    "# Print the name and importance of each feature\n",
    "for feature in zip(X.columns, rgr.feature_importances_):\n",
    "    print(feature)"
   ]
  },
  {
   "cell_type": "code",
   "execution_count": 21,
   "metadata": {},
   "outputs": [],
   "source": [
    "#Select the best features from the regressor\n",
    "sfm = SelectFromModel(rgr)"
   ]
  },
  {
   "cell_type": "code",
   "execution_count": 22,
   "metadata": {},
   "outputs": [
    {
     "data": {
      "text/plain": [
       "SelectFromModel(estimator=RandomForestRegressor(bootstrap=True, criterion='mse', max_depth=None,\n",
       "           max_features='auto', max_leaf_nodes=None,\n",
       "           min_impurity_decrease=0.0, min_impurity_split=None,\n",
       "           min_samples_leaf=1, min_samples_split=2,\n",
       "           min_weight_fraction_leaf=0.0, n_estimators=100, n_jobs=None,\n",
       "           oob_score=False, random_state=0, verbose=0, warm_start=False),\n",
       "        max_features=None, norm_order=1, prefit=False, threshold=None)"
      ]
     },
     "execution_count": 22,
     "metadata": {},
     "output_type": "execute_result"
    }
   ],
   "source": [
    "# Train the Regressor\n",
    "sfm.fit(X_train, y1_train)"
   ]
  },
  {
   "cell_type": "code",
   "execution_count": 23,
   "metadata": {},
   "outputs": [
    {
     "name": "stdout",
     "output_type": "stream",
     "text": [
      "'ACACT1rm'\n",
      "'ACOAD9m'\n",
      "'ACONT'\n",
      "'ACONTm'\n",
      "'ADK1'\n",
      "'ADK1m'\n",
      "'ADK3'\n",
      "'ADK3m'\n",
      "'AKGDm'\n",
      "'ALATA_L'\n",
      "'ARTPLM3'\n",
      "'ASPTA'\n",
      "'CATp'\n",
      "'CKc'\n",
      "'CSNATp'\n",
      "'CSNATr'\n",
      "'CYSGLTH'\n",
      "'CYTK10'\n",
      "'CYTK13'\n",
      "'CYTK2'\n",
      "'CYTK3'\n",
      "'CYTK6'\n",
      "'CYTK7'\n",
      "'DURAD2'\n",
      "'FACOAL1821'\n",
      "'FAS120COA'\n",
      "'FAS160COA'\n",
      "'GALT'\n",
      "'GAPD'\n",
      "'GGT6'\n",
      "'GLPASE1'\n",
      "'GLUDxm'\n",
      "'GLUDym'\n",
      "'GRTTx'\n",
      "'H2CO3Dm'\n",
      "'HMGCOASi'\n",
      "'HMGCOASim'\n",
      "'ITCOALm'\n",
      "'LDH_Lm'\n",
      "'LPS2e'\n",
      "'MCD'\n",
      "'MDH'\n",
      "'MDHm'\n",
      "'MMMm'\n",
      "'MTHFC'\n",
      "'MTHFD'\n",
      "'MTHFD2'\n",
      "'NDPK1'\n",
      "'NDPK2'\n",
      "'NDPK7'\n",
      "'NDPK9'\n",
      "'PEPCKm'\n",
      "'PETOHMr_hs'\n",
      "'PGI'\n",
      "'PUNP3'\n",
      "'PYNP2r'\n",
      "'RNDR1'\n",
      "'RNDR4'\n",
      "'SBTR'\n",
      "'TALA'\n",
      "'TMDK1m'\n",
      "'TMDPP'\n",
      "'UGLT'\n",
      "'UMPK'\n",
      "'UMPK3'\n",
      "'UMPK4'\n",
      "'UMPK5'\n",
      "'VALTA'\n",
      "'r0021'\n",
      "'r0081'\n",
      "'r0086'\n",
      "'r0173'\n",
      "'r0193'\n",
      "'r0226'\n",
      "'r0245'\n",
      "'r0321'\n",
      "'r0330'\n",
      "'r0384'\n",
      "'r0392'\n",
      "'r0407'\n",
      "'r0408'\n",
      "'r0413'\n",
      "'r0438'\n",
      "'r0475'\n",
      "'r0483'\n",
      "'r0556'\n",
      "'r0620'\n",
      "'r0627'\n",
      "'r0643'\n",
      "'r0792'\n",
      "'r1156'\n",
      "'r1384'\n",
      "'RE0452M'\n",
      "'RE0453C'\n",
      "'RE0453M'\n",
      "'RE0579C'\n",
      "'RE0926E'\n",
      "'RE0935E'\n",
      "'RE1530C'\n",
      "'BAAT5x'\n",
      "'RE3273C'\n",
      "'RE3301C'\n",
      "'RE3347C'\n",
      "'DTMPKm'\n",
      "'MTHFR3'\n",
      "'10FTHFtm'\n",
      "'2HBt2'\n",
      "'ACALDt'\n",
      "'ACt2r'\n",
      "'ADEt'\n",
      "'ALADGLYexR'\n",
      "'ARGt4'\n",
      "'ARGtiDF'\n",
      "'ASCBt'\n",
      "'ASNt4'\n",
      "'ASNtN1'\n",
      "'ATPS4m'\n",
      "'BUTt2r'\n",
      "'CHOLATEt'\n",
      "'CO2tm'\n",
      "'COAtm'\n",
      "'CRNCARtp'\n",
      "'CRNt'\n",
      "'CRNtuNa'\n",
      "'CYANt'\n",
      "'CYOR_u10m'\n",
      "'CYStec'\n",
      "'DAGt'\n",
      "'DATPtn'\n",
      "'DGCHOLte'\n",
      "'DNDPt9m'\n",
      "'DTDPtn'\n",
      "'FATP2t'\n",
      "'FATP6t'\n",
      "'FATP8t'\n",
      "'FOLt2'\n",
      "'FRUt4'\n",
      "'FUMTSULtm'\n",
      "'GALt1r'\n",
      "'GALt2_2'\n",
      "'GCHOLAte'\n",
      "'GCHOLAtx'\n",
      "'GLCt2_2'\n",
      "'GLCter'\n",
      "'GLNtN1'\n",
      "'GLUt2m'\n",
      "'GSNt'\n",
      "'GUAt'\n",
      "'H2O2tp'\n",
      "'H2Ot'\n",
      "'H2Oter'\n",
      "'HOMt4'\n",
      "'HYXNt'\n",
      "'LEUt5m'\n",
      "'L_LACt2r'\n",
      "'L_LACt4r'\n",
      "'L_LACtm'\n",
      "'LYStiDF'\n",
      "'MALSO3tm'\n",
      "'MALSO4tm'\n",
      "'MALTSULtm'\n",
      "'NADPtru'\n",
      "'NKCCt'\n",
      "'O2tm'\n",
      "'ORNt3m'\n",
      "'PCHOL_HSter'\n",
      "'PE_HSter'\n",
      "'PEt'\n",
      "'PIt2m'\n",
      "'PROSTGF2t'\n",
      "'PYRt2r'\n",
      "'RETNt'\n",
      "'SERCYSNaEx'\n",
      "'SERGLYexR'\n",
      "'SERt4'\n",
      "'SO4HCOtex'\n",
      "'SRTNtu'\n",
      "'SUCCt2m'\n",
      "'TCHOLAt'\n",
      "'TCHOLAtx'\n",
      "'TDCHOLAtx'\n",
      "'THD1m'\n",
      "'THFt2'\n",
      "'THMDt4'\n",
      "'THRt4'\n",
      "'THYMt'\n",
      "'TRPt4'\n",
      "'URIt'\n",
      "'VALtec'\n",
      "'r0819'\n",
      "'r0829'\n",
      "'r0921'\n",
      "'r0995'\n",
      "'r1000'\n",
      "'r1019'\n",
      "'r1043'\n",
      "'r1045'\n",
      "'r1147'\n",
      "'r1291'\n",
      "'r1400'\n",
      "'r1464'\n",
      "'r1552'\n",
      "'r1568'\n",
      "'r1586'\n",
      "'r1588'\n",
      "'r1589'\n",
      "'r1591'\n",
      "'r1593'\n",
      "'r1594'\n",
      "'r1608'\n",
      "'r1609'\n",
      "'r1614'\n",
      "'r1617'\n",
      "'r1621'\n",
      "'r1628'\n",
      "'r1631'\n",
      "'r1658'\n",
      "'r1668'\n",
      "'r1669'\n",
      "'r1671'\n",
      "'r1710'\n",
      "'r1784'\n",
      "'r1807'\n",
      "'r1822'\n",
      "'r1825'\n",
      "'r1826'\n",
      "'r1827'\n",
      "'r1830'\n",
      "'r1831'\n",
      "'r1833'\n",
      "'r1834'\n",
      "'r1835'\n",
      "'r1842'\n",
      "'r1860'\n",
      "'r1867'\n",
      "'r1919'\n",
      "'r1924'\n",
      "'r1929'\n",
      "'r1930'\n",
      "'r1934'\n",
      "'r1963'\n",
      "'r1964'\n",
      "'r1965'\n",
      "'r1974'\n",
      "'r1975'\n",
      "'r1984'\n",
      "'r1995'\n",
      "'r1997'\n",
      "'r1998'\n",
      "'r2008'\n",
      "'r2011'\n",
      "'r2012'\n",
      "'r2020'\n",
      "'r2022'\n",
      "'r2040'\n",
      "'r2064'\n",
      "'r2079'\n",
      "'r2080'\n",
      "'r2082'\n",
      "'r2085'\n",
      "'r2087'\n",
      "'r2088'\n",
      "'r2089'\n",
      "'r2100'\n",
      "'r2104'\n",
      "'r2108'\n",
      "'r2112'\n",
      "'r2113'\n",
      "'r2116'\n",
      "'r2118'\n",
      "'r2119'\n",
      "'r2122'\n",
      "'r2123'\n",
      "'r2124'\n",
      "'r2126'\n",
      "'r2129'\n",
      "'r2130'\n",
      "'r2140'\n",
      "'r2148'\n",
      "'r2259'\n",
      "'r2294'\n",
      "'r2309'\n",
      "'r2314'\n",
      "'r2321'\n",
      "'r2334'\n",
      "'r2371'\n",
      "'r2377'\n",
      "'r2386'\n",
      "'r2408'\n",
      "'r2416'\n",
      "'r2490'\n",
      "'r2516'\n",
      "'r2526'\n",
      "'CITt4_4'\n",
      "'PIt8'\n",
      "'PIt9'\n",
      "'CYOOm3'\n",
      "'C2tcx'\n",
      "'FOLTle'\n",
      "'ILEATB0tc'\n",
      "'SERATB0tc'\n",
      "'THRPHELAT2tc'\n",
      "'3HCO3_NAt'\n",
      "'DATPtm'\n",
      "'GLUPROASCT1'\n",
      "'KHte'\n",
      "'PPItm'\n",
      "'TAURCHAe'\n",
      "'EX_5mthf(e)'\n",
      "'EX_ac(e)'\n",
      "'EX_cys_L(e)'\n",
      "'EX_duri(e)'\n",
      "'EX_gal(e)'\n",
      "'EX_glyc(e)'\n",
      "'EX_gsn(e)'\n",
      "'EX_hdca(e)'\n",
      "'EX_hdcea(e)'\n",
      "'EX_lnlncg(e)'\n",
      "'EX_orn(e)'\n",
      "'EX_pe_hs(e)'\n",
      "'EX_so4(e)'\n",
      "'EX_tcynt(e)'\n",
      "'EX_tyr_L(e)'\n",
      "'EX_ura(e)'\n",
      "'EX_urate(e)'\n",
      "'EX_urea(e)'\n",
      "'EX_uri(e)'\n",
      "'EX_HC01577(e)'\n",
      "'EX_orot(e)'\n",
      "'EX_citr_L(e)'\n",
      "'EX_HC02207(e)'\n",
      "'EX_maltttr(e)'\n",
      "'EX_CE5797(e)'\n",
      "'EX_CE5798(e)'\n",
      "'EX_CE4633(e)'\n",
      "'EX_CE0074(e)'\n",
      "'EX_bglc(e)'\n",
      "'EX_gum(e)'\n",
      "'EX_psyl(e)'\n",
      "'EX_q10(e)'\n",
      "'ACSMCT1'\n",
      "'CYTDt2r'\n",
      "'DOPAENT4tc'\n",
      "'GSNt2r'\n",
      "'ILEB0AT2tc'\n",
      "'SERB0AT3tc'\n",
      "'VALB0AT2tc'\n",
      "'AM4N9CShc'\n",
      "'TMDOATtev'\n",
      "'TMDOATthc'\n",
      "Diagnosis Age\n",
      "Birth from Initial Pathologic Diagnosis Date\n",
      "Fraction Genome Altered\n",
      "Year Cancer Initial Diagnosis\n",
      "Longest Dimension\n",
      "Shortest Dimension\n",
      "Specimen Second Longest Dimension\n",
      "Patient Smoking History Category\n",
      "American Joint Committee on Cancer Metastasis Stage Code_MX\n",
      "Neoplasm Disease Lymph Node Stage American Joint Committee on Cancer Code_N0\n",
      "Neoplasm Disease Stage American Joint Committee on Cancer Code3_Stage IIIA\n",
      "American Joint Committee on Cancer Publication Version Type_6th\n",
      "American Joint Committee on Cancer Publication Version Type_7th\n",
      "American Joint Committee on Cancer Tumor Stage Code_T1\n",
      "Form completion date_40371\n",
      "Form completion date_40581\n",
      "Form completion date_11/17/11\n",
      "Form completion date_6/19/14\n",
      "Form completion date_7/21/11\n",
      "Form completion date_7/22/10\n",
      "Form completion date_7/27/11\n",
      "Form completion date_9/23/11\n",
      "Form completion date_9/29/11\n",
      "ICD-10 Classification_C34.3\n",
      "Overall Survival Status_DECEASED\n",
      "Overall Survival Status_LIVING\n",
      "Sex_Female\n",
      "Sex_Male2\n",
      "Tissue Source Site_5\n",
      "Tissue Source Site_50\n",
      "Tissue Source Site_75\n",
      "Person Neoplasm Status_WITH TUMOR\n"
     ]
    }
   ],
   "source": [
    "# Print the names of the most important features\n",
    "for feature_list_index in sfm.get_support(indices=True):\n",
    "    print(X.columns[feature_list_index])"
   ]
  },
  {
   "cell_type": "code",
   "execution_count": 24,
   "metadata": {},
   "outputs": [
    {
     "data": {
      "text/plain": [
       "382"
      ]
     },
     "execution_count": 24,
     "metadata": {},
     "output_type": "execute_result"
    }
   ],
   "source": [
    "sfm.get_support().sum()"
   ]
  },
  {
   "cell_type": "code",
   "execution_count": 25,
   "metadata": {},
   "outputs": [],
   "source": [
    "# Transform the data to create a new dataset containing only the most important features\n",
    "# Note: We have to apply the transform to both the training X and test X data.\n",
    "X_important_train = sfm.transform(X_train)\n",
    "X_important_val = sfm.transform(X_val)\n",
    "X_important_test = sfm.transform(X_test)"
   ]
  },
  {
   "cell_type": "code",
   "execution_count": 26,
   "metadata": {},
   "outputs": [
    {
     "name": "stdout",
     "output_type": "stream",
     "text": [
      "iter     11: optimization converged\n"
     ]
    },
    {
     "data": {
      "text/plain": [
       "CoxPHSurvivalAnalysis(alpha=1, n_iter=100, tol=1e-09, verbose=1)"
      ]
     },
     "execution_count": 26,
     "metadata": {},
     "output_type": "execute_result"
    }
   ],
   "source": [
    "from sksurv.linear_model import CoxPHSurvivalAnalysis\n",
    "estimator = CoxPHSurvivalAnalysis(verbose=1,alpha=1)\n",
    "estimator.fit(X_important_train, y_train)"
   ]
  },
  {
   "cell_type": "code",
   "execution_count": 27,
   "metadata": {},
   "outputs": [
    {
     "data": {
      "text/plain": [
       "0.6476683937823834"
      ]
     },
     "execution_count": 27,
     "metadata": {},
     "output_type": "execute_result"
    }
   ],
   "source": [
    "from sksurv.metrics import concordance_index_censored\n",
    "\n",
    "prediction = estimator.predict(X_important_val)\n",
    "result = concordance_index_censored(y_val['Patient\\'s Vital Status'], y_val['Survival '], prediction)\n",
    "result[0]"
   ]
  },
  {
   "cell_type": "code",
   "execution_count": 28,
   "metadata": {},
   "outputs": [
    {
     "name": "stdout",
     "output_type": "stream",
     "text": [
      "iter     15: optimization converged\n",
      "iter     14: optimization converged\n",
      "iter     13: optimization converged\n",
      "0.7044007001761329 0.006218379957709117\n"
     ]
    }
   ],
   "source": [
    "# KFOlD\n",
    "from sklearn.model_selection import cross_val_score\n",
    "from sklearn.model_selection import KFold\n",
    "kfold = KFold(n_splits=3, random_state=0)\n",
    "results = cross_val_score(estimator, X_important_train, y_train, cv=kfold)\n",
    "print(results.mean(), results.std())"
   ]
  },
  {
   "cell_type": "code",
   "execution_count": null,
   "metadata": {},
   "outputs": [],
   "source": [
    "-------------------------------OPTIMISATION---------------------------------------"
   ]
  },
  {
   "cell_type": "code",
   "execution_count": 29,
   "metadata": {},
   "outputs": [
    {
     "name": "stderr",
     "output_type": "stream",
     "text": [
      "/Users/Zayeem/anaconda3/lib/python3.7/site-packages/sklearn/model_selection/_validation.py:528: ConvergenceWarning: Optimization did not converge: Maximum number of iterations has been exceeded.\n",
      "  estimator.fit(X_train, y_train, **fit_params)\n",
      "/Users/Zayeem/anaconda3/lib/python3.7/site-packages/sklearn/model_selection/_validation.py:528: ConvergenceWarning: Optimization did not converge: Maximum number of iterations has been exceeded.\n",
      "  estimator.fit(X_train, y_train, **fit_params)\n",
      "/Users/Zayeem/anaconda3/lib/python3.7/site-packages/sklearn/model_selection/_validation.py:528: ConvergenceWarning: Optimization did not converge: Maximum number of iterations has been exceeded.\n",
      "  estimator.fit(X_train, y_train, **fit_params)\n",
      "/Users/Zayeem/anaconda3/lib/python3.7/site-packages/sklearn/model_selection/_validation.py:528: ConvergenceWarning: Optimization did not converge: Maximum number of iterations has been exceeded.\n",
      "  estimator.fit(X_train, y_train, **fit_params)\n",
      "/Users/Zayeem/anaconda3/lib/python3.7/site-packages/sklearn/model_selection/_validation.py:528: ConvergenceWarning: Optimization did not converge: Maximum number of iterations has been exceeded.\n",
      "  estimator.fit(X_train, y_train, **fit_params)\n"
     ]
    },
    {
     "name": "stdout",
     "output_type": "stream",
     "text": [
      "Best: 0.726147 using {'tol': 0.005, 'n_iter': 4, 'alpha': 10}\n"
     ]
    }
   ],
   "source": [
    "from sklearn.model_selection import RandomizedSearchCV\n",
    "param_grid = {  'alpha':[0.1,0.2,0.3,0.4,0.5,0.6,0.7,0.8,0.9,1.0,2,3,4,5,6,7,8,9,10],\n",
    "                'n_iter':[1,2,3,4,5,6,7,8,9,10,100],\n",
    "                'tol':[0.001,0.01,0.1,0.005,0.05,0.5,1.0,2,5,10,15,20,25,30],\n",
    "                \n",
    "                 }  \n",
    "regressor = CoxPHSurvivalAnalysis()\n",
    "random=RandomizedSearchCV(estimator=regressor,param_distributions=param_grid,cv=3,n_iter=10)\n",
    "random_result=random.fit(X_important_train,y_train)\n",
    "print(\"Best: %f using %s\" % (random_result.best_score_,random_result.best_params_))"
   ]
  },
  {
   "cell_type": "code",
   "execution_count": 30,
   "metadata": {},
   "outputs": [
    {
     "data": {
      "text/plain": [
       "CoxPHSurvivalAnalysis(alpha=10, n_iter=4, tol=0.005, verbose=0)"
      ]
     },
     "execution_count": 30,
     "metadata": {},
     "output_type": "execute_result"
    }
   ],
   "source": [
    "from sksurv.linear_model import CoxPHSurvivalAnalysis\n",
    "estimator = CoxPHSurvivalAnalysis(alpha=10,n_iter=4,tol=0.005,verbose=0)\n",
    "estimator.fit(X_important_train, y_train)"
   ]
  },
  {
   "cell_type": "code",
   "execution_count": 31,
   "metadata": {},
   "outputs": [
    {
     "data": {
      "text/plain": [
       "0.6545768566493955"
      ]
     },
     "execution_count": 31,
     "metadata": {},
     "output_type": "execute_result"
    }
   ],
   "source": [
    "from sksurv.metrics import concordance_index_censored\n",
    "\n",
    "prediction = estimator.predict(X_important_val)\n",
    "result = concordance_index_censored(y_val['Patient\\'s Vital Status'], y_val['Survival '], prediction)\n",
    "result[0]"
   ]
  },
  {
   "cell_type": "code",
   "execution_count": 32,
   "metadata": {},
   "outputs": [
    {
     "data": {
      "text/plain": [
       "CoxPHSurvivalAnalysis(alpha=10, n_iter=4, tol=0.005, verbose=0)"
      ]
     },
     "execution_count": 32,
     "metadata": {},
     "output_type": "execute_result"
    }
   ],
   "source": [
    "#################Testing Set###########################\n",
    "from sksurv.linear_model import CoxPHSurvivalAnalysis\n",
    "estimator = CoxPHSurvivalAnalysis(alpha=10,n_iter=4,tol=0.005,verbose=0)\n",
    "estimator.fit(X_important_train, y_train)"
   ]
  },
  {
   "cell_type": "code",
   "execution_count": 33,
   "metadata": {},
   "outputs": [
    {
     "data": {
      "text/plain": [
       "0.7550479973518702"
      ]
     },
     "execution_count": 33,
     "metadata": {},
     "output_type": "execute_result"
    }
   ],
   "source": [
    "from sksurv.metrics import concordance_index_censored\n",
    "\n",
    "prediction = estimator.predict(X_important_test)\n",
    "result = concordance_index_censored(y_test['Patient\\'s Vital Status'], y_test['Survival '], prediction)\n",
    "result[0]"
   ]
  },
  {
   "cell_type": "code",
   "execution_count": null,
   "metadata": {},
   "outputs": [],
   "source": []
  }
 ],
 "metadata": {
  "kernelspec": {
   "display_name": "Python 3",
   "language": "python",
   "name": "python3"
  },
  "language_info": {
   "codemirror_mode": {
    "name": "ipython",
    "version": 3
   },
   "file_extension": ".py",
   "mimetype": "text/x-python",
   "name": "python",
   "nbconvert_exporter": "python",
   "pygments_lexer": "ipython3",
   "version": "3.7.3"
  }
 },
 "nbformat": 4,
 "nbformat_minor": 2
}
