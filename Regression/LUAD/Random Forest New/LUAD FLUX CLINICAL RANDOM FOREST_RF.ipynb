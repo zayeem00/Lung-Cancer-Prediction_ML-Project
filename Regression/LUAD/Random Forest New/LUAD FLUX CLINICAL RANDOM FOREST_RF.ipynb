{
 "cells": [
  {
   "cell_type": "code",
   "execution_count": 1,
   "metadata": {},
   "outputs": [],
   "source": [
    "#importing necessary python packages\n",
    "import pandas as pd\n",
    "import numpy as np\n",
    "from sklearn.ensemble import RandomForestRegressor\n",
    "from sklearn.feature_selection import SelectFromModel"
   ]
  },
  {
   "cell_type": "code",
   "execution_count": 2,
   "metadata": {},
   "outputs": [],
   "source": [
    "# Importing the dataset\n",
    "dt = pd.read_excel('Flux Clinical.xlsx',index_col=0)\n"
   ]
  },
  {
   "cell_type": "code",
   "execution_count": 3,
   "metadata": {
    "scrolled": true
   },
   "outputs": [
    {
     "data": {
      "text/plain": [
       "(517, 2309)"
      ]
     },
     "execution_count": 3,
     "metadata": {},
     "output_type": "execute_result"
    }
   ],
   "source": [
    "dt.shape"
   ]
  },
  {
   "cell_type": "code",
   "execution_count": 4,
   "metadata": {},
   "outputs": [
    {
     "data": {
      "text/html": [
       "<div>\n",
       "<style scoped>\n",
       "    .dataframe tbody tr th:only-of-type {\n",
       "        vertical-align: middle;\n",
       "    }\n",
       "\n",
       "    .dataframe tbody tr th {\n",
       "        vertical-align: top;\n",
       "    }\n",
       "\n",
       "    .dataframe thead th {\n",
       "        text-align: right;\n",
       "    }\n",
       "</style>\n",
       "<table border=\"1\" class=\"dataframe\">\n",
       "  <thead>\n",
       "    <tr style=\"text-align: right;\">\n",
       "      <th></th>\n",
       "      <th>'3DSPHR'</th>\n",
       "      <th>'3HBCOAHLm'</th>\n",
       "      <th>'ABTArm'</th>\n",
       "      <th>'ABTD'</th>\n",
       "      <th>'ACACT1r'</th>\n",
       "      <th>'ACACT1rm'</th>\n",
       "      <th>'ACACT1x'</th>\n",
       "      <th>'ACOAD9m'</th>\n",
       "      <th>'ACOAO7p'</th>\n",
       "      <th>'ACOATA'</th>\n",
       "      <th>...</th>\n",
       "      <th>Tissue Source Site_NJ</th>\n",
       "      <th>Tissue Source Site_O1</th>\n",
       "      <th>Tissue Source Site_S2</th>\n",
       "      <th>Person Neoplasm Status_TUMOR FREE</th>\n",
       "      <th>Person Neoplasm Status_WITH TUMOR</th>\n",
       "      <th>Vial number_A</th>\n",
       "      <th>Vial number_B</th>\n",
       "      <th>Patient's Vital Status_Alive</th>\n",
       "      <th>Patient's Vital Status_Dead</th>\n",
       "      <th>Overall Survival (Months)</th>\n",
       "    </tr>\n",
       "    <tr>\n",
       "      <th>HUG0_SYMBOL</th>\n",
       "      <th></th>\n",
       "      <th></th>\n",
       "      <th></th>\n",
       "      <th></th>\n",
       "      <th></th>\n",
       "      <th></th>\n",
       "      <th></th>\n",
       "      <th></th>\n",
       "      <th></th>\n",
       "      <th></th>\n",
       "      <th></th>\n",
       "      <th></th>\n",
       "      <th></th>\n",
       "      <th></th>\n",
       "      <th></th>\n",
       "      <th></th>\n",
       "      <th></th>\n",
       "      <th></th>\n",
       "      <th></th>\n",
       "      <th></th>\n",
       "      <th></th>\n",
       "    </tr>\n",
       "  </thead>\n",
       "  <tbody>\n",
       "    <tr>\n",
       "      <th>TCGA-05-4244-01</th>\n",
       "      <td>11.448262</td>\n",
       "      <td>154.187481</td>\n",
       "      <td>-583.764387</td>\n",
       "      <td>-14.237357</td>\n",
       "      <td>125.403072</td>\n",
       "      <td>235.338244</td>\n",
       "      <td>457.654536</td>\n",
       "      <td>74.716367</td>\n",
       "      <td>72.493260</td>\n",
       "      <td>-165.591744</td>\n",
       "      <td>...</td>\n",
       "      <td>0</td>\n",
       "      <td>0</td>\n",
       "      <td>0</td>\n",
       "      <td>1</td>\n",
       "      <td>0</td>\n",
       "      <td>1</td>\n",
       "      <td>0</td>\n",
       "      <td>1</td>\n",
       "      <td>0</td>\n",
       "      <td>0.00</td>\n",
       "    </tr>\n",
       "    <tr>\n",
       "      <th>TCGA-05-4249-01</th>\n",
       "      <td>9.173955</td>\n",
       "      <td>162.200877</td>\n",
       "      <td>-442.863722</td>\n",
       "      <td>-5.338254</td>\n",
       "      <td>128.134267</td>\n",
       "      <td>137.492687</td>\n",
       "      <td>149.939274</td>\n",
       "      <td>75.026103</td>\n",
       "      <td>56.620656</td>\n",
       "      <td>-73.252506</td>\n",
       "      <td>...</td>\n",
       "      <td>0</td>\n",
       "      <td>0</td>\n",
       "      <td>0</td>\n",
       "      <td>1</td>\n",
       "      <td>0</td>\n",
       "      <td>1</td>\n",
       "      <td>0</td>\n",
       "      <td>1</td>\n",
       "      <td>0</td>\n",
       "      <td>50.03</td>\n",
       "    </tr>\n",
       "  </tbody>\n",
       "</table>\n",
       "<p>2 rows × 2309 columns</p>\n",
       "</div>"
      ],
      "text/plain": [
       "                  '3DSPHR'  '3HBCOAHLm'    'ABTArm'     'ABTD'   'ACACT1r'  \\\n",
       "HUG0_SYMBOL                                                                  \n",
       "TCGA-05-4244-01  11.448262   154.187481 -583.764387 -14.237357  125.403072   \n",
       "TCGA-05-4249-01   9.173955   162.200877 -442.863722  -5.338254  128.134267   \n",
       "\n",
       "                 'ACACT1rm'   'ACACT1x'  'ACOAD9m'  'ACOAO7p'    'ACOATA'  \\\n",
       "HUG0_SYMBOL                                                                 \n",
       "TCGA-05-4244-01  235.338244  457.654536  74.716367  72.493260 -165.591744   \n",
       "TCGA-05-4249-01  137.492687  149.939274  75.026103  56.620656  -73.252506   \n",
       "\n",
       "                 ...  Tissue Source Site_NJ  Tissue Source Site_O1  \\\n",
       "HUG0_SYMBOL      ...                                                 \n",
       "TCGA-05-4244-01  ...                      0                      0   \n",
       "TCGA-05-4249-01  ...                      0                      0   \n",
       "\n",
       "                 Tissue Source Site_S2  Person Neoplasm Status_TUMOR FREE  \\\n",
       "HUG0_SYMBOL                                                                 \n",
       "TCGA-05-4244-01                      0                                  1   \n",
       "TCGA-05-4249-01                      0                                  1   \n",
       "\n",
       "                 Person Neoplasm Status_WITH TUMOR  Vial number_A  \\\n",
       "HUG0_SYMBOL                                                         \n",
       "TCGA-05-4244-01                                  0              1   \n",
       "TCGA-05-4249-01                                  0              1   \n",
       "\n",
       "                 Vial number_B  Patient's Vital Status_Alive  \\\n",
       "HUG0_SYMBOL                                                    \n",
       "TCGA-05-4244-01              0                             1   \n",
       "TCGA-05-4249-01              0                             1   \n",
       "\n",
       "                 Patient's Vital Status_Dead  Overall Survival (Months)  \n",
       "HUG0_SYMBOL                                                              \n",
       "TCGA-05-4244-01                            0                       0.00  \n",
       "TCGA-05-4249-01                            0                      50.03  \n",
       "\n",
       "[2 rows x 2309 columns]"
      ]
     },
     "execution_count": 4,
     "metadata": {},
     "output_type": "execute_result"
    }
   ],
   "source": [
    "dt.head(2)"
   ]
  },
  {
   "cell_type": "code",
   "execution_count": 5,
   "metadata": {},
   "outputs": [],
   "source": [
    "del dt['Column1']\n",
    "del dt['Patient\\'s Vital Status_Dead']\n",
    "del dt['Patient\\'s Vital Status_Alive']"
   ]
  },
  {
   "cell_type": "code",
   "execution_count": 6,
   "metadata": {},
   "outputs": [],
   "source": [
    "X = dt.iloc[:,0:2304]\n",
    "y = dt.iloc[:, -1].values"
   ]
  },
  {
   "cell_type": "code",
   "execution_count": 7,
   "metadata": {},
   "outputs": [],
   "source": [
    "# Splitting the dataset into the Training set and Test set\n",
    "from sklearn.model_selection import train_test_split\n",
    "X_train, X_test, y_train, y_test = train_test_split(X, y, test_size = 0.2, random_state = 0)\n",
    "X_train, X_val, y_train, y_val = train_test_split(X_train, y_train, test_size=0.2, random_state=0)"
   ]
  },
  {
   "cell_type": "code",
   "execution_count": 8,
   "metadata": {},
   "outputs": [
    {
     "name": "stderr",
     "output_type": "stream",
     "text": [
      "/Users/Zayeem/anaconda3/lib/python3.7/site-packages/sklearn/preprocessing/data.py:645: DataConversionWarning: Data with input dtype int64, float64 were all converted to float64 by StandardScaler.\n",
      "  return self.partial_fit(X, y)\n",
      "/Users/Zayeem/anaconda3/lib/python3.7/site-packages/sklearn/base.py:464: DataConversionWarning: Data with input dtype int64, float64 were all converted to float64 by StandardScaler.\n",
      "  return self.fit(X, **fit_params).transform(X)\n",
      "/Users/Zayeem/anaconda3/lib/python3.7/site-packages/ipykernel_launcher.py:5: DataConversionWarning: Data with input dtype int64, float64 were all converted to float64 by StandardScaler.\n",
      "  \"\"\"\n",
      "/Users/Zayeem/anaconda3/lib/python3.7/site-packages/ipykernel_launcher.py:6: DataConversionWarning: Data with input dtype int64, float64 were all converted to float64 by StandardScaler.\n",
      "  \n"
     ]
    }
   ],
   "source": [
    "# Feature Scaling\n",
    "from sklearn.preprocessing import StandardScaler\n",
    "sc_X = StandardScaler()\n",
    "X_train = sc_X.fit_transform(X_train)\n",
    "X_test = sc_X.transform(X_test)\n",
    "X_val = sc_X.transform(X_val)"
   ]
  },
  {
   "cell_type": "code",
   "execution_count": 9,
   "metadata": {},
   "outputs": [],
   "source": [
    "# Create a random forest Regressor\n",
    "rgr = RandomForestRegressor(n_estimators=100, random_state=0)"
   ]
  },
  {
   "cell_type": "code",
   "execution_count": 10,
   "metadata": {},
   "outputs": [
    {
     "data": {
      "text/plain": [
       "RandomForestRegressor(bootstrap=True, criterion='mse', max_depth=None,\n",
       "           max_features='auto', max_leaf_nodes=None,\n",
       "           min_impurity_decrease=0.0, min_impurity_split=None,\n",
       "           min_samples_leaf=1, min_samples_split=2,\n",
       "           min_weight_fraction_leaf=0.0, n_estimators=100, n_jobs=None,\n",
       "           oob_score=False, random_state=0, verbose=0, warm_start=False)"
      ]
     },
     "execution_count": 10,
     "metadata": {},
     "output_type": "execute_result"
    }
   ],
   "source": [
    "# Train the Regressor\n",
    "rgr.fit(X_train, y_train)"
   ]
  },
  {
   "cell_type": "code",
   "execution_count": null,
   "metadata": {},
   "outputs": [],
   "source": [
    "# Print the name and importance of each feature\n",
    "for feature in zip(X.columns, rgr.feature_importances_):\n",
    "    print(feature)"
   ]
  },
  {
   "cell_type": "code",
   "execution_count": 12,
   "metadata": {},
   "outputs": [],
   "source": [
    "#Select the best features from the regressor\n",
    "sfm = SelectFromModel(rgr)"
   ]
  },
  {
   "cell_type": "code",
   "execution_count": 13,
   "metadata": {},
   "outputs": [
    {
     "data": {
      "text/plain": [
       "SelectFromModel(estimator=RandomForestRegressor(bootstrap=True, criterion='mse', max_depth=None,\n",
       "           max_features='auto', max_leaf_nodes=None,\n",
       "           min_impurity_decrease=0.0, min_impurity_split=None,\n",
       "           min_samples_leaf=1, min_samples_split=2,\n",
       "           min_weight_fraction_leaf=0.0, n_estimators=100, n_jobs=None,\n",
       "           oob_score=False, random_state=0, verbose=0, warm_start=False),\n",
       "        max_features=None, norm_order=1, prefit=False, threshold=None)"
      ]
     },
     "execution_count": 13,
     "metadata": {},
     "output_type": "execute_result"
    }
   ],
   "source": [
    "# Train the Regressor\n",
    "sfm.fit(X_train, y_train)"
   ]
  },
  {
   "cell_type": "code",
   "execution_count": 14,
   "metadata": {},
   "outputs": [
    {
     "name": "stdout",
     "output_type": "stream",
     "text": [
      "'ACACT1rm'\n",
      "'ACOAD9m'\n",
      "'ACONT'\n",
      "'ACONTm'\n",
      "'ADK1'\n",
      "'ADK1m'\n",
      "'ADK3'\n",
      "'ADK3m'\n",
      "'AKGDm'\n",
      "'AMPDA'\n",
      "'ARTPLM3'\n",
      "'ASPTA'\n",
      "'CATm'\n",
      "'CATp'\n",
      "'CKc'\n",
      "'CSNATp'\n",
      "'CSNATr'\n",
      "'CYSGLTH'\n",
      "'CYTK10'\n",
      "'CYTK13'\n",
      "'CYTK3'\n",
      "'CYTK6'\n",
      "'CYTK7'\n",
      "'DESAT18_6'\n",
      "'DURAD2'\n",
      "'FACOAL1821'\n",
      "'FAS120COA'\n",
      "'GALT'\n",
      "'GLUDxm'\n",
      "'GLUDym'\n",
      "'H2CO3Dm'\n",
      "'HMGCOASi'\n",
      "'ICDHyrm'\n",
      "'IPDDIx'\n",
      "'LDH_Lm'\n",
      "'LPS2e'\n",
      "'MCD'\n",
      "'MDH'\n",
      "'MMMm'\n",
      "'MTHFC'\n",
      "'MTHFD'\n",
      "'MTHFD2'\n",
      "'NDPK1'\n",
      "'NDPK1m'\n",
      "'NDPK2'\n",
      "'NDPK6'\n",
      "'NDPK7'\n",
      "'NDPK9'\n",
      "'NDPK9n'\n",
      "'PEPCKm'\n",
      "'PETOHMr_hs'\n",
      "'PGI'\n",
      "'PGMT'\n",
      "'PUNP3'\n",
      "'PYNP2r'\n",
      "'RNDR1'\n",
      "'RNDR4'\n",
      "'SBTR'\n",
      "'TMDK1m'\n",
      "'TMDPP'\n",
      "'UGLT'\n",
      "'UMPK'\n",
      "'UMPK4'\n",
      "'UMPK5'\n",
      "'VALTA'\n",
      "'r0021'\n",
      "'r0081'\n",
      "'r0130'\n",
      "'r0157'\n",
      "'r0160'\n",
      "'r0173'\n",
      "'r0193'\n",
      "'r0226'\n",
      "'r0245'\n",
      "'r0321'\n",
      "'r0330'\n",
      "'r0345'\n",
      "'r0392'\n",
      "'r0407'\n",
      "'r0408'\n",
      "'r0409'\n",
      "'r0413'\n",
      "'r0438'\n",
      "'r0475'\n",
      "'r0483'\n",
      "'r0556'\n",
      "'r0627'\n",
      "'r0641'\n",
      "'r0649'\n",
      "'r0678'\n",
      "'r0792'\n",
      "'r1156'\n",
      "'r1384'\n",
      "'r1391'\n",
      "'r1418'\n",
      "'r1481'\n",
      "'r1487'\n",
      "'RE0453C'\n",
      "'RE0453M'\n",
      "'RE1530C'\n",
      "'RE1796R'\n",
      "'BAAT5x'\n",
      "'RE2273E'\n",
      "'RE2888E'\n",
      "'RE3347C'\n",
      "'DTMPKm'\n",
      "'MTHFR3'\n",
      "'2HBt2'\n",
      "'ACALDt'\n",
      "'ACCOAtr'\n",
      "'ACt2r'\n",
      "'ADEt'\n",
      "'AKGMALtm'\n",
      "'ALADGLYexR'\n",
      "'ARGt4'\n",
      "'ARGtiDF'\n",
      "'ARTFR12'\n",
      "'ASNt4'\n",
      "'ASNtN1'\n",
      "'ATPS4m'\n",
      "'BUTt2r'\n",
      "'CHOLATEt'\n",
      "'CO2tm'\n",
      "'COAtm'\n",
      "'CRNCARtp'\n",
      "'CRNt'\n",
      "'CRNtuNa'\n",
      "'CYSGLUexR'\n",
      "'CYStec'\n",
      "'DATPtn'\n",
      "'DGCHOLte'\n",
      "'DIDPtn'\n",
      "'DNDPt9m'\n",
      "'DURIt'\n",
      "'FATP2t'\n",
      "'FATP8t'\n",
      "'FOLt2'\n",
      "'FRUt4'\n",
      "'FUMTSULtm'\n",
      "'GALt1r'\n",
      "'GALt2_2'\n",
      "'GCHOLAte'\n",
      "'GCHOLAtx'\n",
      "'GLCt2_2'\n",
      "'GLNtN1'\n",
      "'GLUt2m'\n",
      "'GSNt'\n",
      "'GUAt'\n",
      "'H2O2tp'\n",
      "'H2Ot'\n",
      "'H2Oter'\n",
      "'HDCEAtr'\n",
      "'HDD2COAtx'\n",
      "'HIStiDF'\n",
      "'L_LACt2r'\n",
      "'L_LACt4r'\n",
      "'L_LACtm'\n",
      "'LYStiDF'\n",
      "'MALSO3tm'\n",
      "'MALSO4tm'\n",
      "'MALTSULtm'\n",
      "'NADPtru'\n",
      "'NKCCt'\n",
      "'O2tm'\n",
      "'ORNt3m'\n",
      "'PCHOL_HSter'\n",
      "'PE_HSter'\n",
      "'PEt'\n",
      "'PIt2m'\n",
      "'PIter'\n",
      "'PROSTGF2t'\n",
      "'PYRt2r'\n",
      "'SERCYSNaEx'\n",
      "'SERDGLYexR'\n",
      "'SERGLYexR'\n",
      "'SO4HCOtex'\n",
      "'SRTNtu'\n",
      "'SUCCt2m'\n",
      "'TCHOLAtx'\n",
      "'TDCHOLAte'\n",
      "'TDCHOLAtx'\n",
      "'THD1m'\n",
      "'THFt2'\n",
      "'THMDt4'\n",
      "'THRt4'\n",
      "'THYMDt1'\n",
      "'TRPt4'\n",
      "'URIt'\n",
      "'r0819'\n",
      "'r0822'\n",
      "'r0829'\n",
      "'r0913'\n",
      "'r0940'\n",
      "'r0941'\n",
      "'r0975'\n",
      "'r0995'\n",
      "'r1019'\n",
      "'r1027'\n",
      "'r1043'\n",
      "'r1045'\n",
      "'r1147'\n",
      "'r1291'\n",
      "'r1400'\n",
      "'r1464'\n",
      "'r1544'\n",
      "'r1552'\n",
      "'r1568'\n",
      "'r1585'\n",
      "'r1586'\n",
      "'r1588'\n",
      "'r1589'\n",
      "'r1591'\n",
      "'r1593'\n",
      "'r1594'\n",
      "'r1614'\n",
      "'r1621'\n",
      "'r1628'\n",
      "'r1631'\n",
      "'r1658'\n",
      "'r1668'\n",
      "'r1669'\n",
      "'r1671'\n",
      "'r1710'\n",
      "'r1784'\n",
      "'r1807'\n",
      "'r1822'\n",
      "'r1823'\n",
      "'r1825'\n",
      "'r1826'\n",
      "'r1827'\n",
      "'r1830'\n",
      "'r1831'\n",
      "'r1833'\n",
      "'r1834'\n",
      "'r1842'\n",
      "'r1924'\n",
      "'r1929'\n",
      "'r1930'\n",
      "'r1934'\n",
      "'r1950'\n",
      "'r1963'\n",
      "'r1964'\n",
      "'r1965'\n",
      "'r1974'\n",
      "'r1976'\n",
      "'r1984'\n",
      "'r1995'\n",
      "'r1997'\n",
      "'r1998'\n",
      "'r2008'\n",
      "'r2011'\n",
      "'r2012'\n",
      "'r2020'\n",
      "'r2022'\n",
      "'r2040'\n",
      "'r2064'\n",
      "'r2082'\n",
      "'r2085'\n",
      "'r2087'\n",
      "'r2093'\n",
      "'r2100'\n",
      "'r2107'\n",
      "'r2108'\n",
      "'r2112'\n",
      "'r2113'\n",
      "'r2116'\n",
      "'r2118'\n",
      "'r2119'\n",
      "'r2122'\n",
      "'r2123'\n",
      "'r2124'\n",
      "'r2126'\n",
      "'r2129'\n",
      "'r2130'\n",
      "'r2133'\n",
      "'r2140'\n",
      "'r2148'\n",
      "'r2278'\n",
      "'r2307'\n",
      "'r2309'\n",
      "'r2321'\n",
      "'r2334'\n",
      "'r2371'\n",
      "'r2373'\n",
      "'r2377'\n",
      "'r2386'\n",
      "'r2400'\n",
      "'r2403'\n",
      "'r2408'\n",
      "'r2416'\n",
      "'r2488'\n",
      "'r2516'\n",
      "'r2526'\n",
      "'PIt8'\n",
      "'PIt9'\n",
      "'CYOOm3'\n",
      "'C2tcx'\n",
      "'CYSATB0tc'\n",
      "'FOLTle'\n",
      "'ILEATB0tc'\n",
      "'SERATB0tc'\n",
      "'THRPHELAT2tc'\n",
      "'VALLAT1tc'\n",
      "'3HCO3_NAt'\n",
      "'DATPtm'\n",
      "'GLUPROASCT1'\n",
      "'GSNt5le'\n",
      "'PPItm'\n",
      "'TAURCHAe'\n",
      "'OROTGLUt'\n",
      "'EX_5mthf(e)'\n",
      "'EX_ac(e)'\n",
      "'EX_ade(e)'\n",
      "'EX_akg(e)'\n",
      "'EX_atp(e)'\n",
      "'EX_cyan(e)'\n",
      "'EX_cys_L(e)'\n",
      "'EX_gal(e)'\n",
      "'EX_glyc(e)'\n",
      "'EX_gsn(e)'\n",
      "'EX_hdca(e)'\n",
      "'EX_hxan(e)'\n",
      "'EX_lac_D(e)'\n",
      "'EX_leuktrA4(e)'\n",
      "'EX_lnlncg(e)'\n",
      "'EX_orn(e)'\n",
      "'EX_pe_hs(e)'\n",
      "'EX_ps_hs(e)'\n",
      "'EX_ser_L(e)'\n",
      "'EX_so4(e)'\n",
      "'EX_tcynt(e)'\n",
      "'EX_thf(e)'\n",
      "'EX_thym(e)'\n",
      "'EX_tyr_L(e)'\n",
      "'EX_ura(e)'\n",
      "'EX_HC01446(e)'\n",
      "'EX_HC01610(e)'\n",
      "'EX_HC00955(e)'\n",
      "'EX_HC02207(e)'\n",
      "'EX_CE2839(e)'\n",
      "'EX_CE5797(e)'\n",
      "'EX_CE4633(e)'\n",
      "'EX_CE0074(e)'\n",
      "'EX_gum(e)'\n",
      "'EX_psyl(e)'\n",
      "'EX_q10(e)'\n",
      "'EX_5oxpro(e)'\n",
      "'EX_aicar(e)'\n",
      "'ACSMCT1'\n",
      "'ASNB0AT3tc'\n",
      "'BUTSMCT1'\n",
      "'CYTDt2r'\n",
      "'DOPAENT4tc'\n",
      "'GLUB0AT3tc'\n",
      "'GSNt2r'\n",
      "'ILEB0AT2tc'\n",
      "'SERB0AT3tc'\n",
      "'VALB0AT2tc'\n",
      "'EX_am1csa(e)'\n",
      "'EX_am4n9cs(e)'\n",
      "'TMDOATtev'\n",
      "'TMDOATthc'\n",
      "Diagnosis Age\n",
      "Birth from Initial Pathologic Diagnosis Date\n",
      "Fraction Genome Altered\n",
      "Year Cancer Initial Diagnosis\n",
      "Longest Dimension\n",
      "Shortest Dimension\n",
      "Specimen Second Longest Dimension\n",
      "Patient Smoking History Category\n",
      "Neoplasm Disease Lymph Node Stage American Joint Committee on Cancer Code_N0\n",
      "Neoplasm Disease Stage American Joint Committee on Cancer Code3_Stage IIIA\n",
      "American Joint Committee on Cancer Publication Version Type_6th\n",
      "American Joint Committee on Cancer Publication Version Type_7th\n",
      "American Joint Committee on Cancer Tumor Stage Code_T1\n",
      "Form completion date_40371\n",
      "Form completion date_40581\n",
      "Form completion date_11/17/11\n",
      "Form completion date_6/19/14\n",
      "Form completion date_7/21/11\n",
      "Form completion date_7/27/11\n",
      "Form completion date_9/23/11\n",
      "International Classification of Diseases for Oncology, Third Edition ICD-O-3 Site Code_C34.3\n",
      "Overall Survival Status_DECEASED\n",
      "Overall Survival Status_LIVING\n",
      "Sex_Male2\n",
      "Tissue Source Site_5\n",
      "Tissue Source Site_50\n",
      "Tissue Source Site_75\n",
      "Person Neoplasm Status_TUMOR FREE\n"
     ]
    }
   ],
   "source": [
    "# Print the names of the most important features\n",
    "for feature_list_index in sfm.get_support(indices=True):\n",
    "    print(X.columns[feature_list_index])"
   ]
  },
  {
   "cell_type": "code",
   "execution_count": 15,
   "metadata": {},
   "outputs": [
    {
     "data": {
      "text/plain": [
       "390"
      ]
     },
     "execution_count": 15,
     "metadata": {},
     "output_type": "execute_result"
    }
   ],
   "source": [
    "sfm.get_support().sum()"
   ]
  },
  {
   "cell_type": "code",
   "execution_count": 16,
   "metadata": {},
   "outputs": [],
   "source": [
    "# Transform the data to create a new dataset containing only the most important features\n",
    "# Note: We have to apply the transform to both the training X and test X data.\n",
    "X_important_train = sfm.transform(X_train)\n",
    "X_important_val = sfm.transform(X_val)\n",
    "X_important_test = sfm.transform(X_test)"
   ]
  },
  {
   "cell_type": "code",
   "execution_count": 17,
   "metadata": {},
   "outputs": [
    {
     "name": "stderr",
     "output_type": "stream",
     "text": [
      "/Users/Zayeem/anaconda3/lib/python3.7/site-packages/sklearn/ensemble/forest.py:246: FutureWarning: The default value of n_estimators will change from 10 in version 0.20 to 100 in 0.22.\n",
      "  \"10 in version 0.20 to 100 in 0.22.\", FutureWarning)\n"
     ]
    },
    {
     "data": {
      "text/plain": [
       "RandomForestRegressor(bootstrap=True, criterion='mse', max_depth=None,\n",
       "           max_features='auto', max_leaf_nodes=None,\n",
       "           min_impurity_decrease=0.0, min_impurity_split=None,\n",
       "           min_samples_leaf=1, min_samples_split=2,\n",
       "           min_weight_fraction_leaf=0.0, n_estimators=10, n_jobs=None,\n",
       "           oob_score=False, random_state=None, verbose=0, warm_start=False)"
      ]
     },
     "execution_count": 17,
     "metadata": {},
     "output_type": "execute_result"
    }
   ],
   "source": [
    "rgr_important = RandomForestRegressor()\n",
    "\n",
    "# Train the new Regressor on the new dataset containing the most important features\n",
    "rgr_important.fit(X_important_train, y_train)"
   ]
  },
  {
   "cell_type": "code",
   "execution_count": 18,
   "metadata": {},
   "outputs": [],
   "source": [
    "\n",
    "y_predval = rgr_important.predict(X_important_val)"
   ]
  },
  {
   "cell_type": "code",
   "execution_count": 19,
   "metadata": {},
   "outputs": [
    {
     "name": "stdout",
     "output_type": "stream",
     "text": [
      "16.434581372735035\n",
      "536.27920931059\n",
      "23.157703023197055\n",
      "R2 Score\n",
      "0.018490342922964365\n"
     ]
    }
   ],
   "source": [
    "#Compare The Accuracy Of Our Full Feature Classifier To Our Limited Feature Classifier\n",
    "# Print result of MAE\n",
    "from sklearn import metrics\n",
    "print(metrics.mean_absolute_error(y_val, y_predval))\n",
    "\n",
    "# Print result of MSE\n",
    "print(metrics.mean_squared_error(y_val, y_predval))\n",
    "\n",
    "# Print result of RMSE\n",
    "print(np.sqrt(metrics.mean_squared_error(y_val, y_predval)))\n",
    "\n",
    "from sklearn.metrics import r2_score\n",
    "accuracy=r2_score(y_val,y_predval)\n",
    "\n",
    "print('R2 Score')\n",
    "print(accuracy)"
   ]
  },
  {
   "cell_type": "code",
   "execution_count": 21,
   "metadata": {},
   "outputs": [
    {
     "data": {
      "image/png": "[encoded data removed]",
      "text/plain": [
       "<Figure size 1008x576 with 2 Axes>"
      ]
     },
     "metadata": {
      "needs_background": "light"
     },
     "output_type": "display_data"
    }
   ],
   "source": [
    "# Visualising the Decision Tree Regression Results\n",
    "# Loading Packages\n",
    "import seaborn as sns\n",
    "import matplotlib.pyplot as plt\n",
    "from sklearn.model_selection import cross_val_predict\n",
    "from sklearn.metrics import r2_score\n",
    "#from sklearn import linear_model\n",
    "from sklearn import datasets\n",
    "from scipy.integrate import simps\n",
    "\n",
    "# Function for Regression Error Characteritic Curve\n",
    "\n",
    "def REC(y_val , y_predval):\n",
    "    \n",
    "    # initilizing the lists\n",
    "    Accuracy = []\n",
    "    \n",
    "    # initializing the values for Epsilon\n",
    "    Begin_Range = 0\n",
    "    End_Range = 1.5\n",
    "    Interval_Size = 0.01\n",
    "    \n",
    "    # List of epsilons\n",
    "    Epsilon = np.arange(Begin_Range , End_Range , Interval_Size)\n",
    "    \n",
    "    # Main Loops\n",
    "    for i in range(len(Epsilon)):\n",
    "        count = 0.0\n",
    "        for j in range(len(y_val)):\n",
    "            if np.linalg.norm(y_val[j] - y_predval[j]) / np.sqrt( np.linalg.norm(y_val[j]) **2 + np.linalg.norm(y_predval[j])**2 ) < Epsilon[i]:\n",
    "                count = count + 1\n",
    "        \n",
    "        Accuracy.append(count/len(y_val))\n",
    "    \n",
    "    # Calculating Area Under Curve using Simpson's rule\n",
    "    AUC = simps(Accuracy , Epsilon ) / End_Range\n",
    "        \n",
    "    # returning epsilon , accuracy , area under curve    \n",
    "    return Epsilon , Accuracy , AUC\n",
    "\n",
    "# finding the deviation and accuracy, and area under curve for plotting\n",
    "Deviation, Accuracy, AUC = REC(y_val, y_predval)\n",
    "\n",
    "# Calculating R^2 of the true and predicted values\n",
    "RR = r2_score(y_val, y_predval)\n",
    "\n",
    "# Plotting\n",
    "plt.figure(figsize=(14 , 8))\n",
    "\n",
    "plt.subplot(1, 2, 1)\n",
    "plt.scatter(y_val, y_predval,color = \"darkorange\")\n",
    "plt.xlabel(\"Real Data\")\n",
    "plt.ylabel(\"Predicted\")\n",
    "plt.plot([y_val.min(), y_val.max()], [y_val.min(), y_val.max()], 'k--', lw=4)\n",
    "plt.text(45, -5, r\"$R^2 = %0.4f$\" %RR , fontsize=15)\n",
    "\n",
    "\n",
    "plt.subplot(1, 2, 2)\n",
    "plt.title(\"Regression Error Characteristic (REC)\")\n",
    "plt.plot(Deviation, Accuracy, \"--b\",lw =3)\n",
    "plt.xlabel(\"Deviation\")\n",
    "plt.ylabel(\"Accuracy (%)\")\n",
    "plt.text(1.1, 0.07, \"AUC = %0.4f\" %AUC , fontsize=15)\n",
    "\n",
    "\n",
    "plt.show()"
   ]
  },
  {
   "cell_type": "code",
   "execution_count": 22,
   "metadata": {},
   "outputs": [
    {
     "name": "stdout",
     "output_type": "stream",
     "text": [
      "Best: 0.147377 using {'n_estimators': 600, 'min_samples_split': 30, 'min_samples_leaf': 0.2, 'max_features': 'auto', 'max_depth': 90, 'bootstrap': True}\n"
     ]
    }
   ],
   "source": [
    "from sklearn.model_selection import RandomizedSearchCV\n",
    "param_grid = {'bootstrap': [True, False],\n",
    " 'max_depth': [10, 20, 30, 40, 50, 60, 70, 80, 90, 100, None],\n",
    " 'max_features': ['auto', 'sqrt'],\n",
    " 'min_samples_split':[1.0,2,5,10,30,50,70,90,100],\n",
    " 'min_samples_leaf':[0.1,0.20,0.3,0.4,0.5,1, 2, 4],\n",
    " 'n_estimators': [100, 200, 400, 600, 800, 1000]}\n",
    "regressor = RandomForestRegressor()\n",
    "random=RandomizedSearchCV(estimator=regressor,param_distributions=param_grid,cv=3,n_iter=10)\n",
    "random_result=random.fit(X_important_train,y_train)\n",
    "print(\"Best: %f using %s\" % (random_result.best_score_,random_result.best_params_))"
   ]
  },
  {
   "cell_type": "code",
   "execution_count": 23,
   "metadata": {},
   "outputs": [
    {
     "data": {
      "text/plain": [
       "RandomForestRegressor(bootstrap=True, criterion='mse', max_depth=90,\n",
       "           max_features='auto', max_leaf_nodes=None,\n",
       "           min_impurity_decrease=0.0, min_impurity_split=None,\n",
       "           min_samples_leaf=0.2, min_samples_split=30,\n",
       "           min_weight_fraction_leaf=0.0, n_estimators=600, n_jobs=None,\n",
       "           oob_score=False, random_state=None, verbose=0, warm_start=False)"
      ]
     },
     "execution_count": 23,
     "metadata": {},
     "output_type": "execute_result"
    }
   ],
   "source": [
    "\n",
    "regressor = RandomForestRegressor(n_estimators=600,max_depth=90,min_samples_split = 30,min_samples_leaf=0.2,max_features='auto',bootstrap=True)\n",
    "\n",
    "regressor.fit(X_important_train, y_train)"
   ]
  },
  {
   "cell_type": "code",
   "execution_count": 24,
   "metadata": {},
   "outputs": [],
   "source": [
    "y_predval = regressor.predict(X_important_val)"
   ]
  },
  {
   "cell_type": "code",
   "execution_count": 25,
   "metadata": {},
   "outputs": [
    {
     "name": "stdout",
     "output_type": "stream",
     "text": [
      "14.834816446063844\n",
      "428.18355213418334\n",
      "20.692596553699666\n",
      "Variance score: 0.22\n",
      "R2 Score\n",
      "0.21632932225450296\n"
     ]
    }
   ],
   "source": [
    "# Print result of MAE\n",
    "from sklearn import metrics\n",
    "print(metrics.mean_absolute_error(y_val, y_predval))\n",
    "\n",
    "# Print result of MSE\n",
    "print(metrics.mean_squared_error(y_val, y_predval))\n",
    "\n",
    "# Print result of RMSE\n",
    "print(np.sqrt(metrics.mean_squared_error(y_val, y_predval)))\n",
    "\n",
    "# Explained variance score: 1 is perfect prediction (Accuracy Score)\n",
    "print('Variance score: %.2f' % regressor.score(X_important_val, y_val))\n",
    "\n",
    "from sklearn.metrics import r2_score\n",
    "accuracy=r2_score(y_val,y_predval)\n",
    "\n",
    "print('R2 Score')\n",
    "print(accuracy)"
   ]
  },
  {
   "cell_type": "code",
   "execution_count": 26,
   "metadata": {},
   "outputs": [
    {
     "name": "stdout",
     "output_type": "stream",
     "text": [
      "R^2 = 0.2163\n"
     ]
    },
    {
     "data": {
      "image/png": "[encoded data removed]",
      "text/plain": [
       "<Figure size 1440x720 with 1 Axes>"
      ]
     },
     "metadata": {
      "needs_background": "light"
     },
     "output_type": "display_data"
    },
    {
     "data": {
      "image/png": "[encoded data removed]",
      "text/plain": [
       "<Figure size 1440x720 with 1 Axes>"
      ]
     },
     "metadata": {
      "needs_background": "light"
     },
     "output_type": "display_data"
    }
   ],
   "source": [
    "# Visualising the Random Forest Regression Results\n",
    "# Loading Packages\n",
    "import seaborn as sns\n",
    "import matplotlib.pyplot as plt\n",
    "from sklearn.model_selection import cross_val_predict\n",
    "from sklearn.metrics import r2_score\n",
    "#from sklearn import linear_model\n",
    "from sklearn import datasets\n",
    "from scipy.integrate import simps\n",
    "\n",
    "# Function for Regression Error Characteritic Curve\n",
    "\n",
    "def REC(y_val , y_predval):\n",
    "    \n",
    "    # initilizing the lists\n",
    "    Accuracy = []\n",
    "    \n",
    "    # initializing the values for Epsilon\n",
    "    Begin_Range = 0\n",
    "    End_Range = 1.5\n",
    "    Interval_Size = 0.01\n",
    "    \n",
    "    # List of epsilons\n",
    "    Epsilon = np.arange(Begin_Range , End_Range , Interval_Size)\n",
    "    \n",
    "    # Main Loops\n",
    "    for i in range(len(Epsilon)):\n",
    "        count = 0.0\n",
    "        for j in range(len(y_val)):\n",
    "            if np.linalg.norm(y_val[j] - y_predval[j]) / np.sqrt( np.linalg.norm(y_val[j]) **2 + np.linalg.norm(y_predval[j])**2 ) < Epsilon[i]:\n",
    "                count = count + 1\n",
    "        \n",
    "        Accuracy.append(count/len(y_val))\n",
    "    \n",
    "    # Calculating Area Under Curve using Simpson's rule\n",
    "    AUC = simps(Accuracy , Epsilon ) / End_Range\n",
    "        \n",
    "    # returning epsilon , accuracy , area under curve    \n",
    "    return Epsilon , Accuracy , AUC\n",
    "\n",
    "# finding the deviation and accuracy, and area under curve for plotting\n",
    "Deviation, Accuracy, AUC = REC(y_val, y_predval)\n",
    "\n",
    "# Calculating R^2 of the true and predicted values\n",
    "RR = r2_score(y_val, y_predval)\n",
    "\n",
    "# Plotting\n",
    "plt.figure(figsize=(20 , 10))\n",
    "\n",
    "plt.subplot(1, 2, 1)\n",
    "plt.scatter(y_val, y_predval,color = \"darkorange\")\n",
    "plt.xlabel(\"Real Data\")\n",
    "plt.ylabel(\"Predicted\")\n",
    "plt.figure(figsize=(20 , 10))\n",
    "plt.plot([y_val.min(), y_val.max()], [y_val.min(), y_val.max()], 'k--', lw=4)\n",
    "print(\"R^2 = %0.4f\" %RR)\n",
    "\n",
    "\n",
    "plt.subplot(1, 2, 2)\n",
    "plt.title(\"Regression Error Characteristic (REC)\")\n",
    "plt.plot(Deviation, Accuracy, \"--b\",lw =3)\n",
    "plt.xlabel(\"Deviation\")\n",
    "plt.ylabel(\"Accuracy (%)\")\n",
    "plt.text(1.1, 0.07, \"AUC = %0.4f\" %AUC , fontsize=15)\n",
    "\n",
    "\n",
    "plt.show()"
   ]
  },
  {
   "cell_type": "code",
   "execution_count": 27,
   "metadata": {},
   "outputs": [
    {
     "name": "stdout",
     "output_type": "stream",
     "text": [
      "19.103149796659995\n",
      "1187.2511548281896\n",
      "34.456511065808584\n",
      "Variance score: 0.12\n",
      "R2 Score\n",
      "0.11879606106925689\n"
     ]
    }
   ],
   "source": [
    "###############################################Testing Set##############################################################\n",
    "\n",
    "# Fitting Training Set\n",
    "regressor = RandomForestRegressor(n_estimators=600,max_depth=90,min_samples_split = 30,min_samples_leaf=0.2,max_features='auto',bootstrap=True)\n",
    "\n",
    "regressor.fit(X_important_train, y_train)\n",
    "\n",
    "# Predicting the Test set results\n",
    "y_pred = regressor.predict(X_important_test)\n",
    "\n",
    "# Print result of MAE\n",
    "from sklearn import metrics\n",
    "print(metrics.mean_absolute_error(y_test, y_pred))\n",
    "\n",
    "# Print result of MSE\n",
    "print(metrics.mean_squared_error(y_test, y_pred))\n",
    "\n",
    "# Print result of RMSE\n",
    "print(np.sqrt(metrics.mean_squared_error(y_test, y_pred)))\n",
    "\n",
    "# Explained variance score: 1 is perfect prediction (Accuracy Score)\n",
    "print('Variance score: %.2f' % regressor.score(X_important_test, y_test))\n",
    "\n",
    "from sklearn.metrics import r2_score\n",
    "accuracy=r2_score(y_test,y_pred)\n",
    "\n",
    "print('R2 Score')\n",
    "print(accuracy)"
   ]
  },
  {
   "cell_type": "code",
   "execution_count": 28,
   "metadata": {},
   "outputs": [
    {
     "name": "stdout",
     "output_type": "stream",
     "text": [
      "R^2 = 0.1188\n"
     ]
    },
    {
     "data": {
      "image/png": "[encoded data removed]",
      "text/plain": [
       "<Figure size 1440x720 with 1 Axes>"
      ]
     },
     "metadata": {
      "needs_background": "light"
     },
     "output_type": "display_data"
    },
    {
     "data": {
      "image/png": "[encoded data removed]",
      "text/plain": [
       "<Figure size 1440x720 with 1 Axes>"
      ]
     },
     "metadata": {
      "needs_background": "light"
     },
     "output_type": "display_data"
    }
   ],
   "source": [
    "# Visualising the Random Forest Regression Results\n",
    "# Loading Packages\n",
    "import seaborn as sns\n",
    "import matplotlib.pyplot as plt\n",
    "from sklearn.model_selection import cross_val_predict\n",
    "from sklearn.metrics import r2_score\n",
    "#from sklearn import linear_model\n",
    "from sklearn import datasets\n",
    "from scipy.integrate import simps\n",
    "\n",
    "# Function for Regression Error Characteritic Curve\n",
    "\n",
    "def REC(y_test , y_pred):\n",
    "    \n",
    "    # initilizing the lists\n",
    "    Accuracy = []\n",
    "    \n",
    "    # initializing the values for Epsilon\n",
    "    Begin_Range = 0\n",
    "    End_Range = 1.5\n",
    "    Interval_Size = 0.01\n",
    "    \n",
    "    # List of epsilons\n",
    "    Epsilon = np.arange(Begin_Range , End_Range , Interval_Size)\n",
    "    \n",
    "    # Main Loops\n",
    "    for i in range(len(Epsilon)):\n",
    "        count = 0.0\n",
    "        for j in range(len(y_test)):\n",
    "            if np.linalg.norm(y_test[j] - y_pred[j]) / np.sqrt( np.linalg.norm(y_test[j]) **2 + np.linalg.norm(y_pred[j])**2 ) < Epsilon[i]:\n",
    "                count = count + 1\n",
    "        \n",
    "        Accuracy.append(count/len(y_test))\n",
    "    \n",
    "    # Calculating Area Under Curve using Simpson's rule\n",
    "    AUC = simps(Accuracy , Epsilon ) / End_Range\n",
    "        \n",
    "    # returning epsilon , accuracy , area under curve    \n",
    "    return Epsilon , Accuracy , AUC\n",
    "\n",
    "# finding the deviation and accuracy, and area under curve for plotting\n",
    "Deviation, Accuracy, AUC = REC(y_test, y_pred)\n",
    "\n",
    "# Calculating R^2 of the true and predicted values\n",
    "RR = r2_score(y_test, y_pred)\n",
    "\n",
    "# Plotting\n",
    "plt.figure(figsize=(20 , 10))\n",
    "\n",
    "plt.subplot(1, 2, 1)\n",
    "plt.scatter(y_test, y_pred,color = \"darkorange\")\n",
    "plt.xlabel(\"Real Data\")\n",
    "plt.ylabel(\"Predicted\")\n",
    "plt.figure(figsize=(20 , 10))\n",
    "plt.plot([y_test.min(), y_test.max()], [y_test.min(), y_test.max()], 'k--', lw=4)\n",
    "print(\"R^2 = %0.4f\" %RR)\n",
    "\n",
    "\n",
    "plt.subplot(1, 2, 2)\n",
    "plt.title(\"Regression Error Characteristic (REC)\")\n",
    "plt.plot(Deviation, Accuracy, \"--b\",lw =3)\n",
    "plt.xlabel(\"Deviation\")\n",
    "plt.ylabel(\"Accuracy (%)\")\n",
    "plt.text(1.1, 0.07, \"AUC = %0.4f\" %AUC , fontsize=15)\n",
    "\n",
    "\n",
    "plt.show()"
   ]
  },
  {
   "cell_type": "code",
   "execution_count": null,
   "metadata": {},
   "outputs": [],
   "source": []
  }
 ],
 "metadata": {
  "kernelspec": {
   "display_name": "Python 3",
   "language": "python",
   "name": "python3"
  },
  "language_info": {
   "codemirror_mode": {
    "name": "ipython",
    "version": 3
   },
   "file_extension": ".py",
   "mimetype": "text/x-python",
   "name": "python",
   "nbconvert_exporter": "python",
   "pygments_lexer": "ipython3",
   "version": "3.7.3"
  }
 },
 "nbformat": 4,
 "nbformat_minor": 2
}
