{
 "cells": [
  {
   "cell_type": "code",
   "execution_count": 1,
   "metadata": {},
   "outputs": [],
   "source": [
    "#importing necessary python packages\n",
    "import pandas as pd\n",
    "import numpy as np\n",
    "import os"
   ]
  },
  {
   "cell_type": "code",
   "execution_count": 2,
   "metadata": {},
   "outputs": [],
   "source": [
    "os.chdir('C:\\\\RESEARCH\\\\LUAD\\\\Regression') #setting the right directory"
   ]
  },
  {
   "cell_type": "code",
   "execution_count": 3,
   "metadata": {},
   "outputs": [],
   "source": [
    "# Importing the dataset\n",
    "flux = pd.read_excel('LUAD_Flux.xlsx',index_col=0)\n",
    "genes=pd.read_excel('LUAD_Genes.xlsx',index_col=0)"
   ]
  },
  {
   "cell_type": "code",
   "execution_count": 5,
   "metadata": {},
   "outputs": [
    {
     "data": {
      "text/plain": [
       "(517, 1962)"
      ]
     },
     "execution_count": 5,
     "metadata": {},
     "output_type": "execute_result"
    }
   ],
   "source": [
    "flux.shape"
   ]
  },
  {
   "cell_type": "code",
   "execution_count": 6,
   "metadata": {},
   "outputs": [
    {
     "data": {
      "text/html": [
       "<div>\n",
       "<style scoped>\n",
       "    .dataframe tbody tr th:only-of-type {\n",
       "        vertical-align: middle;\n",
       "    }\n",
       "\n",
       "    .dataframe tbody tr th {\n",
       "        vertical-align: top;\n",
       "    }\n",
       "\n",
       "    .dataframe thead th {\n",
       "        text-align: right;\n",
       "    }\n",
       "</style>\n",
       "<table border=\"1\" class=\"dataframe\">\n",
       "  <thead>\n",
       "    <tr style=\"text-align: right;\">\n",
       "      <th></th>\n",
       "      <th>'3DSPHR'</th>\n",
       "      <th>'3HBCOAHLm'</th>\n",
       "      <th>'ABTArm'</th>\n",
       "      <th>'ABTD'</th>\n",
       "      <th>'ACACT1r'</th>\n",
       "      <th>'ACACT1rm'</th>\n",
       "      <th>'ACACT1x'</th>\n",
       "      <th>'ACOAD9m'</th>\n",
       "      <th>'ACOAO7p'</th>\n",
       "      <th>'ACOATA'</th>\n",
       "      <th>...</th>\n",
       "      <th>'13HTACRitr'</th>\n",
       "      <th>'1513TACRitr'</th>\n",
       "      <th>'1531TACRitr'</th>\n",
       "      <th>'DEOXFVSitx'</th>\n",
       "      <th>'FVSitx'</th>\n",
       "      <th>'TACRitr'</th>\n",
       "      <th>'13DMTitr'</th>\n",
       "      <th>'15DMTitr'</th>\n",
       "      <th>'31DMTitr'</th>\n",
       "      <th>Overall Survival (Months)</th>\n",
       "    </tr>\n",
       "    <tr>\n",
       "      <th>HUG0_SYMBOL</th>\n",
       "      <th></th>\n",
       "      <th></th>\n",
       "      <th></th>\n",
       "      <th></th>\n",
       "      <th></th>\n",
       "      <th></th>\n",
       "      <th></th>\n",
       "      <th></th>\n",
       "      <th></th>\n",
       "      <th></th>\n",
       "      <th></th>\n",
       "      <th></th>\n",
       "      <th></th>\n",
       "      <th></th>\n",
       "      <th></th>\n",
       "      <th></th>\n",
       "      <th></th>\n",
       "      <th></th>\n",
       "      <th></th>\n",
       "      <th></th>\n",
       "      <th></th>\n",
       "    </tr>\n",
       "  </thead>\n",
       "  <tbody>\n",
       "    <tr>\n",
       "      <th>TCGA-05-4244-01</th>\n",
       "      <td>11.448262</td>\n",
       "      <td>154.187481</td>\n",
       "      <td>-583.764387</td>\n",
       "      <td>-14.237357</td>\n",
       "      <td>125.403072</td>\n",
       "      <td>235.338244</td>\n",
       "      <td>457.654536</td>\n",
       "      <td>74.716367</td>\n",
       "      <td>72.493260</td>\n",
       "      <td>-165.591744</td>\n",
       "      <td>...</td>\n",
       "      <td>14.770344</td>\n",
       "      <td>14.770344</td>\n",
       "      <td>14.770344</td>\n",
       "      <td>-431.370763</td>\n",
       "      <td>431.370763</td>\n",
       "      <td>26.309675</td>\n",
       "      <td>-6.000452</td>\n",
       "      <td>-6.000452</td>\n",
       "      <td>-6.000452</td>\n",
       "      <td>0.00</td>\n",
       "    </tr>\n",
       "    <tr>\n",
       "      <th>TCGA-05-4249-01</th>\n",
       "      <td>9.173955</td>\n",
       "      <td>162.200877</td>\n",
       "      <td>-442.863722</td>\n",
       "      <td>-5.338254</td>\n",
       "      <td>128.134267</td>\n",
       "      <td>137.492687</td>\n",
       "      <td>149.939274</td>\n",
       "      <td>75.026103</td>\n",
       "      <td>56.620656</td>\n",
       "      <td>-73.252506</td>\n",
       "      <td>...</td>\n",
       "      <td>34.017476</td>\n",
       "      <td>34.017476</td>\n",
       "      <td>34.017476</td>\n",
       "      <td>-219.803538</td>\n",
       "      <td>219.803538</td>\n",
       "      <td>60.593629</td>\n",
       "      <td>-13.819600</td>\n",
       "      <td>-13.819600</td>\n",
       "      <td>-13.819600</td>\n",
       "      <td>50.03</td>\n",
       "    </tr>\n",
       "  </tbody>\n",
       "</table>\n",
       "<p>2 rows × 1962 columns</p>\n",
       "</div>"
      ],
      "text/plain": [
       "                  '3DSPHR'  '3HBCOAHLm'    'ABTArm'     'ABTD'   'ACACT1r'  \\\n",
       "HUG0_SYMBOL                                                                  \n",
       "TCGA-05-4244-01  11.448262   154.187481 -583.764387 -14.237357  125.403072   \n",
       "TCGA-05-4249-01   9.173955   162.200877 -442.863722  -5.338254  128.134267   \n",
       "\n",
       "                 'ACACT1rm'   'ACACT1x'  'ACOAD9m'  'ACOAO7p'    'ACOATA'  \\\n",
       "HUG0_SYMBOL                                                                 \n",
       "TCGA-05-4244-01  235.338244  457.654536  74.716367  72.493260 -165.591744   \n",
       "TCGA-05-4249-01  137.492687  149.939274  75.026103  56.620656  -73.252506   \n",
       "\n",
       "                           ...              '13HTACRitr'  '1513TACRitr'  \\\n",
       "HUG0_SYMBOL                ...                                            \n",
       "TCGA-05-4244-01            ...                 14.770344      14.770344   \n",
       "TCGA-05-4249-01            ...                 34.017476      34.017476   \n",
       "\n",
       "                 '1531TACRitr'  'DEOXFVSitx'    'FVSitx'  'TACRitr'  \\\n",
       "HUG0_SYMBOL                                                           \n",
       "TCGA-05-4244-01      14.770344   -431.370763  431.370763  26.309675   \n",
       "TCGA-05-4249-01      34.017476   -219.803538  219.803538  60.593629   \n",
       "\n",
       "                 '13DMTitr'  '15DMTitr'  '31DMTitr'  Overall Survival (Months)  \n",
       "HUG0_SYMBOL                                                                     \n",
       "TCGA-05-4244-01   -6.000452   -6.000452   -6.000452                       0.00  \n",
       "TCGA-05-4249-01  -13.819600  -13.819600  -13.819600                      50.03  \n",
       "\n",
       "[2 rows x 1962 columns]"
      ]
     },
     "execution_count": 6,
     "metadata": {},
     "output_type": "execute_result"
    }
   ],
   "source": [
    "flux.head(2)"
   ]
  },
  {
   "cell_type": "code",
   "execution_count": 7,
   "metadata": {},
   "outputs": [],
   "source": [
    "del flux['Overall Survival (Months)']"
   ]
  },
  {
   "cell_type": "code",
   "execution_count": 8,
   "metadata": {},
   "outputs": [],
   "source": [
    "dt = flux.merge(genes,left_index=True,right_index=True)"
   ]
  },
  {
   "cell_type": "code",
   "execution_count": 9,
   "metadata": {},
   "outputs": [
    {
     "data": {
      "text/html": [
       "<div>\n",
       "<style scoped>\n",
       "    .dataframe tbody tr th:only-of-type {\n",
       "        vertical-align: middle;\n",
       "    }\n",
       "\n",
       "    .dataframe tbody tr th {\n",
       "        vertical-align: top;\n",
       "    }\n",
       "\n",
       "    .dataframe thead th {\n",
       "        text-align: right;\n",
       "    }\n",
       "</style>\n",
       "<table border=\"1\" class=\"dataframe\">\n",
       "  <thead>\n",
       "    <tr style=\"text-align: right;\">\n",
       "      <th></th>\n",
       "      <th>'3DSPHR'</th>\n",
       "      <th>'3HBCOAHLm'</th>\n",
       "      <th>'ABTArm'</th>\n",
       "      <th>'ABTD'</th>\n",
       "      <th>'ACACT1r'</th>\n",
       "      <th>'ACACT1rm'</th>\n",
       "      <th>'ACACT1x'</th>\n",
       "      <th>'ACOAD9m'</th>\n",
       "      <th>'ACOAO7p'</th>\n",
       "      <th>'ACOATA'</th>\n",
       "      <th>...</th>\n",
       "      <th>SLTM</th>\n",
       "      <th>SLU7</th>\n",
       "      <th>SLURP1</th>\n",
       "      <th>SMAD2</th>\n",
       "      <th>SMAD3</th>\n",
       "      <th>SMAD4</th>\n",
       "      <th>SMAD5</th>\n",
       "      <th>SMAD6</th>\n",
       "      <th>SMAD7</th>\n",
       "      <th>Survival</th>\n",
       "    </tr>\n",
       "    <tr>\n",
       "      <th>HUG0_SYMBOL</th>\n",
       "      <th></th>\n",
       "      <th></th>\n",
       "      <th></th>\n",
       "      <th></th>\n",
       "      <th></th>\n",
       "      <th></th>\n",
       "      <th></th>\n",
       "      <th></th>\n",
       "      <th></th>\n",
       "      <th></th>\n",
       "      <th></th>\n",
       "      <th></th>\n",
       "      <th></th>\n",
       "      <th></th>\n",
       "      <th></th>\n",
       "      <th></th>\n",
       "      <th></th>\n",
       "      <th></th>\n",
       "      <th></th>\n",
       "      <th></th>\n",
       "      <th></th>\n",
       "    </tr>\n",
       "  </thead>\n",
       "  <tbody>\n",
       "    <tr>\n",
       "      <th>TCGA-05-4244-01</th>\n",
       "      <td>11.448262</td>\n",
       "      <td>154.187481</td>\n",
       "      <td>-583.764387</td>\n",
       "      <td>-14.237357</td>\n",
       "      <td>125.403072</td>\n",
       "      <td>235.338244</td>\n",
       "      <td>457.654536</td>\n",
       "      <td>74.716367</td>\n",
       "      <td>72.493260</td>\n",
       "      <td>-165.591744</td>\n",
       "      <td>...</td>\n",
       "      <td>-1.1877</td>\n",
       "      <td>3.4584</td>\n",
       "      <td>-0.2752</td>\n",
       "      <td>-0.7736</td>\n",
       "      <td>-0.6896</td>\n",
       "      <td>-0.0017</td>\n",
       "      <td>0.1779</td>\n",
       "      <td>-0.6433</td>\n",
       "      <td>0.7445</td>\n",
       "      <td>0.00</td>\n",
       "    </tr>\n",
       "    <tr>\n",
       "      <th>TCGA-05-4249-01</th>\n",
       "      <td>9.173955</td>\n",
       "      <td>162.200877</td>\n",
       "      <td>-442.863722</td>\n",
       "      <td>-5.338254</td>\n",
       "      <td>128.134267</td>\n",
       "      <td>137.492687</td>\n",
       "      <td>149.939274</td>\n",
       "      <td>75.026103</td>\n",
       "      <td>56.620656</td>\n",
       "      <td>-73.252506</td>\n",
       "      <td>...</td>\n",
       "      <td>-0.5540</td>\n",
       "      <td>0.7962</td>\n",
       "      <td>-0.2752</td>\n",
       "      <td>-0.6214</td>\n",
       "      <td>0.0881</td>\n",
       "      <td>1.3829</td>\n",
       "      <td>2.3203</td>\n",
       "      <td>-0.4918</td>\n",
       "      <td>0.0368</td>\n",
       "      <td>50.03</td>\n",
       "    </tr>\n",
       "    <tr>\n",
       "      <th>TCGA-05-4250-01</th>\n",
       "      <td>11.167238</td>\n",
       "      <td>96.659688</td>\n",
       "      <td>-661.410699</td>\n",
       "      <td>-14.973614</td>\n",
       "      <td>185.149045</td>\n",
       "      <td>192.183642</td>\n",
       "      <td>403.670235</td>\n",
       "      <td>74.716367</td>\n",
       "      <td>16.444642</td>\n",
       "      <td>-176.456428</td>\n",
       "      <td>...</td>\n",
       "      <td>-1.3805</td>\n",
       "      <td>0.0730</td>\n",
       "      <td>-0.2752</td>\n",
       "      <td>-1.3034</td>\n",
       "      <td>1.0473</td>\n",
       "      <td>-0.3628</td>\n",
       "      <td>0.0526</td>\n",
       "      <td>-0.8961</td>\n",
       "      <td>-1.1245</td>\n",
       "      <td>3.98</td>\n",
       "    </tr>\n",
       "    <tr>\n",
       "      <th>TCGA-05-4382-01</th>\n",
       "      <td>9.813735</td>\n",
       "      <td>152.832310</td>\n",
       "      <td>-413.172469</td>\n",
       "      <td>-7.077201</td>\n",
       "      <td>198.790709</td>\n",
       "      <td>137.492687</td>\n",
       "      <td>161.066009</td>\n",
       "      <td>68.272577</td>\n",
       "      <td>57.663478</td>\n",
       "      <td>-83.597986</td>\n",
       "      <td>...</td>\n",
       "      <td>-0.3885</td>\n",
       "      <td>-1.5611</td>\n",
       "      <td>-0.2752</td>\n",
       "      <td>0.3948</td>\n",
       "      <td>-0.6485</td>\n",
       "      <td>0.5367</td>\n",
       "      <td>-0.9418</td>\n",
       "      <td>-0.1446</td>\n",
       "      <td>2.2863</td>\n",
       "      <td>19.94</td>\n",
       "    </tr>\n",
       "    <tr>\n",
       "      <th>TCGA-05-4384-01</th>\n",
       "      <td>10.017708</td>\n",
       "      <td>146.338416</td>\n",
       "      <td>-483.996897</td>\n",
       "      <td>-7.935740</td>\n",
       "      <td>151.432371</td>\n",
       "      <td>58.691049</td>\n",
       "      <td>170.595446</td>\n",
       "      <td>52.965875</td>\n",
       "      <td>55.165456</td>\n",
       "      <td>-87.272646</td>\n",
       "      <td>...</td>\n",
       "      <td>0.4227</td>\n",
       "      <td>0.7651</td>\n",
       "      <td>-0.2752</td>\n",
       "      <td>0.2285</td>\n",
       "      <td>-0.4482</td>\n",
       "      <td>0.5020</td>\n",
       "      <td>0.5863</td>\n",
       "      <td>0.3185</td>\n",
       "      <td>-0.3951</td>\n",
       "      <td>13.99</td>\n",
       "    </tr>\n",
       "  </tbody>\n",
       "</table>\n",
       "<p>5 rows × 16768 columns</p>\n",
       "</div>"
      ],
      "text/plain": [
       "                  '3DSPHR'  '3HBCOAHLm'    'ABTArm'     'ABTD'   'ACACT1r'  \\\n",
       "HUG0_SYMBOL                                                                  \n",
       "TCGA-05-4244-01  11.448262   154.187481 -583.764387 -14.237357  125.403072   \n",
       "TCGA-05-4249-01   9.173955   162.200877 -442.863722  -5.338254  128.134267   \n",
       "TCGA-05-4250-01  11.167238    96.659688 -661.410699 -14.973614  185.149045   \n",
       "TCGA-05-4382-01   9.813735   152.832310 -413.172469  -7.077201  198.790709   \n",
       "TCGA-05-4384-01  10.017708   146.338416 -483.996897  -7.935740  151.432371   \n",
       "\n",
       "                 'ACACT1rm'   'ACACT1x'  'ACOAD9m'  'ACOAO7p'    'ACOATA'  \\\n",
       "HUG0_SYMBOL                                                                 \n",
       "TCGA-05-4244-01  235.338244  457.654536  74.716367  72.493260 -165.591744   \n",
       "TCGA-05-4249-01  137.492687  149.939274  75.026103  56.620656  -73.252506   \n",
       "TCGA-05-4250-01  192.183642  403.670235  74.716367  16.444642 -176.456428   \n",
       "TCGA-05-4382-01  137.492687  161.066009  68.272577  57.663478  -83.597986   \n",
       "TCGA-05-4384-01   58.691049  170.595446  52.965875  55.165456  -87.272646   \n",
       "\n",
       "                   ...        SLTM    SLU7  SLURP1   SMAD2   SMAD3   SMAD4  \\\n",
       "HUG0_SYMBOL        ...                                                       \n",
       "TCGA-05-4244-01    ...     -1.1877  3.4584 -0.2752 -0.7736 -0.6896 -0.0017   \n",
       "TCGA-05-4249-01    ...     -0.5540  0.7962 -0.2752 -0.6214  0.0881  1.3829   \n",
       "TCGA-05-4250-01    ...     -1.3805  0.0730 -0.2752 -1.3034  1.0473 -0.3628   \n",
       "TCGA-05-4382-01    ...     -0.3885 -1.5611 -0.2752  0.3948 -0.6485  0.5367   \n",
       "TCGA-05-4384-01    ...      0.4227  0.7651 -0.2752  0.2285 -0.4482  0.5020   \n",
       "\n",
       "                  SMAD5   SMAD6   SMAD7  Survival   \n",
       "HUG0_SYMBOL                                         \n",
       "TCGA-05-4244-01  0.1779 -0.6433  0.7445       0.00  \n",
       "TCGA-05-4249-01  2.3203 -0.4918  0.0368      50.03  \n",
       "TCGA-05-4250-01  0.0526 -0.8961 -1.1245       3.98  \n",
       "TCGA-05-4382-01 -0.9418 -0.1446  2.2863      19.94  \n",
       "TCGA-05-4384-01  0.5863  0.3185 -0.3951      13.99  \n",
       "\n",
       "[5 rows x 16768 columns]"
      ]
     },
     "execution_count": 9,
     "metadata": {},
     "output_type": "execute_result"
    }
   ],
   "source": [
    "dt.head()"
   ]
  },
  {
   "cell_type": "code",
   "execution_count": 10,
   "metadata": {},
   "outputs": [
    {
     "data": {
      "text/plain": [
       "(517, 16768)"
      ]
     },
     "execution_count": 10,
     "metadata": {},
     "output_type": "execute_result"
    }
   ],
   "source": [
    "dt.shape"
   ]
  },
  {
   "cell_type": "code",
   "execution_count": 11,
   "metadata": {},
   "outputs": [],
   "source": [
    "X = dt.iloc[:,0:16766].values\n",
    "y = dt.iloc[:, -1].values"
   ]
  },
  {
   "cell_type": "code",
   "execution_count": 12,
   "metadata": {},
   "outputs": [],
   "source": [
    "# Splitting the dataset into the Training set and Test set\n",
    "from sklearn.model_selection import train_test_split\n",
    "X_train, X_test, y_train, y_test = train_test_split(X, y, test_size = 0.2, random_state = 0)\n",
    "X_train, X_val, y_train, y_val = train_test_split(X_train, y_train, test_size=0.2, random_state=0)"
   ]
  },
  {
   "cell_type": "code",
   "execution_count": 13,
   "metadata": {},
   "outputs": [],
   "source": [
    "# Feature Scaling\n",
    "from sklearn.preprocessing import StandardScaler\n",
    "sc_X = StandardScaler()\n",
    "X_train = sc_X.fit_transform(X_train)\n",
    "X_test = sc_X.transform(X_test)\n",
    "X_val = sc_X.transform(X_val)"
   ]
  },
  {
   "cell_type": "code",
   "execution_count": 14,
   "metadata": {},
   "outputs": [],
   "source": [
    "sc_y = StandardScaler()\n",
    "y_train = np.squeeze(sc_y.fit_transform(y_train.reshape(-1, 1)))\n",
    "y_val = np.squeeze(sc_y.transform(y_val.reshape(-1, 1)))\n",
    "y_test = np.squeeze(sc_y.transform(y_test.reshape(-1, 1)))"
   ]
  },
  {
   "cell_type": "code",
   "execution_count": 15,
   "metadata": {},
   "outputs": [
    {
     "data": {
      "text/plain": [
       "DecisionTreeRegressor(criterion='mse', max_depth=None, max_features=None,\n",
       "           max_leaf_nodes=None, min_impurity_decrease=0.0,\n",
       "           min_impurity_split=None, min_samples_leaf=1,\n",
       "           min_samples_split=2, min_weight_fraction_leaf=0.0,\n",
       "           presort=False, random_state=None, splitter='best')"
      ]
     },
     "execution_count": 15,
     "metadata": {},
     "output_type": "execute_result"
    }
   ],
   "source": [
    "# Fitting Random Forest Regression to the dataset\n",
    "from sklearn.tree import DecisionTreeRegressor\n",
    "regressor = DecisionTreeRegressor()\n",
    "\n",
    "regressor.fit(X_train, y_train)"
   ]
  },
  {
   "cell_type": "code",
   "execution_count": 16,
   "metadata": {},
   "outputs": [],
   "source": [
    "#Predicting the Validation set results\n",
    "y_predval = regressor.predict(X_val)"
   ]
  },
  {
   "cell_type": "code",
   "execution_count": 17,
   "metadata": {},
   "outputs": [
    {
     "name": "stdout",
     "output_type": "stream",
     "text": [
      "0.9429279940977694\n",
      "1.719869324884447\n",
      "1.3114378844933705\n",
      "Variance score: -1.47\n"
     ]
    }
   ],
   "source": [
    "# Print result of MAE\n",
    "from sklearn import metrics\n",
    "print(metrics.mean_absolute_error(y_val, y_predval))\n",
    "\n",
    "# Print result of MSE\n",
    "print(metrics.mean_squared_error(y_val, y_predval))\n",
    "\n",
    "# Print result of RMSE\n",
    "print(np.sqrt(metrics.mean_squared_error(y_val, y_predval)))\n",
    "\n",
    "# Explained variance score: 1 is perfect prediction (Accuracy Score)\n",
    "print('Variance score: %.2f' % regressor.score(X_val, y_val))\n",
    "\n"
   ]
  },
  {
   "cell_type": "code",
   "execution_count": 19,
   "metadata": {},
   "outputs": [
    {
     "name": "stdout",
     "output_type": "stream",
     "text": [
      "R^2 = -1.4687\n"
     ]
    },
    {
     "data": {
      "image/png": "[encoded data removed]",
      "text/plain": [
       "<Figure size 1440x720 with 1 Axes>"
      ]
     },
     "metadata": {
      "needs_background": "light"
     },
     "output_type": "display_data"
    },
    {
     "data": {
      "image/png": "[encoded data removed]",
      "text/plain": [
       "<Figure size 1440x720 with 1 Axes>"
      ]
     },
     "metadata": {
      "needs_background": "light"
     },
     "output_type": "display_data"
    }
   ],
   "source": [
    "# Visualising the Random Forest Regression Results\n",
    "# Loading Packages\n",
    "import seaborn as sns\n",
    "import matplotlib.pyplot as plt\n",
    "from sklearn.model_selection import cross_val_predict\n",
    "from sklearn.metrics import r2_score\n",
    "#from sklearn import linear_model\n",
    "from sklearn import datasets\n",
    "from scipy.integrate import simps\n",
    "\n",
    "# Function for Regression Error Characteritic Curve\n",
    "\n",
    "def REC(y_val , y_predval):\n",
    "    \n",
    "    # initilizing the lists\n",
    "    Accuracy = []\n",
    "    \n",
    "    # initializing the values for Epsilon\n",
    "    Begin_Range = 0\n",
    "    End_Range = 1.5\n",
    "    Interval_Size = 0.01\n",
    "    \n",
    "    # List of epsilons\n",
    "    Epsilon = np.arange(Begin_Range , End_Range , Interval_Size)\n",
    "    \n",
    "    # Main Loops\n",
    "    for i in range(len(Epsilon)):\n",
    "        count = 0.0\n",
    "        for j in range(len(y_val)):\n",
    "            if np.linalg.norm(y_val[j] - y_predval[j]) / np.sqrt( np.linalg.norm(y_val[j]) **2 + np.linalg.norm(y_predval[j])**2 ) < Epsilon[i]:\n",
    "                count = count + 1\n",
    "        \n",
    "        Accuracy.append(count/len(y_val))\n",
    "    \n",
    "    # Calculating Area Under Curve using Simpson's rule\n",
    "    AUC = simps(Accuracy , Epsilon ) / End_Range\n",
    "        \n",
    "    # returning epsilon , accuracy , area under curve    \n",
    "    return Epsilon , Accuracy , AUC\n",
    "\n",
    "# finding the deviation and accuracy, and area under curve for plotting\n",
    "Deviation, Accuracy, AUC = REC(y_val, y_predval)\n",
    "\n",
    "# Calculating R^2 of the true and predicted values\n",
    "RR = r2_score(y_val, y_predval)\n",
    "\n",
    "# Plotting\n",
    "plt.figure(figsize=(20 , 10))\n",
    "\n",
    "plt.subplot(1, 2, 1)\n",
    "plt.scatter(y_val, y_predval,color = \"darkorange\")\n",
    "plt.xlabel(\"Real Data\")\n",
    "plt.ylabel(\"Predicted\")\n",
    "plt.figure(figsize=(20 , 10))\n",
    "plt.plot([y_val.min(), y_val.max()], [y_val.min(), y_val.max()], 'k--', lw=4)\n",
    "print(\"R^2 = %0.4f\" %RR)\n",
    "\n",
    "\n",
    "plt.subplot(1, 2, 2)\n",
    "plt.title(\"Regression Error Characteristic (REC)\")\n",
    "plt.plot(Deviation, Accuracy, \"--b\",lw =3)\n",
    "plt.xlabel(\"Deviation\")\n",
    "plt.ylabel(\"Accuracy (%)\")\n",
    "plt.text(1.1, 0.07, \"AUC = %0.4f\" %AUC , fontsize=15)\n",
    "\n",
    "\n",
    "plt.show()"
   ]
  },
  {
   "cell_type": "code",
   "execution_count": 20,
   "metadata": {},
   "outputs": [
    {
     "name": "stderr",
     "output_type": "stream",
     "text": [
      "C:\\Users\\Kanika Saini\\Anaconda3\\lib\\site-packages\\sklearn\\model_selection\\_search.py:271: UserWarning: The total space of parameters 7 is smaller than n_iter=10. Running 7 iterations. For exhaustive searches, use GridSearchCV.\n",
      "  % (grid_size, self.n_iter, grid_size), UserWarning)\n"
     ]
    },
    {
     "name": "stdout",
     "output_type": "stream",
     "text": [
      "Best: -1.006580 using {'min_samples_split': 0.9}\n"
     ]
    }
   ],
   "source": [
    "from sklearn.model_selection import RandomizedSearchCV\n",
    "param_grid = {  'min_samples_split':[0.005,0.001,0.01,0.05,0.1,0.5,0.9]\n",
    "                  \n",
    "                 }  \n",
    "regressor = DecisionTreeRegressor()\n",
    "random=RandomizedSearchCV(estimator=regressor,param_distributions=param_grid,cv=3,n_jobs=-1)\n",
    "random_result=random.fit(X_train,y_train)\n",
    "print(\"Best: %f using %s\" % (random_result.best_score_,random_result.best_params_))"
   ]
  },
  {
   "cell_type": "code",
   "execution_count": 21,
   "metadata": {},
   "outputs": [
    {
     "name": "stdout",
     "output_type": "stream",
     "text": [
      "0.8084722363528215\n",
      "1.6116213821304364\n",
      "1.2694965073329019\n",
      "Variance score: -1.31\n"
     ]
    }
   ],
   "source": [
    "# Fitting Random Forest Regression to the dataset\n",
    "from sklearn.tree import DecisionTreeRegressor\n",
    "regressor = DecisionTreeRegressor(min_samples_split = 0.9)\n",
    "\n",
    "regressor.fit(X_train, y_train)\n",
    "#Predicting the Validation set results\n",
    "y_predval = regressor.predict(X_val)\n",
    "# Print result of MAE\n",
    "from sklearn import metrics\n",
    "print(metrics.mean_absolute_error(y_val, y_predval))\n",
    "\n",
    "# Print result of MSE\n",
    "print(metrics.mean_squared_error(y_val, y_predval))\n",
    "\n",
    "# Print result of RMSE\n",
    "print(np.sqrt(metrics.mean_squared_error(y_val, y_predval)))\n",
    "\n",
    "# Explained variance score: 1 is perfect prediction (Accuracy Score)\n",
    "print('Variance score: %.2f' % regressor.score(X_val, y_val))\n"
   ]
  },
  {
   "cell_type": "code",
   "execution_count": 22,
   "metadata": {},
   "outputs": [
    {
     "name": "stdout",
     "output_type": "stream",
     "text": [
      "R^2 = -1.3133\n"
     ]
    },
    {
     "data": {
      "image/png": "[encoded data removed]",
      "text/plain": [
       "<Figure size 1440x720 with 1 Axes>"
      ]
     },
     "metadata": {
      "needs_background": "light"
     },
     "output_type": "display_data"
    },
    {
     "data": {
      "image/png": "[encoded data removed]",
      "text/plain": [
       "<Figure size 1440x720 with 1 Axes>"
      ]
     },
     "metadata": {
      "needs_background": "light"
     },
     "output_type": "display_data"
    }
   ],
   "source": [
    "# Visualising the Random Forest Regression Results\n",
    "# Loading Packages\n",
    "import seaborn as sns\n",
    "import matplotlib.pyplot as plt\n",
    "from sklearn.model_selection import cross_val_predict\n",
    "from sklearn.metrics import r2_score\n",
    "#from sklearn import linear_model\n",
    "from sklearn import datasets\n",
    "from scipy.integrate import simps\n",
    "\n",
    "# Function for Regression Error Characteritic Curve\n",
    "\n",
    "def REC(y_val , y_predval):\n",
    "    \n",
    "    # initilizing the lists\n",
    "    Accuracy = []\n",
    "    \n",
    "    # initializing the values for Epsilon\n",
    "    Begin_Range = 0\n",
    "    End_Range = 1.5\n",
    "    Interval_Size = 0.01\n",
    "    \n",
    "    # List of epsilons\n",
    "    Epsilon = np.arange(Begin_Range , End_Range , Interval_Size)\n",
    "    \n",
    "    # Main Loops\n",
    "    for i in range(len(Epsilon)):\n",
    "        count = 0.0\n",
    "        for j in range(len(y_val)):\n",
    "            if np.linalg.norm(y_val[j] - y_predval[j]) / np.sqrt( np.linalg.norm(y_val[j]) **2 + np.linalg.norm(y_predval[j])**2 ) < Epsilon[i]:\n",
    "                count = count + 1\n",
    "        \n",
    "        Accuracy.append(count/len(y_val))\n",
    "    \n",
    "    # Calculating Area Under Curve using Simpson's rule\n",
    "    AUC = simps(Accuracy , Epsilon ) / End_Range\n",
    "        \n",
    "    # returning epsilon , accuracy , area under curve    \n",
    "    return Epsilon , Accuracy , AUC\n",
    "\n",
    "# finding the deviation and accuracy, and area under curve for plotting\n",
    "Deviation, Accuracy, AUC = REC(y_val, y_predval)\n",
    "\n",
    "# Calculating R^2 of the true and predicted values\n",
    "RR = r2_score(y_val, y_predval)\n",
    "\n",
    "# Plotting\n",
    "plt.figure(figsize=(20 , 10))\n",
    "\n",
    "plt.subplot(1, 2, 1)\n",
    "plt.scatter(y_val, y_predval,color = \"darkorange\")\n",
    "plt.xlabel(\"Real Data\")\n",
    "plt.ylabel(\"Predicted\")\n",
    "plt.figure(figsize=(20 , 10))\n",
    "plt.plot([y_val.min(), y_val.max()], [y_val.min(), y_val.max()], 'k--', lw=4)\n",
    "print(\"R^2 = %0.4f\" %RR)\n",
    "\n",
    "\n",
    "plt.subplot(1, 2, 2)\n",
    "plt.title(\"Regression Error Characteristic (REC)\")\n",
    "plt.plot(Deviation, Accuracy, \"--b\",lw =3)\n",
    "plt.xlabel(\"Deviation\")\n",
    "plt.ylabel(\"Accuracy (%)\")\n",
    "plt.text(1.1, 0.07, \"AUC = %0.4f\" %AUC , fontsize=15)\n",
    "\n",
    "\n",
    "plt.show()"
   ]
  },
  {
   "cell_type": "code",
   "execution_count": 23,
   "metadata": {},
   "outputs": [
    {
     "name": "stdout",
     "output_type": "stream",
     "text": [
      "Best: -1.144204 using {'min_samples_split': 90}\n"
     ]
    }
   ],
   "source": [
    "param_grid = {  'min_samples_split':[1.0,5,10,15,20,25,30,35,40,45,50,55,60,65,70,75,80,85,90,95,100]\n",
    "                  \n",
    "                 }  \n",
    "regressor = DecisionTreeRegressor()\n",
    "random=RandomizedSearchCV(estimator=regressor,param_distributions=param_grid,cv=3,n_jobs=-1)\n",
    "random_result=random.fit(X_train,y_train)\n",
    "print(\"Best: %f using %s\" % (random_result.best_score_,random_result.best_params_))"
   ]
  },
  {
   "cell_type": "code",
   "execution_count": 24,
   "metadata": {},
   "outputs": [
    {
     "name": "stdout",
     "output_type": "stream",
     "text": [
      "0.9043002225702249\n",
      "1.7528316331991134\n",
      "1.3239454796928434\n",
      "Variance score: -1.52\n"
     ]
    }
   ],
   "source": [
    "# Fitting Random Forest Regression to the dataset\n",
    "from sklearn.tree import DecisionTreeRegressor\n",
    "regressor = DecisionTreeRegressor(min_samples_split = 90)\n",
    "\n",
    "regressor.fit(X_train, y_train)\n",
    "#Predicting the Validation set results\n",
    "y_predval = regressor.predict(X_val)\n",
    "# Print result of MAE\n",
    "from sklearn import metrics\n",
    "print(metrics.mean_absolute_error(y_val, y_predval))\n",
    "\n",
    "# Print result of MSE\n",
    "print(metrics.mean_squared_error(y_val, y_predval))\n",
    "\n",
    "# Print result of RMSE\n",
    "print(np.sqrt(metrics.mean_squared_error(y_val, y_predval)))\n",
    "\n",
    "# Explained variance score: 1 is perfect prediction (Accuracy Score)\n",
    "print('Variance score: %.2f' % regressor.score(X_val, y_val))\n"
   ]
  },
  {
   "cell_type": "code",
   "execution_count": 25,
   "metadata": {},
   "outputs": [
    {
     "name": "stdout",
     "output_type": "stream",
     "text": [
      "R^2 = -1.5160\n"
     ]
    },
    {
     "data": {
      "image/png": "[encoded data removed]",
      "text/plain": [
       "<Figure size 1440x720 with 1 Axes>"
      ]
     },
     "metadata": {
      "needs_background": "light"
     },
     "output_type": "display_data"
    },
    {
     "data": {
      "image/png": "[encoded data removed]",
      "text/plain": [
       "<Figure size 1440x720 with 1 Axes>"
      ]
     },
     "metadata": {
      "needs_background": "light"
     },
     "output_type": "display_data"
    }
   ],
   "source": [
    "# Visualising the Random Forest Regression Results\n",
    "# Loading Packages\n",
    "import seaborn as sns\n",
    "import matplotlib.pyplot as plt\n",
    "from sklearn.model_selection import cross_val_predict\n",
    "from sklearn.metrics import r2_score\n",
    "#from sklearn import linear_model\n",
    "from sklearn import datasets\n",
    "from scipy.integrate import simps\n",
    "\n",
    "# Function for Regression Error Characteritic Curve\n",
    "\n",
    "def REC(y_val , y_predval):\n",
    "    \n",
    "    # initilizing the lists\n",
    "    Accuracy = []\n",
    "    \n",
    "    # initializing the values for Epsilon\n",
    "    Begin_Range = 0\n",
    "    End_Range = 1.5\n",
    "    Interval_Size = 0.01\n",
    "    \n",
    "    # List of epsilons\n",
    "    Epsilon = np.arange(Begin_Range , End_Range , Interval_Size)\n",
    "    \n",
    "    # Main Loops\n",
    "    for i in range(len(Epsilon)):\n",
    "        count = 0.0\n",
    "        for j in range(len(y_val)):\n",
    "            if np.linalg.norm(y_val[j] - y_predval[j]) / np.sqrt( np.linalg.norm(y_val[j]) **2 + np.linalg.norm(y_predval[j])**2 ) < Epsilon[i]:\n",
    "                count = count + 1\n",
    "        \n",
    "        Accuracy.append(count/len(y_val))\n",
    "    \n",
    "    # Calculating Area Under Curve using Simpson's rule\n",
    "    AUC = simps(Accuracy , Epsilon ) / End_Range\n",
    "        \n",
    "    # returning epsilon , accuracy , area under curve    \n",
    "    return Epsilon , Accuracy , AUC\n",
    "\n",
    "# finding the deviation and accuracy, and area under curve for plotting\n",
    "Deviation, Accuracy, AUC = REC(y_val, y_predval)\n",
    "\n",
    "# Calculating R^2 of the true and predicted values\n",
    "RR = r2_score(y_val, y_predval)\n",
    "\n",
    "# Plotting\n",
    "plt.figure(figsize=(20 , 10))\n",
    "\n",
    "plt.subplot(1, 2, 1)\n",
    "plt.scatter(y_val, y_predval,color = \"darkorange\")\n",
    "plt.xlabel(\"Real Data\")\n",
    "plt.ylabel(\"Predicted\")\n",
    "plt.figure(figsize=(20 , 10))\n",
    "plt.plot([y_val.min(), y_val.max()], [y_val.min(), y_val.max()], 'k--', lw=4)\n",
    "print(\"R^2 = %0.4f\" %RR)\n",
    "\n",
    "\n",
    "plt.subplot(1, 2, 2)\n",
    "plt.title(\"Regression Error Characteristic (REC)\")\n",
    "plt.plot(Deviation, Accuracy, \"--b\",lw =3)\n",
    "plt.xlabel(\"Deviation\")\n",
    "plt.ylabel(\"Accuracy (%)\")\n",
    "plt.text(1.1, 0.07, \"AUC = %0.4f\" %AUC , fontsize=15)\n",
    "\n",
    "\n",
    "plt.show()"
   ]
  },
  {
   "cell_type": "code",
   "execution_count": 27,
   "metadata": {},
   "outputs": [
    {
     "name": "stdout",
     "output_type": "stream",
     "text": [
      "Best: -0.514304 using {'min_samples_split': 0.9, 'max_depth': 1}\n"
     ]
    }
   ],
   "source": [
    "param_grid = {  'min_samples_split': [0.9],\n",
    "              'max_depth': [1,2,3,4,5,6,7,8,9,10,15,20,25,30,35,40,45,50,55,60,65,70,75,80,90,95,100]\n",
    "              \n",
    "                  \n",
    "                 }  \n",
    "regressor = DecisionTreeRegressor()\n",
    "random=RandomizedSearchCV(estimator=regressor,param_distributions=param_grid,cv=3,n_jobs=-1)\n",
    "random_result=random.fit(X_train,y_train)\n",
    "print(\"Best: %f using %s\" % (random_result.best_score_,random_result.best_params_))"
   ]
  },
  {
   "cell_type": "code",
   "execution_count": 28,
   "metadata": {},
   "outputs": [
    {
     "name": "stdout",
     "output_type": "stream",
     "text": [
      "0.6012646583967588\n",
      "0.6978296488070103\n",
      "0.8353619866902074\n",
      "Variance score: -0.00\n"
     ]
    }
   ],
   "source": [
    "# Fitting Random Forest Regression to the dataset\n",
    "from sklearn.tree import DecisionTreeRegressor\n",
    "regressor = DecisionTreeRegressor(min_samples_split = 0.9,max_depth=1)\n",
    "\n",
    "regressor.fit(X_train, y_train)\n",
    "#Predicting the Validation set results\n",
    "y_predval = regressor.predict(X_val)\n",
    "# Print result of MAE\n",
    "from sklearn import metrics\n",
    "print(metrics.mean_absolute_error(y_val, y_predval))\n",
    "\n",
    "# Print result of MSE\n",
    "print(metrics.mean_squared_error(y_val, y_predval))\n",
    "\n",
    "# Print result of RMSE\n",
    "print(np.sqrt(metrics.mean_squared_error(y_val, y_predval)))\n",
    "\n",
    "# Explained variance score: 1 is perfect prediction (Accuracy Score)\n",
    "print('Variance score: %.2f' % regressor.score(X_val, y_val))\n"
   ]
  },
  {
   "cell_type": "code",
   "execution_count": 29,
   "metadata": {},
   "outputs": [
    {
     "name": "stdout",
     "output_type": "stream",
     "text": [
      "R^2 = -0.0017\n"
     ]
    },
    {
     "data": {
      "image/png": "[encoded data removed]",
      "text/plain": [
       "<Figure size 1440x720 with 1 Axes>"
      ]
     },
     "metadata": {
      "needs_background": "light"
     },
     "output_type": "display_data"
    },
    {
     "data": {
      "image/png": "[encoded data removed]",
      "text/plain": [
       "<Figure size 1440x720 with 1 Axes>"
      ]
     },
     "metadata": {
      "needs_background": "light"
     },
     "output_type": "display_data"
    }
   ],
   "source": [
    "# Visualising the Random Forest Regression Results\n",
    "# Loading Packages\n",
    "import seaborn as sns\n",
    "import matplotlib.pyplot as plt\n",
    "from sklearn.model_selection import cross_val_predict\n",
    "from sklearn.metrics import r2_score\n",
    "#from sklearn import linear_model\n",
    "from sklearn import datasets\n",
    "from scipy.integrate import simps\n",
    "\n",
    "# Function for Regression Error Characteritic Curve\n",
    "\n",
    "def REC(y_val , y_predval):\n",
    "    \n",
    "    # initilizing the lists\n",
    "    Accuracy = []\n",
    "    \n",
    "    # initializing the values for Epsilon\n",
    "    Begin_Range = 0\n",
    "    End_Range = 1.5\n",
    "    Interval_Size = 0.01\n",
    "    \n",
    "    # List of epsilons\n",
    "    Epsilon = np.arange(Begin_Range , End_Range , Interval_Size)\n",
    "    \n",
    "    # Main Loops\n",
    "    for i in range(len(Epsilon)):\n",
    "        count = 0.0\n",
    "        for j in range(len(y_val)):\n",
    "            if np.linalg.norm(y_val[j] - y_predval[j]) / np.sqrt( np.linalg.norm(y_val[j]) **2 + np.linalg.norm(y_predval[j])**2 ) < Epsilon[i]:\n",
    "                count = count + 1\n",
    "        \n",
    "        Accuracy.append(count/len(y_val))\n",
    "    \n",
    "    # Calculating Area Under Curve using Simpson's rule\n",
    "    AUC = simps(Accuracy , Epsilon ) / End_Range\n",
    "        \n",
    "    # returning epsilon , accuracy , area under curve    \n",
    "    return Epsilon , Accuracy , AUC\n",
    "\n",
    "# finding the deviation and accuracy, and area under curve for plotting\n",
    "Deviation, Accuracy, AUC = REC(y_val, y_predval)\n",
    "\n",
    "# Calculating R^2 of the true and predicted values\n",
    "RR = r2_score(y_val, y_predval)\n",
    "\n",
    "# Plotting\n",
    "plt.figure(figsize=(20 , 10))\n",
    "\n",
    "plt.subplot(1, 2, 1)\n",
    "plt.scatter(y_val, y_predval,color = \"darkorange\")\n",
    "plt.xlabel(\"Real Data\")\n",
    "plt.ylabel(\"Predicted\")\n",
    "plt.figure(figsize=(20 , 10))\n",
    "plt.plot([y_val.min(), y_val.max()], [y_val.min(), y_val.max()], 'k--', lw=4)\n",
    "print(\"R^2 = %0.4f\" %RR)\n",
    "\n",
    "\n",
    "plt.subplot(1, 2, 2)\n",
    "plt.title(\"Regression Error Characteristic (REC)\")\n",
    "plt.plot(Deviation, Accuracy, \"--b\",lw =3)\n",
    "plt.xlabel(\"Deviation\")\n",
    "plt.ylabel(\"Accuracy (%)\")\n",
    "plt.text(1.1, 0.07, \"AUC = %0.4f\" %AUC , fontsize=15)\n",
    "\n",
    "\n",
    "plt.show()"
   ]
  },
  {
   "cell_type": "code",
   "execution_count": 30,
   "metadata": {},
   "outputs": [
    {
     "name": "stderr",
     "output_type": "stream",
     "text": [
      "C:\\Users\\Kanika Saini\\Anaconda3\\lib\\site-packages\\sklearn\\model_selection\\_search.py:271: UserWarning: The total space of parameters 5 is smaller than n_iter=10. Running 5 iterations. For exhaustive searches, use GridSearchCV.\n",
      "  % (grid_size, self.n_iter, grid_size), UserWarning)\n"
     ]
    },
    {
     "name": "stdout",
     "output_type": "stream",
     "text": [
      "Best: -0.177853 using {'min_samples_split': 0.9, 'min_samples_leaf': 0.5, 'max_depth': 1}\n"
     ]
    }
   ],
   "source": [
    "\n",
    "param_grid = {  'min_samples_split': [0.9],\n",
    "              'max_depth': [1],\n",
    "              'min_samples_leaf':[0.1,0.20,0.3,0.4,0.5]\n",
    "              \n",
    "                  \n",
    "                 }  \n",
    "regressor = DecisionTreeRegressor()\n",
    "random=RandomizedSearchCV(estimator=regressor,param_distributions=param_grid,cv=3,n_jobs=-1)\n",
    "random_result=random.fit(X_train,y_train)\n",
    "print(\"Best: %f using %s\" % (random_result.best_score_,random_result.best_params_)) "
   ]
  },
  {
   "cell_type": "code",
   "execution_count": 33,
   "metadata": {},
   "outputs": [
    {
     "name": "stdout",
     "output_type": "stream",
     "text": [
      "0.6276374596839045\n",
      "0.694512594036967\n",
      "0.8333742220857128\n",
      "Variance score: 0.00\n"
     ]
    }
   ],
   "source": [
    "# Fitting Random Forest Regression to the dataset\n",
    "from sklearn.tree import DecisionTreeRegressor\n",
    "regressor = DecisionTreeRegressor(min_samples_split = 0.9,min_samples_leaf=0.5)\n",
    "\n",
    "regressor.fit(X_train, y_train)\n",
    "#Predicting the Validation set results\n",
    "y_predval = regressor.predict(X_val)\n",
    "# Print result of MAE\n",
    "from sklearn import metrics\n",
    "print(metrics.mean_absolute_error(y_val, y_predval))\n",
    "\n",
    "# Print result of MSE\n",
    "print(metrics.mean_squared_error(y_val, y_predval))\n",
    "\n",
    "# Print result of RMSE\n",
    "print(np.sqrt(metrics.mean_squared_error(y_val, y_predval)))\n",
    "\n",
    "# Explained variance score: 1 is perfect prediction (Accuracy Score)\n",
    "print('Variance score: %.2f' % regressor.score(X_val, y_val))\n"
   ]
  },
  {
   "cell_type": "code",
   "execution_count": 34,
   "metadata": {},
   "outputs": [
    {
     "name": "stdout",
     "output_type": "stream",
     "text": [
      "R^2 = 0.0031\n"
     ]
    },
    {
     "data": {
      "image/png": "[encoded data removed]",
      "text/plain": [
       "<Figure size 1440x720 with 1 Axes>"
      ]
     },
     "metadata": {
      "needs_background": "light"
     },
     "output_type": "display_data"
    },
    {
     "data": {
      "image/png": "[encoded data removed]",
      "text/plain": [
       "<Figure size 1440x720 with 1 Axes>"
      ]
     },
     "metadata": {
      "needs_background": "light"
     },
     "output_type": "display_data"
    }
   ],
   "source": [
    "# Visualising the Random Forest Regression Results\n",
    "# Loading Packages\n",
    "import seaborn as sns\n",
    "import matplotlib.pyplot as plt\n",
    "from sklearn.model_selection import cross_val_predict\n",
    "from sklearn.metrics import r2_score\n",
    "#from sklearn import linear_model\n",
    "from sklearn import datasets\n",
    "from scipy.integrate import simps\n",
    "\n",
    "# Function for Regression Error Characteritic Curve\n",
    "\n",
    "def REC(y_val , y_predval):\n",
    "    \n",
    "    # initilizing the lists\n",
    "    Accuracy = []\n",
    "    \n",
    "    # initializing the values for Epsilon\n",
    "    Begin_Range = 0\n",
    "    End_Range = 1.5\n",
    "    Interval_Size = 0.01\n",
    "    \n",
    "    # List of epsilons\n",
    "    Epsilon = np.arange(Begin_Range , End_Range , Interval_Size)\n",
    "    \n",
    "    # Main Loops\n",
    "    for i in range(len(Epsilon)):\n",
    "        count = 0.0\n",
    "        for j in range(len(y_val)):\n",
    "            if np.linalg.norm(y_val[j] - y_predval[j]) / np.sqrt( np.linalg.norm(y_val[j]) **2 + np.linalg.norm(y_predval[j])**2 ) < Epsilon[i]:\n",
    "                count = count + 1\n",
    "        \n",
    "        Accuracy.append(count/len(y_val))\n",
    "    \n",
    "    # Calculating Area Under Curve using Simpson's rule\n",
    "    AUC = simps(Accuracy , Epsilon ) / End_Range\n",
    "        \n",
    "    # returning epsilon , accuracy , area under curve    \n",
    "    return Epsilon , Accuracy , AUC\n",
    "\n",
    "# finding the deviation and accuracy, and area under curve for plotting\n",
    "Deviation, Accuracy, AUC = REC(y_val, y_predval)\n",
    "\n",
    "# Calculating R^2 of the true and predicted values\n",
    "RR = r2_score(y_val, y_predval)\n",
    "\n",
    "# Plotting\n",
    "plt.figure(figsize=(20 , 10))\n",
    "\n",
    "plt.subplot(1, 2, 1)\n",
    "plt.scatter(y_val, y_predval,color = \"darkorange\")\n",
    "plt.xlabel(\"Real Data\")\n",
    "plt.ylabel(\"Predicted\")\n",
    "plt.figure(figsize=(20 , 10))\n",
    "plt.plot([y_val.min(), y_val.max()], [y_val.min(), y_val.max()], 'k--', lw=4)\n",
    "print(\"R^2 = %0.4f\" %RR)\n",
    "\n",
    "\n",
    "plt.subplot(1, 2, 2)\n",
    "plt.title(\"Regression Error Characteristic (REC)\")\n",
    "plt.plot(Deviation, Accuracy, \"--b\",lw =3)\n",
    "plt.xlabel(\"Deviation\")\n",
    "plt.ylabel(\"Accuracy (%)\")\n",
    "plt.text(1.1, 0.07, \"AUC = %0.4f\" %AUC , fontsize=15)\n",
    "\n",
    "\n",
    "plt.show()"
   ]
  },
  {
   "cell_type": "code",
   "execution_count": null,
   "metadata": {},
   "outputs": [],
   "source": []
  }
 ],
 "metadata": {
  "kernelspec": {
   "display_name": "Python 3",
   "language": "python",
   "name": "python3"
  },
  "language_info": {
   "codemirror_mode": {
    "name": "ipython",
    "version": 3
   },
   "file_extension": ".py",
   "mimetype": "text/x-python",
   "name": "python",
   "nbconvert_exporter": "python",
   "pygments_lexer": "ipython3",
   "version": "3.7.1"
  }
 },
 "nbformat": 4,
 "nbformat_minor": 2
}
