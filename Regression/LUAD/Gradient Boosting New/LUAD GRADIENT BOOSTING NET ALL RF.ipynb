{
 "cells": [
  {
   "cell_type": "code",
   "execution_count": 1,
   "metadata": {},
   "outputs": [],
   "source": [
    "#importing necessary python packages\n",
    "import pandas as pd\n",
    "import numpy as np\n",
    "from sklearn.ensemble import RandomForestRegressor\n",
    "from sklearn.feature_selection import SelectFromModel\n",
    "from sklearn.ensemble import GradientBoostingRegressor"
   ]
  },
  {
   "cell_type": "code",
   "execution_count": 2,
   "metadata": {},
   "outputs": [],
   "source": [
    "# Importing the dataset\n",
    "dataset1 = pd.read_excel('LUAD_Clinical.xlsx',index_col=0)\n",
    "dataset2 = pd.read_excel('LUAD_Flux.xlsx',index_col=0)\n",
    "dataset3 = pd.read_excel('LUAD_Genes.xlsx',index_col=0)"
   ]
  },
  {
   "cell_type": "code",
   "execution_count": 3,
   "metadata": {},
   "outputs": [
    {
     "data": {
      "text/html": [
       "<div>\n",
       "<style scoped>\n",
       "    .dataframe tbody tr th:only-of-type {\n",
       "        vertical-align: middle;\n",
       "    }\n",
       "\n",
       "    .dataframe tbody tr th {\n",
       "        vertical-align: top;\n",
       "    }\n",
       "\n",
       "    .dataframe thead th {\n",
       "        text-align: right;\n",
       "    }\n",
       "</style>\n",
       "<table border=\"1\" class=\"dataframe\">\n",
       "  <thead>\n",
       "    <tr style=\"text-align: right;\">\n",
       "      <th></th>\n",
       "      <th>Diagnosis Age</th>\n",
       "      <th>Birth from Initial Pathologic Diagnosis Date</th>\n",
       "      <th>Last Alive Less Initial Pathologic Diagnosis Date Calculated Day Value</th>\n",
       "      <th>Fraction Genome Altered</th>\n",
       "      <th>Year Cancer Initial Diagnosis</th>\n",
       "      <th>Longest Dimension</th>\n",
       "      <th>Number of Samples Per Patient</th>\n",
       "      <th>Sample type id</th>\n",
       "      <th>Shortest Dimension</th>\n",
       "      <th>Specimen Second Longest Dimension</th>\n",
       "      <th>...</th>\n",
       "      <th>Tissue Source Site_NJ</th>\n",
       "      <th>Tissue Source Site_O1</th>\n",
       "      <th>Tissue Source Site_S2</th>\n",
       "      <th>Person Neoplasm Status_TUMOR FREE</th>\n",
       "      <th>Person Neoplasm Status_WITH TUMOR</th>\n",
       "      <th>Vial number_A</th>\n",
       "      <th>Vial number_B</th>\n",
       "      <th>Patient's Vital Status_Alive</th>\n",
       "      <th>Patient's Vital Status_Dead</th>\n",
       "      <th>Overall Survival (Months)2</th>\n",
       "    </tr>\n",
       "    <tr>\n",
       "      <th>Sample ID</th>\n",
       "      <th></th>\n",
       "      <th></th>\n",
       "      <th></th>\n",
       "      <th></th>\n",
       "      <th></th>\n",
       "      <th></th>\n",
       "      <th></th>\n",
       "      <th></th>\n",
       "      <th></th>\n",
       "      <th></th>\n",
       "      <th></th>\n",
       "      <th></th>\n",
       "      <th></th>\n",
       "      <th></th>\n",
       "      <th></th>\n",
       "      <th></th>\n",
       "      <th></th>\n",
       "      <th></th>\n",
       "      <th></th>\n",
       "      <th></th>\n",
       "      <th></th>\n",
       "    </tr>\n",
       "  </thead>\n",
       "  <tbody>\n",
       "    <tr>\n",
       "      <th>TCGA-05-4244-01</th>\n",
       "      <td>70.0</td>\n",
       "      <td>-25752.0</td>\n",
       "      <td>0</td>\n",
       "      <td>0.456523</td>\n",
       "      <td>2009.0</td>\n",
       "      <td>1.1</td>\n",
       "      <td>1</td>\n",
       "      <td>1</td>\n",
       "      <td>0.3</td>\n",
       "      <td>0.9</td>\n",
       "      <td>...</td>\n",
       "      <td>0</td>\n",
       "      <td>0</td>\n",
       "      <td>0</td>\n",
       "      <td>1</td>\n",
       "      <td>0</td>\n",
       "      <td>1</td>\n",
       "      <td>0</td>\n",
       "      <td>1</td>\n",
       "      <td>0</td>\n",
       "      <td>0.00</td>\n",
       "    </tr>\n",
       "    <tr>\n",
       "      <th>TCGA-05-4249-01</th>\n",
       "      <td>67.0</td>\n",
       "      <td>-24532.0</td>\n",
       "      <td>0</td>\n",
       "      <td>0.222128</td>\n",
       "      <td>2007.0</td>\n",
       "      <td>1.4</td>\n",
       "      <td>1</td>\n",
       "      <td>1</td>\n",
       "      <td>0.4</td>\n",
       "      <td>0.8</td>\n",
       "      <td>...</td>\n",
       "      <td>0</td>\n",
       "      <td>0</td>\n",
       "      <td>0</td>\n",
       "      <td>1</td>\n",
       "      <td>0</td>\n",
       "      <td>1</td>\n",
       "      <td>0</td>\n",
       "      <td>1</td>\n",
       "      <td>0</td>\n",
       "      <td>50.03</td>\n",
       "    </tr>\n",
       "  </tbody>\n",
       "</table>\n",
       "<p>2 rows × 347 columns</p>\n",
       "</div>"
      ],
      "text/plain": [
       "                 Diagnosis Age  Birth from Initial Pathologic Diagnosis Date  \\\n",
       "Sample ID                                                                      \n",
       "TCGA-05-4244-01           70.0                                      -25752.0   \n",
       "TCGA-05-4249-01           67.0                                      -24532.0   \n",
       "\n",
       "                 Last Alive Less Initial Pathologic Diagnosis Date Calculated Day Value  \\\n",
       "Sample ID                                                                                 \n",
       "TCGA-05-4244-01                                                  0                        \n",
       "TCGA-05-4249-01                                                  0                        \n",
       "\n",
       "                 Fraction Genome Altered  Year Cancer Initial Diagnosis  \\\n",
       "Sample ID                                                                 \n",
       "TCGA-05-4244-01                 0.456523                         2009.0   \n",
       "TCGA-05-4249-01                 0.222128                         2007.0   \n",
       "\n",
       "                 Longest Dimension  Number of Samples Per Patient  \\\n",
       "Sample ID                                                           \n",
       "TCGA-05-4244-01                1.1                              1   \n",
       "TCGA-05-4249-01                1.4                              1   \n",
       "\n",
       "                 Sample type id  Shortest Dimension  \\\n",
       "Sample ID                                             \n",
       "TCGA-05-4244-01               1                 0.3   \n",
       "TCGA-05-4249-01               1                 0.4   \n",
       "\n",
       "                 Specimen Second Longest Dimension  ...  \\\n",
       "Sample ID                                           ...   \n",
       "TCGA-05-4244-01                                0.9  ...   \n",
       "TCGA-05-4249-01                                0.8  ...   \n",
       "\n",
       "                 Tissue Source Site_NJ  Tissue Source Site_O1  \\\n",
       "Sample ID                                                       \n",
       "TCGA-05-4244-01                      0                      0   \n",
       "TCGA-05-4249-01                      0                      0   \n",
       "\n",
       "                 Tissue Source Site_S2  Person Neoplasm Status_TUMOR FREE  \\\n",
       "Sample ID                                                                   \n",
       "TCGA-05-4244-01                      0                                  1   \n",
       "TCGA-05-4249-01                      0                                  1   \n",
       "\n",
       "                 Person Neoplasm Status_WITH TUMOR  Vial number_A  \\\n",
       "Sample ID                                                           \n",
       "TCGA-05-4244-01                                  0              1   \n",
       "TCGA-05-4249-01                                  0              1   \n",
       "\n",
       "                 Vial number_B  Patient's Vital Status_Alive  \\\n",
       "Sample ID                                                      \n",
       "TCGA-05-4244-01              0                             1   \n",
       "TCGA-05-4249-01              0                             1   \n",
       "\n",
       "                 Patient's Vital Status_Dead  Overall Survival (Months)2  \n",
       "Sample ID                                                                 \n",
       "TCGA-05-4244-01                            0                        0.00  \n",
       "TCGA-05-4249-01                            0                       50.03  \n",
       "\n",
       "[2 rows x 347 columns]"
      ]
     },
     "execution_count": 3,
     "metadata": {},
     "output_type": "execute_result"
    }
   ],
   "source": [
    "dataset1.head(2)"
   ]
  },
  {
   "cell_type": "code",
   "execution_count": 4,
   "metadata": {},
   "outputs": [],
   "source": [
    "del dataset2['Overall Survival (Months)']"
   ]
  },
  {
   "cell_type": "code",
   "execution_count": 5,
   "metadata": {},
   "outputs": [],
   "source": [
    "Genes_flux = dataset1.merge(dataset2,left_index=True,right_index=True)"
   ]
  },
  {
   "cell_type": "code",
   "execution_count": 6,
   "metadata": {},
   "outputs": [],
   "source": [
    "Genes_Flux_Clinical = Genes_flux.merge(dataset3,left_index=True,right_index=True)"
   ]
  },
  {
   "cell_type": "code",
   "execution_count": 7,
   "metadata": {},
   "outputs": [],
   "source": [
    "dt=Genes_Flux_Clinical"
   ]
  },
  {
   "cell_type": "code",
   "execution_count": 8,
   "metadata": {},
   "outputs": [
    {
     "data": {
      "text/html": [
       "<div>\n",
       "<style scoped>\n",
       "    .dataframe tbody tr th:only-of-type {\n",
       "        vertical-align: middle;\n",
       "    }\n",
       "\n",
       "    .dataframe tbody tr th {\n",
       "        vertical-align: top;\n",
       "    }\n",
       "\n",
       "    .dataframe thead th {\n",
       "        text-align: right;\n",
       "    }\n",
       "</style>\n",
       "<table border=\"1\" class=\"dataframe\">\n",
       "  <thead>\n",
       "    <tr style=\"text-align: right;\">\n",
       "      <th></th>\n",
       "      <th>Diagnosis Age</th>\n",
       "      <th>Birth from Initial Pathologic Diagnosis Date</th>\n",
       "      <th>Last Alive Less Initial Pathologic Diagnosis Date Calculated Day Value</th>\n",
       "      <th>Fraction Genome Altered</th>\n",
       "      <th>Year Cancer Initial Diagnosis</th>\n",
       "      <th>Longest Dimension</th>\n",
       "      <th>Number of Samples Per Patient</th>\n",
       "      <th>Sample type id</th>\n",
       "      <th>Shortest Dimension</th>\n",
       "      <th>Specimen Second Longest Dimension</th>\n",
       "      <th>...</th>\n",
       "      <th>SLTM</th>\n",
       "      <th>SLU7</th>\n",
       "      <th>SLURP1</th>\n",
       "      <th>SMAD2</th>\n",
       "      <th>SMAD3</th>\n",
       "      <th>SMAD4</th>\n",
       "      <th>SMAD5</th>\n",
       "      <th>SMAD6</th>\n",
       "      <th>SMAD7</th>\n",
       "      <th>Survival</th>\n",
       "    </tr>\n",
       "    <tr>\n",
       "      <th>Sample ID</th>\n",
       "      <th></th>\n",
       "      <th></th>\n",
       "      <th></th>\n",
       "      <th></th>\n",
       "      <th></th>\n",
       "      <th></th>\n",
       "      <th></th>\n",
       "      <th></th>\n",
       "      <th></th>\n",
       "      <th></th>\n",
       "      <th></th>\n",
       "      <th></th>\n",
       "      <th></th>\n",
       "      <th></th>\n",
       "      <th></th>\n",
       "      <th></th>\n",
       "      <th></th>\n",
       "      <th></th>\n",
       "      <th></th>\n",
       "      <th></th>\n",
       "      <th></th>\n",
       "    </tr>\n",
       "  </thead>\n",
       "  <tbody>\n",
       "    <tr>\n",
       "      <th>TCGA-05-4244-01</th>\n",
       "      <td>70.0</td>\n",
       "      <td>-25752.0</td>\n",
       "      <td>0</td>\n",
       "      <td>0.456523</td>\n",
       "      <td>2009.0</td>\n",
       "      <td>1.1</td>\n",
       "      <td>1</td>\n",
       "      <td>1</td>\n",
       "      <td>0.3</td>\n",
       "      <td>0.9</td>\n",
       "      <td>...</td>\n",
       "      <td>-1.1877</td>\n",
       "      <td>3.4584</td>\n",
       "      <td>-0.2752</td>\n",
       "      <td>-0.7736</td>\n",
       "      <td>-0.6896</td>\n",
       "      <td>-0.0017</td>\n",
       "      <td>0.1779</td>\n",
       "      <td>-0.6433</td>\n",
       "      <td>0.7445</td>\n",
       "      <td>0.00</td>\n",
       "    </tr>\n",
       "    <tr>\n",
       "      <th>TCGA-05-4249-01</th>\n",
       "      <td>67.0</td>\n",
       "      <td>-24532.0</td>\n",
       "      <td>0</td>\n",
       "      <td>0.222128</td>\n",
       "      <td>2007.0</td>\n",
       "      <td>1.4</td>\n",
       "      <td>1</td>\n",
       "      <td>1</td>\n",
       "      <td>0.4</td>\n",
       "      <td>0.8</td>\n",
       "      <td>...</td>\n",
       "      <td>-0.5540</td>\n",
       "      <td>0.7962</td>\n",
       "      <td>-0.2752</td>\n",
       "      <td>-0.6214</td>\n",
       "      <td>0.0881</td>\n",
       "      <td>1.3829</td>\n",
       "      <td>2.3203</td>\n",
       "      <td>-0.4918</td>\n",
       "      <td>0.0368</td>\n",
       "      <td>50.03</td>\n",
       "    </tr>\n",
       "    <tr>\n",
       "      <th>TCGA-05-4250-01</th>\n",
       "      <td>79.0</td>\n",
       "      <td>-29068.0</td>\n",
       "      <td>0</td>\n",
       "      <td>0.236200</td>\n",
       "      <td>2007.0</td>\n",
       "      <td>1.2</td>\n",
       "      <td>1</td>\n",
       "      <td>1</td>\n",
       "      <td>0.3</td>\n",
       "      <td>0.7</td>\n",
       "      <td>...</td>\n",
       "      <td>-1.3805</td>\n",
       "      <td>0.0730</td>\n",
       "      <td>-0.2752</td>\n",
       "      <td>-1.3034</td>\n",
       "      <td>1.0473</td>\n",
       "      <td>-0.3628</td>\n",
       "      <td>0.0526</td>\n",
       "      <td>-0.8961</td>\n",
       "      <td>-1.1245</td>\n",
       "      <td>3.98</td>\n",
       "    </tr>\n",
       "    <tr>\n",
       "      <th>TCGA-05-4382-01</th>\n",
       "      <td>68.0</td>\n",
       "      <td>-24868.0</td>\n",
       "      <td>0</td>\n",
       "      <td>0.085449</td>\n",
       "      <td>2009.0</td>\n",
       "      <td>0.9</td>\n",
       "      <td>1</td>\n",
       "      <td>1</td>\n",
       "      <td>0.3</td>\n",
       "      <td>0.8</td>\n",
       "      <td>...</td>\n",
       "      <td>-0.3885</td>\n",
       "      <td>-1.5611</td>\n",
       "      <td>-0.2752</td>\n",
       "      <td>0.3948</td>\n",
       "      <td>-0.6485</td>\n",
       "      <td>0.5367</td>\n",
       "      <td>-0.9418</td>\n",
       "      <td>-0.1446</td>\n",
       "      <td>2.2863</td>\n",
       "      <td>19.94</td>\n",
       "    </tr>\n",
       "    <tr>\n",
       "      <th>TCGA-05-4384-01</th>\n",
       "      <td>66.0</td>\n",
       "      <td>-24411.0</td>\n",
       "      <td>0</td>\n",
       "      <td>0.066063</td>\n",
       "      <td>2009.0</td>\n",
       "      <td>0.8</td>\n",
       "      <td>1</td>\n",
       "      <td>1</td>\n",
       "      <td>0.4</td>\n",
       "      <td>0.8</td>\n",
       "      <td>...</td>\n",
       "      <td>0.4227</td>\n",
       "      <td>0.7651</td>\n",
       "      <td>-0.2752</td>\n",
       "      <td>0.2285</td>\n",
       "      <td>-0.4482</td>\n",
       "      <td>0.5020</td>\n",
       "      <td>0.5863</td>\n",
       "      <td>0.3185</td>\n",
       "      <td>-0.3951</td>\n",
       "      <td>13.99</td>\n",
       "    </tr>\n",
       "  </tbody>\n",
       "</table>\n",
       "<p>5 rows × 17115 columns</p>\n",
       "</div>"
      ],
      "text/plain": [
       "                 Diagnosis Age  Birth from Initial Pathologic Diagnosis Date  \\\n",
       "Sample ID                                                                      \n",
       "TCGA-05-4244-01           70.0                                      -25752.0   \n",
       "TCGA-05-4249-01           67.0                                      -24532.0   \n",
       "TCGA-05-4250-01           79.0                                      -29068.0   \n",
       "TCGA-05-4382-01           68.0                                      -24868.0   \n",
       "TCGA-05-4384-01           66.0                                      -24411.0   \n",
       "\n",
       "                 Last Alive Less Initial Pathologic Diagnosis Date Calculated Day Value  \\\n",
       "Sample ID                                                                                 \n",
       "TCGA-05-4244-01                                                  0                        \n",
       "TCGA-05-4249-01                                                  0                        \n",
       "TCGA-05-4250-01                                                  0                        \n",
       "TCGA-05-4382-01                                                  0                        \n",
       "TCGA-05-4384-01                                                  0                        \n",
       "\n",
       "                 Fraction Genome Altered  Year Cancer Initial Diagnosis  \\\n",
       "Sample ID                                                                 \n",
       "TCGA-05-4244-01                 0.456523                         2009.0   \n",
       "TCGA-05-4249-01                 0.222128                         2007.0   \n",
       "TCGA-05-4250-01                 0.236200                         2007.0   \n",
       "TCGA-05-4382-01                 0.085449                         2009.0   \n",
       "TCGA-05-4384-01                 0.066063                         2009.0   \n",
       "\n",
       "                 Longest Dimension  Number of Samples Per Patient  \\\n",
       "Sample ID                                                           \n",
       "TCGA-05-4244-01                1.1                              1   \n",
       "TCGA-05-4249-01                1.4                              1   \n",
       "TCGA-05-4250-01                1.2                              1   \n",
       "TCGA-05-4382-01                0.9                              1   \n",
       "TCGA-05-4384-01                0.8                              1   \n",
       "\n",
       "                 Sample type id  Shortest Dimension  \\\n",
       "Sample ID                                             \n",
       "TCGA-05-4244-01               1                 0.3   \n",
       "TCGA-05-4249-01               1                 0.4   \n",
       "TCGA-05-4250-01               1                 0.3   \n",
       "TCGA-05-4382-01               1                 0.3   \n",
       "TCGA-05-4384-01               1                 0.4   \n",
       "\n",
       "                 Specimen Second Longest Dimension  ...    SLTM    SLU7  \\\n",
       "Sample ID                                           ...                   \n",
       "TCGA-05-4244-01                                0.9  ... -1.1877  3.4584   \n",
       "TCGA-05-4249-01                                0.8  ... -0.5540  0.7962   \n",
       "TCGA-05-4250-01                                0.7  ... -1.3805  0.0730   \n",
       "TCGA-05-4382-01                                0.8  ... -0.3885 -1.5611   \n",
       "TCGA-05-4384-01                                0.8  ...  0.4227  0.7651   \n",
       "\n",
       "                 SLURP1   SMAD2   SMAD3   SMAD4   SMAD5   SMAD6   SMAD7  \\\n",
       "Sample ID                                                                 \n",
       "TCGA-05-4244-01 -0.2752 -0.7736 -0.6896 -0.0017  0.1779 -0.6433  0.7445   \n",
       "TCGA-05-4249-01 -0.2752 -0.6214  0.0881  1.3829  2.3203 -0.4918  0.0368   \n",
       "TCGA-05-4250-01 -0.2752 -1.3034  1.0473 -0.3628  0.0526 -0.8961 -1.1245   \n",
       "TCGA-05-4382-01 -0.2752  0.3948 -0.6485  0.5367 -0.9418 -0.1446  2.2863   \n",
       "TCGA-05-4384-01 -0.2752  0.2285 -0.4482  0.5020  0.5863  0.3185 -0.3951   \n",
       "\n",
       "                 Survival   \n",
       "Sample ID                   \n",
       "TCGA-05-4244-01       0.00  \n",
       "TCGA-05-4249-01      50.03  \n",
       "TCGA-05-4250-01       3.98  \n",
       "TCGA-05-4382-01      19.94  \n",
       "TCGA-05-4384-01      13.99  \n",
       "\n",
       "[5 rows x 17115 columns]"
      ]
     },
     "execution_count": 8,
     "metadata": {},
     "output_type": "execute_result"
    }
   ],
   "source": [
    "dt.head()"
   ]
  },
  {
   "cell_type": "code",
   "execution_count": 9,
   "metadata": {},
   "outputs": [],
   "source": [
    "del dt['Overall Survival (Months)2']\n",
    "del dt['Patient\\'s Vital Status_Dead']\n",
    "del dt['Patient\\'s Vital Status_Alive']"
   ]
  },
  {
   "cell_type": "code",
   "execution_count": 10,
   "metadata": {},
   "outputs": [
    {
     "data": {
      "text/plain": [
       "(517, 17112)"
      ]
     },
     "execution_count": 10,
     "metadata": {},
     "output_type": "execute_result"
    }
   ],
   "source": [
    "dt.shape"
   ]
  },
  {
   "cell_type": "code",
   "execution_count": 11,
   "metadata": {},
   "outputs": [],
   "source": [
    "X = dt.iloc[:,0:17110]\n",
    "y = dt.iloc[:, -1].values"
   ]
  },
  {
   "cell_type": "code",
   "execution_count": 12,
   "metadata": {},
   "outputs": [],
   "source": [
    "# Splitting the dataset into the Training set and Test set\n",
    "from sklearn.model_selection import train_test_split\n",
    "X_train, X_test, y_train, y_test = train_test_split(X, y, test_size = 0.2, random_state = 0)\n",
    "X_train, X_val, y_train, y_val = train_test_split(X_train, y_train, test_size=0.2, random_state=0)"
   ]
  },
  {
   "cell_type": "code",
   "execution_count": 13,
   "metadata": {},
   "outputs": [
    {
     "name": "stderr",
     "output_type": "stream",
     "text": [
      "/Users/Zayeem/anaconda3/lib/python3.7/site-packages/sklearn/preprocessing/data.py:645: DataConversionWarning: Data with input dtype int64, float64 were all converted to float64 by StandardScaler.\n",
      "  return self.partial_fit(X, y)\n",
      "/Users/Zayeem/anaconda3/lib/python3.7/site-packages/sklearn/base.py:464: DataConversionWarning: Data with input dtype int64, float64 were all converted to float64 by StandardScaler.\n",
      "  return self.fit(X, **fit_params).transform(X)\n",
      "/Users/Zayeem/anaconda3/lib/python3.7/site-packages/ipykernel_launcher.py:5: DataConversionWarning: Data with input dtype int64, float64 were all converted to float64 by StandardScaler.\n",
      "  \"\"\"\n",
      "/Users/Zayeem/anaconda3/lib/python3.7/site-packages/ipykernel_launcher.py:6: DataConversionWarning: Data with input dtype int64, float64 were all converted to float64 by StandardScaler.\n",
      "  \n"
     ]
    }
   ],
   "source": [
    "# Feature Scaling\n",
    "from sklearn.preprocessing import StandardScaler\n",
    "sc_X = StandardScaler()\n",
    "X_train = sc_X.fit_transform(X_train)\n",
    "X_test = sc_X.transform(X_test)\n",
    "X_val = sc_X.transform(X_val)"
   ]
  },
  {
   "cell_type": "code",
   "execution_count": 14,
   "metadata": {},
   "outputs": [],
   "source": [
    "# Create a random forest Regressor\n",
    "rgr = RandomForestRegressor(n_estimators=100, random_state=0)"
   ]
  },
  {
   "cell_type": "code",
   "execution_count": 15,
   "metadata": {},
   "outputs": [
    {
     "data": {
      "text/plain": [
       "RandomForestRegressor(bootstrap=True, criterion='mse', max_depth=None,\n",
       "           max_features='auto', max_leaf_nodes=None,\n",
       "           min_impurity_decrease=0.0, min_impurity_split=None,\n",
       "           min_samples_leaf=1, min_samples_split=2,\n",
       "           min_weight_fraction_leaf=0.0, n_estimators=100, n_jobs=None,\n",
       "           oob_score=False, random_state=0, verbose=0, warm_start=False)"
      ]
     },
     "execution_count": 15,
     "metadata": {},
     "output_type": "execute_result"
    }
   ],
   "source": [
    "# Train the Regressor\n",
    "rgr.fit(X_train, y_train)"
   ]
  },
  {
   "cell_type": "code",
   "execution_count": null,
   "metadata": {},
   "outputs": [],
   "source": [
    "# Print the name and importance of each feature\n",
    "for feature in zip(X.columns, rgr.feature_importances_):\n",
    "    print(feature)"
   ]
  },
  {
   "cell_type": "code",
   "execution_count": 17,
   "metadata": {},
   "outputs": [],
   "source": [
    "#Select the best features from the regressor\n",
    "sfm = SelectFromModel(rgr)"
   ]
  },
  {
   "cell_type": "code",
   "execution_count": 18,
   "metadata": {},
   "outputs": [
    {
     "data": {
      "text/plain": [
       "SelectFromModel(estimator=RandomForestRegressor(bootstrap=True, criterion='mse', max_depth=None,\n",
       "           max_features='auto', max_leaf_nodes=None,\n",
       "           min_impurity_decrease=0.0, min_impurity_split=None,\n",
       "           min_samples_leaf=1, min_samples_split=2,\n",
       "           min_weight_fraction_leaf=0.0, n_estimators=100, n_jobs=None,\n",
       "           oob_score=False, random_state=0, verbose=0, warm_start=False),\n",
       "        max_features=None, norm_order=1, prefit=False, threshold=None)"
      ]
     },
     "execution_count": 18,
     "metadata": {},
     "output_type": "execute_result"
    }
   ],
   "source": [
    "# Train the Regressor\n",
    "sfm.fit(X_train, y_train)"
   ]
  },
  {
   "cell_type": "code",
   "execution_count": null,
   "metadata": {},
   "outputs": [],
   "source": [
    "# Print the names of the most important features\n",
    "for feature_list_index in sfm.get_support(indices=True):\n",
    "    print(X.columns[feature_list_index])"
   ]
  },
  {
   "cell_type": "code",
   "execution_count": 20,
   "metadata": {},
   "outputs": [
    {
     "data": {
      "text/plain": [
       "1701"
      ]
     },
     "execution_count": 20,
     "metadata": {},
     "output_type": "execute_result"
    }
   ],
   "source": [
    "sfm.get_support().sum()"
   ]
  },
  {
   "cell_type": "code",
   "execution_count": 21,
   "metadata": {},
   "outputs": [],
   "source": [
    "# Transform the data to create a new dataset containing only the most important features\n",
    "# Note: We have to apply the transform to both the training X and test X data.\n",
    "X_important_train = sfm.transform(X_train)\n",
    "X_important_val = sfm.transform(X_val)\n",
    "X_important_test = sfm.transform(X_test)"
   ]
  },
  {
   "cell_type": "code",
   "execution_count": 22,
   "metadata": {},
   "outputs": [
    {
     "data": {
      "text/plain": [
       "GradientBoostingRegressor(alpha=0.9, criterion='friedman_mse', init=None,\n",
       "             learning_rate=0.1, loss='ls', max_depth=3, max_features=None,\n",
       "             max_leaf_nodes=None, min_impurity_decrease=0.0,\n",
       "             min_impurity_split=None, min_samples_leaf=1,\n",
       "             min_samples_split=2, min_weight_fraction_leaf=0.0,\n",
       "             n_estimators=100, n_iter_no_change=None, presort='auto',\n",
       "             random_state=None, subsample=1.0, tol=0.0001,\n",
       "             validation_fraction=0.1, verbose=0, warm_start=False)"
      ]
     },
     "execution_count": 22,
     "metadata": {},
     "output_type": "execute_result"
    }
   ],
   "source": [
    "rgr_important = GradientBoostingRegressor()\n",
    "\n",
    "# Train the new Regressor on the new dataset containing the most important features\n",
    "rgr_important.fit(X_important_train, y_train)"
   ]
  },
  {
   "cell_type": "code",
   "execution_count": 23,
   "metadata": {},
   "outputs": [],
   "source": [
    "\n",
    "y_predval = rgr_important.predict(X_important_val)"
   ]
  },
  {
   "cell_type": "code",
   "execution_count": 24,
   "metadata": {},
   "outputs": [
    {
     "name": "stdout",
     "output_type": "stream",
     "text": [
      "15.070881407209823\n",
      "438.05579736477995\n",
      "20.92978254461283\n",
      "R2 Score\n",
      "0.19826092828614483\n"
     ]
    }
   ],
   "source": [
    "#Compare The Accuracy Of Our Full Feature Classifier To Our Limited Feature Classifier\n",
    "# Print result of MAE\n",
    "from sklearn import metrics\n",
    "print(metrics.mean_absolute_error(y_val, y_predval))\n",
    "\n",
    "# Print result of MSE\n",
    "print(metrics.mean_squared_error(y_val, y_predval))\n",
    "\n",
    "# Print result of RMSE\n",
    "print(np.sqrt(metrics.mean_squared_error(y_val, y_predval)))\n",
    "\n",
    "from sklearn.metrics import r2_score\n",
    "accuracy=r2_score(y_val,y_predval)\n",
    "\n",
    "print('R2 Score')\n",
    "print(accuracy)"
   ]
  },
  {
   "cell_type": "code",
   "execution_count": 26,
   "metadata": {},
   "outputs": [
    {
     "data": {
      "image/png": "[encoded data removed]",
      "text/plain": [
       "<Figure size 1008x576 with 2 Axes>"
      ]
     },
     "metadata": {
      "needs_background": "light"
     },
     "output_type": "display_data"
    }
   ],
   "source": [
    "# Visualising the Decision Tree Regression Results\n",
    "# Loading Packages\n",
    "import seaborn as sns\n",
    "import matplotlib.pyplot as plt\n",
    "from sklearn.model_selection import cross_val_predict\n",
    "from sklearn.metrics import r2_score\n",
    "#from sklearn import linear_model\n",
    "from sklearn import datasets\n",
    "from scipy.integrate import simps\n",
    "\n",
    "# Function for Regression Error Characteritic Curve\n",
    "\n",
    "def REC(y_val , y_predval):\n",
    "    \n",
    "    # initilizing the lists\n",
    "    Accuracy = []\n",
    "    \n",
    "    # initializing the values for Epsilon\n",
    "    Begin_Range = 0\n",
    "    End_Range = 1.5\n",
    "    Interval_Size = 0.01\n",
    "    \n",
    "    # List of epsilons\n",
    "    Epsilon = np.arange(Begin_Range , End_Range , Interval_Size)\n",
    "    \n",
    "    # Main Loops\n",
    "    for i in range(len(Epsilon)):\n",
    "        count = 0.0\n",
    "        for j in range(len(y_val)):\n",
    "            if np.linalg.norm(y_val[j] - y_predval[j]) / np.sqrt( np.linalg.norm(y_val[j]) **2 + np.linalg.norm(y_predval[j])**2 ) < Epsilon[i]:\n",
    "                count = count + 1\n",
    "        \n",
    "        Accuracy.append(count/len(y_val))\n",
    "    \n",
    "    # Calculating Area Under Curve using Simpson's rule\n",
    "    AUC = simps(Accuracy , Epsilon ) / End_Range\n",
    "        \n",
    "    # returning epsilon , accuracy , area under curve    \n",
    "    return Epsilon , Accuracy , AUC\n",
    "\n",
    "# finding the deviation and accuracy, and area under curve for plotting\n",
    "Deviation, Accuracy, AUC = REC(y_val, y_predval)\n",
    "\n",
    "# Calculating R^2 of the true and predicted values\n",
    "RR = r2_score(y_val, y_predval)\n",
    "\n",
    "# Plotting\n",
    "plt.figure(figsize=(14 , 8))\n",
    "\n",
    "plt.subplot(1, 2, 1)\n",
    "plt.scatter(y_val, y_predval,color = \"darkorange\")\n",
    "plt.xlabel(\"Real Data\")\n",
    "plt.ylabel(\"Predicted\")\n",
    "plt.plot([y_val.min(), y_val.max()], [y_val.min(), y_val.max()], 'k--', lw=4)\n",
    "plt.text(45, -5, r\"$R^2 = %0.4f$\" %RR , fontsize=15)\n",
    "\n",
    "\n",
    "plt.subplot(1, 2, 2)\n",
    "plt.title(\"Regression Error Characteristic (REC)\")\n",
    "plt.plot(Deviation, Accuracy, \"--b\",lw =3)\n",
    "plt.xlabel(\"Deviation\")\n",
    "plt.ylabel(\"Accuracy (%)\")\n",
    "plt.text(1.1, 0.07, \"AUC = %0.4f\" %AUC , fontsize=15)\n",
    "\n",
    "\n",
    "plt.show()"
   ]
  },
  {
   "cell_type": "code",
   "execution_count": 42,
   "metadata": {},
   "outputs": [
    {
     "name": "stdout",
     "output_type": "stream",
     "text": [
      "Best: 0.005447 using {'n_estimators': 200, 'min_samples_split': 0.01, 'min_samples_leaf': 0.2, 'max_features': 6, 'max_depth': 80, 'learning_rate': 0.05}\n"
     ]
    }
   ],
   "source": [
    "from sklearn.model_selection import RandomizedSearchCV\n",
    "param_grid = {  'learning_rate':[0.005,0.001,0.01,0.05,0.1,0.5,0.9,1.0,2,3,4,5,6,7,8,9,10,20,30,40,50,60,70,80,90,100],\n",
    "                 'n_estimators': [1,2,3,4,5,6,7,8,9,10,20,30,40,50,60,70,100,200] ,\n",
    "              'max_depth': [1,2,3,4,5,6,7,8,9,10,15,20,25,30,35,40,45,50,55,60,65,70,75,80,90,95,100],\n",
    "              'min_samples_split':[0.005,0.001,0.01,0.05,0.1,0.5,0.9,1.0,5,10,15,20,25,30,35,40,45,50,55,60,65,70,75,80,85,90,95,100],\n",
    "              'min_samples_leaf':[0.1,0.20,0.3,0.4,0.5],              \n",
    "              'max_features': [1,2,3,4,5,6,7,8,9,10,50,100]\n",
    "                 }  \n",
    "regressor = GradientBoostingRegressor()\n",
    "random=RandomizedSearchCV(estimator=regressor,param_distributions=param_grid,cv=3,n_iter=5)\n",
    "random_result=random.fit(X_important_train,y_train)\n",
    "print(\"Best: %f using %s\" % (random_result.best_score_,random_result.best_params_))"
   ]
  },
  {
   "cell_type": "code",
   "execution_count": 83,
   "metadata": {},
   "outputs": [
    {
     "data": {
      "text/plain": [
       "GradientBoostingRegressor(alpha=0.9, criterion='friedman_mse', init=None,\n",
       "             learning_rate=0.1, loss='ls', max_depth=3, max_features=100,\n",
       "             max_leaf_nodes=None, min_impurity_decrease=0.0,\n",
       "             min_impurity_split=None, min_samples_leaf=0.2,\n",
       "             min_samples_split=2, min_weight_fraction_leaf=0.0,\n",
       "             n_estimators=20, n_iter_no_change=None, presort='auto',\n",
       "             random_state=None, subsample=1.0, tol=0.0001,\n",
       "             validation_fraction=0.1, verbose=0, warm_start=False)"
      ]
     },
     "execution_count": 83,
     "metadata": {},
     "output_type": "execute_result"
    }
   ],
   "source": [
    "regressor = GradientBoostingRegressor(learning_rate=0.1,n_estimators=20,max_depth=3,min_samples_split = 2,min_samples_leaf=0.2,max_features=100)\n",
    "\n",
    "regressor.fit(X_important_train, y_train)"
   ]
  },
  {
   "cell_type": "code",
   "execution_count": 84,
   "metadata": {},
   "outputs": [],
   "source": [
    "y_predval = regressor.predict(X_important_val)"
   ]
  },
  {
   "cell_type": "code",
   "execution_count": 85,
   "metadata": {},
   "outputs": [
    {
     "name": "stdout",
     "output_type": "stream",
     "text": [
      "15.072723927518316\n",
      "455.5068515349915\n",
      "21.342606484096347\n",
      "Variance score: 0.17\n",
      "R2 Score\n",
      "0.16632163640821374\n"
     ]
    }
   ],
   "source": [
    "\n",
    "# Print result of MAE\n",
    "from sklearn import metrics\n",
    "print(metrics.mean_absolute_error(y_val, y_predval))\n",
    "\n",
    "# Print result of MSE\n",
    "print(metrics.mean_squared_error(y_val, y_predval))\n",
    "\n",
    "# Print result of RMSE\n",
    "print(np.sqrt(metrics.mean_squared_error(y_val, y_predval)))\n",
    "\n",
    "# Explained variance score: 1 is perfect prediction (Accuracy Score)\n",
    "print('Variance score: %.2f' % regressor.score(X_important_val, y_val))\n",
    "\n",
    "from sklearn.metrics import r2_score\n",
    "accuracy=r2_score(y_val,y_predval)\n",
    "\n",
    "print('R2 Score')\n",
    "print(accuracy)"
   ]
  },
  {
   "cell_type": "code",
   "execution_count": 86,
   "metadata": {},
   "outputs": [
    {
     "name": "stdout",
     "output_type": "stream",
     "text": [
      "R^2 = 0.1663\n"
     ]
    },
    {
     "data": {
      "image/png": "[encoded data removed]",
      "text/plain": [
       "<Figure size 1440x720 with 1 Axes>"
      ]
     },
     "metadata": {
      "needs_background": "light"
     },
     "output_type": "display_data"
    },
    {
     "data": {
      "image/png": "[encoded data removed]",
      "text/plain": [
       "<Figure size 1440x720 with 1 Axes>"
      ]
     },
     "metadata": {
      "needs_background": "light"
     },
     "output_type": "display_data"
    }
   ],
   "source": [
    "# Visualising the Random Forest Regression Results\n",
    "# Loading Packages\n",
    "import seaborn as sns\n",
    "import matplotlib.pyplot as plt\n",
    "from sklearn.model_selection import cross_val_predict\n",
    "from sklearn.metrics import r2_score\n",
    "#from sklearn import linear_model\n",
    "from sklearn import datasets\n",
    "from scipy.integrate import simps\n",
    "\n",
    "# Function for Regression Error Characteritic Curve\n",
    "\n",
    "def REC(y_val , y_predval):\n",
    "    \n",
    "    # initilizing the lists\n",
    "    Accuracy = []\n",
    "    \n",
    "    # initializing the values for Epsilon\n",
    "    Begin_Range = 0\n",
    "    End_Range = 1.5\n",
    "    Interval_Size = 0.01\n",
    "    \n",
    "    # List of epsilons\n",
    "    Epsilon = np.arange(Begin_Range , End_Range , Interval_Size)\n",
    "    \n",
    "    # Main Loops\n",
    "    for i in range(len(Epsilon)):\n",
    "        count = 0.0\n",
    "        for j in range(len(y_val)):\n",
    "            if np.linalg.norm(y_val[j] - y_predval[j]) / np.sqrt( np.linalg.norm(y_val[j]) **2 + np.linalg.norm(y_predval[j])**2 ) < Epsilon[i]:\n",
    "                count = count + 1\n",
    "        \n",
    "        Accuracy.append(count/len(y_val))\n",
    "    \n",
    "    # Calculating Area Under Curve using Simpson's rule\n",
    "    AUC = simps(Accuracy , Epsilon ) / End_Range\n",
    "        \n",
    "    # returning epsilon , accuracy , area under curve    \n",
    "    return Epsilon , Accuracy , AUC\n",
    "\n",
    "# finding the deviation and accuracy, and area under curve for plotting\n",
    "Deviation, Accuracy, AUC = REC(y_val, y_predval)\n",
    "\n",
    "# Calculating R^2 of the true and predicted values\n",
    "RR = r2_score(y_val, y_predval)\n",
    "\n",
    "# Plotting\n",
    "plt.figure(figsize=(20 , 10))\n",
    "\n",
    "plt.subplot(1, 2, 1)\n",
    "plt.scatter(y_val, y_predval,color = \"darkorange\")\n",
    "plt.xlabel(\"Real Data\")\n",
    "plt.ylabel(\"Predicted\")\n",
    "plt.figure(figsize=(20 , 10))\n",
    "plt.plot([y_val.min(), y_val.max()], [y_val.min(), y_val.max()], 'k--', lw=4)\n",
    "print(\"R^2 = %0.4f\" %RR)\n",
    "\n",
    "\n",
    "plt.subplot(1, 2, 2)\n",
    "plt.title(\"Regression Error Characteristic (REC)\")\n",
    "plt.plot(Deviation, Accuracy, \"--b\",lw =3)\n",
    "plt.xlabel(\"Deviation\")\n",
    "plt.ylabel(\"Accuracy (%)\")\n",
    "plt.text(1.1, 0.07, \"AUC = %0.4f\" %AUC , fontsize=15)\n",
    "\n",
    "\n",
    "plt.show()"
   ]
  },
  {
   "cell_type": "code",
   "execution_count": 87,
   "metadata": {},
   "outputs": [
    {
     "name": "stdout",
     "output_type": "stream",
     "text": [
      "20.237486949881713\n",
      "1292.589246344154\n",
      "35.95259721277663\n",
      "Variance score: 0.05\n",
      "R2 Score\n",
      "0.054170420864691815\n"
     ]
    }
   ],
   "source": [
    "###############################################Testing Set##############################################################\n",
    "\n",
    "# Fitting Training Set\n",
    "regressor = GradientBoostingRegressor(learning_rate=0.1,n_estimators=20,max_depth=3,min_samples_split = 2,min_samples_leaf=0.2,max_features=100)\n",
    "\n",
    "regressor.fit(X_important_train, y_train)\n",
    "\n",
    "# Predicting the Test set results\n",
    "y_pred = regressor.predict(X_important_test)\n",
    "\n",
    "# Print result of MAE\n",
    "from sklearn import metrics\n",
    "print(metrics.mean_absolute_error(y_test, y_pred))\n",
    "\n",
    "# Print result of MSE\n",
    "print(metrics.mean_squared_error(y_test, y_pred))\n",
    "\n",
    "# Print result of RMSE\n",
    "print(np.sqrt(metrics.mean_squared_error(y_test, y_pred)))\n",
    "\n",
    "# Explained variance score: 1 is perfect prediction (Accuracy Score)\n",
    "print('Variance score: %.2f' % regressor.score(X_important_test, y_test))\n",
    "\n",
    "from sklearn.metrics import r2_score\n",
    "accuracy=r2_score(y_test,y_pred)\n",
    "\n",
    "print('R2 Score')\n",
    "print(accuracy)"
   ]
  },
  {
   "cell_type": "code",
   "execution_count": 88,
   "metadata": {},
   "outputs": [
    {
     "name": "stdout",
     "output_type": "stream",
     "text": [
      "R^2 = 0.0542\n"
     ]
    },
    {
     "data": {
      "image/png": "[encoded data removed]",
      "text/plain": [
       "<Figure size 1440x720 with 1 Axes>"
      ]
     },
     "metadata": {
      "needs_background": "light"
     },
     "output_type": "display_data"
    },
    {
     "data": {
      "image/png": "[encoded data removed]",
      "text/plain": [
       "<Figure size 1440x720 with 1 Axes>"
      ]
     },
     "metadata": {
      "needs_background": "light"
     },
     "output_type": "display_data"
    }
   ],
   "source": [
    "# Visualising the Random Forest Regression Results\n",
    "# Loading Packages\n",
    "import seaborn as sns\n",
    "import matplotlib.pyplot as plt\n",
    "from sklearn.model_selection import cross_val_predict\n",
    "from sklearn.metrics import r2_score\n",
    "#from sklearn import linear_model\n",
    "from sklearn import datasets\n",
    "from scipy.integrate import simps\n",
    "\n",
    "# Function for Regression Error Characteritic Curve\n",
    "\n",
    "def REC(y_test , y_pred):\n",
    "    \n",
    "    # initilizing the lists\n",
    "    Accuracy = []\n",
    "    \n",
    "    # initializing the values for Epsilon\n",
    "    Begin_Range = 0\n",
    "    End_Range = 1.5\n",
    "    Interval_Size = 0.01\n",
    "    \n",
    "    # List of epsilons\n",
    "    Epsilon = np.arange(Begin_Range , End_Range , Interval_Size)\n",
    "    \n",
    "    # Main Loops\n",
    "    for i in range(len(Epsilon)):\n",
    "        count = 0.0\n",
    "        for j in range(len(y_test)):\n",
    "            if np.linalg.norm(y_test[j] - y_pred[j]) / np.sqrt( np.linalg.norm(y_test[j]) **2 + np.linalg.norm(y_pred[j])**2 ) < Epsilon[i]:\n",
    "                count = count + 1\n",
    "        \n",
    "        Accuracy.append(count/len(y_test))\n",
    "    \n",
    "    # Calculating Area Under Curve using Simpson's rule\n",
    "    AUC = simps(Accuracy , Epsilon ) / End_Range\n",
    "        \n",
    "    # returning epsilon , accuracy , area under curve    \n",
    "    return Epsilon , Accuracy , AUC\n",
    "\n",
    "# finding the deviation and accuracy, and area under curve for plotting\n",
    "Deviation, Accuracy, AUC = REC(y_test, y_pred)\n",
    "\n",
    "# Calculating R^2 of the true and predicted values\n",
    "RR = r2_score(y_test, y_pred)\n",
    "\n",
    "# Plotting\n",
    "plt.figure(figsize=(20 , 10))\n",
    "\n",
    "plt.subplot(1, 2, 1)\n",
    "plt.scatter(y_test, y_pred,color = \"darkorange\")\n",
    "plt.xlabel(\"Real Data\")\n",
    "plt.ylabel(\"Predicted\")\n",
    "plt.figure(figsize=(20 , 10))\n",
    "plt.plot([y_test.min(), y_test.max()], [y_test.min(), y_test.max()], 'k--', lw=4)\n",
    "print(\"R^2 = %0.4f\" %RR)\n",
    "\n",
    "\n",
    "plt.subplot(1, 2, 2)\n",
    "plt.title(\"Regression Error Characteristic (REC)\")\n",
    "plt.plot(Deviation, Accuracy, \"--b\",lw =3)\n",
    "plt.xlabel(\"Deviation\")\n",
    "plt.ylabel(\"Accuracy (%)\")\n",
    "plt.text(1.1, 0.07, \"AUC = %0.4f\" %AUC , fontsize=15)\n",
    "\n",
    "\n",
    "plt.show()"
   ]
  },
  {
   "cell_type": "code",
   "execution_count": null,
   "metadata": {},
   "outputs": [],
   "source": []
  }
 ],
 "metadata": {
  "kernelspec": {
   "display_name": "Python 3",
   "language": "python",
   "name": "python3"
  },
  "language_info": {
   "codemirror_mode": {
    "name": "ipython",
    "version": 3
   },
   "file_extension": ".py",
   "mimetype": "text/x-python",
   "name": "python",
   "nbconvert_exporter": "python",
   "pygments_lexer": "ipython3",
   "version": "3.7.3"
  }
 },
 "nbformat": 4,
 "nbformat_minor": 2
}
