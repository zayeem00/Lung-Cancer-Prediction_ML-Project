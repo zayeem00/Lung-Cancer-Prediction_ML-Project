{
 "cells": [
  {
   "cell_type": "code",
   "execution_count": 1,
   "metadata": {},
   "outputs": [
    {
     "name": "stderr",
     "output_type": "stream",
     "text": [
      "Using TensorFlow backend.\n"
     ]
    }
   ],
   "source": [
    "#importing necessary python packages\n",
    "import pandas as pd\n",
    "import numpy as np\n",
    "import os\n",
    "from keras.callbacks import ModelCheckpoint\n",
    "from keras.models import Sequential\n",
    "from keras.layers import Dense, Activation, Flatten\n",
    "from sklearn.model_selection import train_test_split\n",
    "from sklearn.ensemble import RandomForestRegressor\n",
    "from sklearn.metrics import mean_absolute_error \n",
    "import warnings \n",
    "warnings.filterwarnings('ignore')\n",
    "warnings.filterwarnings('ignore', category=DeprecationWarning)"
   ]
  },
  {
   "cell_type": "code",
   "execution_count": 2,
   "metadata": {},
   "outputs": [],
   "source": [
    "# Importing the dataset\n",
    "dt = pd.read_excel('Flux Clinical.xlsx',index_col=0)"
   ]
  },
  {
   "cell_type": "code",
   "execution_count": 3,
   "metadata": {
    "scrolled": true
   },
   "outputs": [
    {
     "data": {
      "text/plain": [
       "(517, 2309)"
      ]
     },
     "execution_count": 3,
     "metadata": {},
     "output_type": "execute_result"
    }
   ],
   "source": [
    "dt.shape"
   ]
  },
  {
   "cell_type": "code",
   "execution_count": 4,
   "metadata": {},
   "outputs": [
    {
     "data": {
      "text/html": [
       "<div>\n",
       "<style scoped>\n",
       "    .dataframe tbody tr th:only-of-type {\n",
       "        vertical-align: middle;\n",
       "    }\n",
       "\n",
       "    .dataframe tbody tr th {\n",
       "        vertical-align: top;\n",
       "    }\n",
       "\n",
       "    .dataframe thead th {\n",
       "        text-align: right;\n",
       "    }\n",
       "</style>\n",
       "<table border=\"1\" class=\"dataframe\">\n",
       "  <thead>\n",
       "    <tr style=\"text-align: right;\">\n",
       "      <th></th>\n",
       "      <th>'3DSPHR'</th>\n",
       "      <th>'3HBCOAHLm'</th>\n",
       "      <th>'ABTArm'</th>\n",
       "      <th>'ABTD'</th>\n",
       "      <th>'ACACT1r'</th>\n",
       "      <th>'ACACT1rm'</th>\n",
       "      <th>'ACACT1x'</th>\n",
       "      <th>'ACOAD9m'</th>\n",
       "      <th>'ACOAO7p'</th>\n",
       "      <th>'ACOATA'</th>\n",
       "      <th>...</th>\n",
       "      <th>Tissue Source Site_NJ</th>\n",
       "      <th>Tissue Source Site_O1</th>\n",
       "      <th>Tissue Source Site_S2</th>\n",
       "      <th>Person Neoplasm Status_TUMOR FREE</th>\n",
       "      <th>Person Neoplasm Status_WITH TUMOR</th>\n",
       "      <th>Vial number_A</th>\n",
       "      <th>Vial number_B</th>\n",
       "      <th>Patient's Vital Status_Alive</th>\n",
       "      <th>Patient's Vital Status_Dead</th>\n",
       "      <th>Overall Survival (Months)</th>\n",
       "    </tr>\n",
       "    <tr>\n",
       "      <th>HUG0_SYMBOL</th>\n",
       "      <th></th>\n",
       "      <th></th>\n",
       "      <th></th>\n",
       "      <th></th>\n",
       "      <th></th>\n",
       "      <th></th>\n",
       "      <th></th>\n",
       "      <th></th>\n",
       "      <th></th>\n",
       "      <th></th>\n",
       "      <th></th>\n",
       "      <th></th>\n",
       "      <th></th>\n",
       "      <th></th>\n",
       "      <th></th>\n",
       "      <th></th>\n",
       "      <th></th>\n",
       "      <th></th>\n",
       "      <th></th>\n",
       "      <th></th>\n",
       "      <th></th>\n",
       "    </tr>\n",
       "  </thead>\n",
       "  <tbody>\n",
       "    <tr>\n",
       "      <th>TCGA-05-4244-01</th>\n",
       "      <td>11.448262</td>\n",
       "      <td>154.187481</td>\n",
       "      <td>-583.764387</td>\n",
       "      <td>-14.237357</td>\n",
       "      <td>125.403072</td>\n",
       "      <td>235.338244</td>\n",
       "      <td>457.654536</td>\n",
       "      <td>74.716367</td>\n",
       "      <td>72.493260</td>\n",
       "      <td>-165.591744</td>\n",
       "      <td>...</td>\n",
       "      <td>0</td>\n",
       "      <td>0</td>\n",
       "      <td>0</td>\n",
       "      <td>1</td>\n",
       "      <td>0</td>\n",
       "      <td>1</td>\n",
       "      <td>0</td>\n",
       "      <td>1</td>\n",
       "      <td>0</td>\n",
       "      <td>0.00</td>\n",
       "    </tr>\n",
       "    <tr>\n",
       "      <th>TCGA-05-4249-01</th>\n",
       "      <td>9.173955</td>\n",
       "      <td>162.200877</td>\n",
       "      <td>-442.863722</td>\n",
       "      <td>-5.338254</td>\n",
       "      <td>128.134267</td>\n",
       "      <td>137.492687</td>\n",
       "      <td>149.939274</td>\n",
       "      <td>75.026103</td>\n",
       "      <td>56.620656</td>\n",
       "      <td>-73.252506</td>\n",
       "      <td>...</td>\n",
       "      <td>0</td>\n",
       "      <td>0</td>\n",
       "      <td>0</td>\n",
       "      <td>1</td>\n",
       "      <td>0</td>\n",
       "      <td>1</td>\n",
       "      <td>0</td>\n",
       "      <td>1</td>\n",
       "      <td>0</td>\n",
       "      <td>50.03</td>\n",
       "    </tr>\n",
       "  </tbody>\n",
       "</table>\n",
       "<p>2 rows × 2309 columns</p>\n",
       "</div>"
      ],
      "text/plain": [
       "                  '3DSPHR'  '3HBCOAHLm'    'ABTArm'     'ABTD'   'ACACT1r'  \\\n",
       "HUG0_SYMBOL                                                                  \n",
       "TCGA-05-4244-01  11.448262   154.187481 -583.764387 -14.237357  125.403072   \n",
       "TCGA-05-4249-01   9.173955   162.200877 -442.863722  -5.338254  128.134267   \n",
       "\n",
       "                 'ACACT1rm'   'ACACT1x'  'ACOAD9m'  'ACOAO7p'    'ACOATA'  \\\n",
       "HUG0_SYMBOL                                                                 \n",
       "TCGA-05-4244-01  235.338244  457.654536  74.716367  72.493260 -165.591744   \n",
       "TCGA-05-4249-01  137.492687  149.939274  75.026103  56.620656  -73.252506   \n",
       "\n",
       "                 ...  Tissue Source Site_NJ  Tissue Source Site_O1  \\\n",
       "HUG0_SYMBOL      ...                                                 \n",
       "TCGA-05-4244-01  ...                      0                      0   \n",
       "TCGA-05-4249-01  ...                      0                      0   \n",
       "\n",
       "                 Tissue Source Site_S2  Person Neoplasm Status_TUMOR FREE  \\\n",
       "HUG0_SYMBOL                                                                 \n",
       "TCGA-05-4244-01                      0                                  1   \n",
       "TCGA-05-4249-01                      0                                  1   \n",
       "\n",
       "                 Person Neoplasm Status_WITH TUMOR  Vial number_A  \\\n",
       "HUG0_SYMBOL                                                         \n",
       "TCGA-05-4244-01                                  0              1   \n",
       "TCGA-05-4249-01                                  0              1   \n",
       "\n",
       "                 Vial number_B  Patient's Vital Status_Alive  \\\n",
       "HUG0_SYMBOL                                                    \n",
       "TCGA-05-4244-01              0                             1   \n",
       "TCGA-05-4249-01              0                             1   \n",
       "\n",
       "                 Patient's Vital Status_Dead  Overall Survival (Months)  \n",
       "HUG0_SYMBOL                                                              \n",
       "TCGA-05-4244-01                            0                       0.00  \n",
       "TCGA-05-4249-01                            0                      50.03  \n",
       "\n",
       "[2 rows x 2309 columns]"
      ]
     },
     "execution_count": 4,
     "metadata": {},
     "output_type": "execute_result"
    }
   ],
   "source": [
    "dt.head(2)"
   ]
  },
  {
   "cell_type": "code",
   "execution_count": 5,
   "metadata": {},
   "outputs": [
    {
     "data": {
      "text/plain": [
       "(517, 2306)"
      ]
     },
     "execution_count": 5,
     "metadata": {},
     "output_type": "execute_result"
    }
   ],
   "source": [
    "del dt['Column1']\n",
    "del dt['Patient\\'s Vital Status_Dead']\n",
    "del dt['Patient\\'s Vital Status_Alive']\n",
    "dt.shape"
   ]
  },
  {
   "cell_type": "code",
   "execution_count": 6,
   "metadata": {},
   "outputs": [],
   "source": [
    "X = dt.iloc[:,0:2305].values\n",
    "y = dt.iloc[:, -1].values"
   ]
  },
  {
   "cell_type": "code",
   "execution_count": 7,
   "metadata": {},
   "outputs": [],
   "source": [
    "# Splitting the dataset into the Training set and Test set\n",
    "from sklearn.model_selection import train_test_split\n",
    "X_train, X_test, y_train, y_test = train_test_split(X, y, test_size = 0.2, random_state = 0)\n",
    "X_train, X_val, y_train, y_val = train_test_split(X_train, y_train, test_size=0.2, random_state=0)"
   ]
  },
  {
   "cell_type": "code",
   "execution_count": 8,
   "metadata": {},
   "outputs": [],
   "source": [
    "# Feature Scaling\n",
    "from sklearn.preprocessing import StandardScaler\n",
    "sc_X = StandardScaler()\n",
    "X_train = sc_X.fit_transform(X_train)\n",
    "X_test = sc_X.transform(X_test)\n",
    "X_val = sc_X.fit_transform(X_val)"
   ]
  },
  {
   "cell_type": "code",
   "execution_count": 9,
   "metadata": {},
   "outputs": [],
   "source": [
    "sc_y = StandardScaler()\n",
    "y_train = np.squeeze(sc_y.fit_transform(y_train.reshape(-1, 1)))\n",
    "y_val = np.squeeze(sc_y.transform(y_val.reshape(-1, 1)))\n",
    "y_test = np.squeeze(sc_y.transform(y_test.reshape(-1, 1)))"
   ]
  },
  {
   "cell_type": "code",
   "execution_count": 10,
   "metadata": {},
   "outputs": [
    {
     "name": "stdout",
     "output_type": "stream",
     "text": [
      "Model: \"sequential\"\n",
      "_________________________________________________________________\n",
      "Layer (type)                 Output Shape              Param #   \n",
      "=================================================================\n",
      "dense (Dense)                (None, 128)               295168    \n",
      "_________________________________________________________________\n",
      "dense_1 (Dense)              (None, 256)               33024     \n",
      "_________________________________________________________________\n",
      "dense_2 (Dense)              (None, 256)               65792     \n",
      "_________________________________________________________________\n",
      "dense_3 (Dense)              (None, 256)               65792     \n",
      "_________________________________________________________________\n",
      "dense_4 (Dense)              (None, 1)                 257       \n",
      "=================================================================\n",
      "Total params: 460,033\n",
      "Trainable params: 460,033\n",
      "Non-trainable params: 0\n",
      "_________________________________________________________________\n"
     ]
    }
   ],
   "source": [
    "#Create Deep Neural Network Architecuture\n",
    "from tensorflow.keras import Sequential\n",
    "from tensorflow.keras.layers import Dense, Dropout\n",
    "\n",
    "NN_model = Sequential()\n",
    "\n",
    "# The Input Layer :\n",
    "NN_model.add(Dense(128, kernel_initializer='normal',input_dim = X_train.shape[1], activation='relu'))\n",
    "\n",
    "# The Hidden Layers :\n",
    "NN_model.add(Dense(256, kernel_initializer='normal',activation='relu'))\n",
    "NN_model.add(Dense(256, kernel_initializer='normal',activation='relu'))\n",
    "NN_model.add(Dense(256, kernel_initializer='normal',activation='relu'))\n",
    "\n",
    "# The Output Layer :\n",
    "NN_model.add(Dense(1, kernel_initializer='normal',activation='linear'))\n",
    "\n",
    "# Compile the network :\n",
    "NN_model.compile(loss='mean_absolute_error', optimizer='adam', metrics=['mean_absolute_error'])\n",
    "NN_model.summary()"
   ]
  },
  {
   "cell_type": "code",
   "execution_count": 11,
   "metadata": {},
   "outputs": [
    {
     "name": "stdout",
     "output_type": "stream",
     "text": [
      "Train on 264 samples, validate on 66 samples\n",
      "Epoch 1/100\n",
      "264/264 [==============================] - 0s 1ms/sample - loss: 0.7014 - mean_absolute_error: 0.7014 - val_loss: 0.5174 - val_mean_absolute_error: 0.5174\n",
      "Epoch 2/100\n",
      "264/264 [==============================] - 0s 142us/sample - loss: 0.6464 - mean_absolute_error: 0.6464 - val_loss: 0.4375 - val_mean_absolute_error: 0.4375\n",
      "Epoch 3/100\n",
      "264/264 [==============================] - 0s 155us/sample - loss: 0.5875 - mean_absolute_error: 0.5875 - val_loss: 0.5446 - val_mean_absolute_error: 0.5446\n",
      "Epoch 4/100\n",
      "264/264 [==============================] - 0s 146us/sample - loss: 0.5845 - mean_absolute_error: 0.5845 - val_loss: 0.4831 - val_mean_absolute_error: 0.4831\n",
      "Epoch 5/100\n",
      "264/264 [==============================] - 0s 160us/sample - loss: 0.5363 - mean_absolute_error: 0.5363 - val_loss: 0.4743 - val_mean_absolute_error: 0.4743\n",
      "Epoch 6/100\n",
      "264/264 [==============================] - 0s 155us/sample - loss: 0.4654 - mean_absolute_error: 0.4654 - val_loss: 0.5433 - val_mean_absolute_error: 0.5433\n",
      "Epoch 7/100\n",
      "264/264 [==============================] - 0s 155us/sample - loss: 0.4150 - mean_absolute_error: 0.4150 - val_loss: 0.5026 - val_mean_absolute_error: 0.5026\n",
      "Epoch 8/100\n",
      "264/264 [==============================] - 0s 149us/sample - loss: 0.3642 - mean_absolute_error: 0.3642 - val_loss: 0.4835 - val_mean_absolute_error: 0.4835\n",
      "Epoch 9/100\n",
      "264/264 [==============================] - 0s 155us/sample - loss: 0.3570 - mean_absolute_error: 0.3570 - val_loss: 0.5016 - val_mean_absolute_error: 0.5016\n",
      "Epoch 10/100\n",
      "264/264 [==============================] - 0s 146us/sample - loss: 0.3465 - mean_absolute_error: 0.3465 - val_loss: 0.4964 - val_mean_absolute_error: 0.4964\n",
      "Epoch 11/100\n",
      "264/264 [==============================] - 0s 163us/sample - loss: 0.3217 - mean_absolute_error: 0.3217 - val_loss: 0.4644 - val_mean_absolute_error: 0.4644\n",
      "Epoch 12/100\n",
      "264/264 [==============================] - 0s 148us/sample - loss: 0.2837 - mean_absolute_error: 0.2837 - val_loss: 0.4974 - val_mean_absolute_error: 0.4974\n",
      "Epoch 13/100\n",
      "264/264 [==============================] - 0s 155us/sample - loss: 0.2984 - mean_absolute_error: 0.2984 - val_loss: 0.4824 - val_mean_absolute_error: 0.4824\n",
      "Epoch 14/100\n",
      "264/264 [==============================] - 0s 161us/sample - loss: 0.3125 - mean_absolute_error: 0.3125 - val_loss: 0.5075 - val_mean_absolute_error: 0.5075\n",
      "Epoch 15/100\n",
      "264/264 [==============================] - 0s 149us/sample - loss: 0.2379 - mean_absolute_error: 0.2379 - val_loss: 0.6372 - val_mean_absolute_error: 0.6372\n",
      "Epoch 16/100\n",
      "264/264 [==============================] - 0s 159us/sample - loss: 0.3239 - mean_absolute_error: 0.3239 - val_loss: 0.4547 - val_mean_absolute_error: 0.4547\n",
      "Epoch 17/100\n",
      "264/264 [==============================] - 0s 147us/sample - loss: 0.2555 - mean_absolute_error: 0.2555 - val_loss: 0.5222 - val_mean_absolute_error: 0.5222\n",
      "Epoch 18/100\n",
      "264/264 [==============================] - 0s 151us/sample - loss: 0.3557 - mean_absolute_error: 0.3557 - val_loss: 0.5239 - val_mean_absolute_error: 0.5239\n",
      "Epoch 19/100\n",
      "264/264 [==============================] - 0s 150us/sample - loss: 0.2636 - mean_absolute_error: 0.2636 - val_loss: 0.4848 - val_mean_absolute_error: 0.4848\n",
      "Epoch 20/100\n",
      "264/264 [==============================] - 0s 143us/sample - loss: 0.1966 - mean_absolute_error: 0.1966 - val_loss: 0.4704 - val_mean_absolute_error: 0.4704\n",
      "Epoch 21/100\n",
      "264/264 [==============================] - 0s 141us/sample - loss: 0.1858 - mean_absolute_error: 0.1858 - val_loss: 0.5756 - val_mean_absolute_error: 0.5756\n",
      "Epoch 22/100\n",
      "264/264 [==============================] - 0s 142us/sample - loss: 0.2200 - mean_absolute_error: 0.2200 - val_loss: 0.5047 - val_mean_absolute_error: 0.5047\n",
      "Epoch 23/100\n",
      "264/264 [==============================] - 0s 162us/sample - loss: 0.1921 - mean_absolute_error: 0.1921 - val_loss: 0.4722 - val_mean_absolute_error: 0.4722\n",
      "Epoch 24/100\n",
      "264/264 [==============================] - 0s 155us/sample - loss: 0.1620 - mean_absolute_error: 0.1620 - val_loss: 0.5023 - val_mean_absolute_error: 0.5023\n",
      "Epoch 25/100\n",
      "264/264 [==============================] - 0s 151us/sample - loss: 0.1652 - mean_absolute_error: 0.1652 - val_loss: 0.5107 - val_mean_absolute_error: 0.5107\n",
      "Epoch 26/100\n",
      "264/264 [==============================] - 0s 141us/sample - loss: 0.1318 - mean_absolute_error: 0.1318 - val_loss: 0.4581 - val_mean_absolute_error: 0.4581\n",
      "Epoch 27/100\n",
      "264/264 [==============================] - 0s 143us/sample - loss: 0.1312 - mean_absolute_error: 0.1312 - val_loss: 0.5136 - val_mean_absolute_error: 0.5136\n",
      "Epoch 28/100\n",
      "264/264 [==============================] - 0s 131us/sample - loss: 0.1260 - mean_absolute_error: 0.1260 - val_loss: 0.5295 - val_mean_absolute_error: 0.5295\n",
      "Epoch 29/100\n",
      "264/264 [==============================] - 0s 136us/sample - loss: 0.1418 - mean_absolute_error: 0.1418 - val_loss: 0.5050 - val_mean_absolute_error: 0.5050\n",
      "Epoch 30/100\n",
      "264/264 [==============================] - 0s 133us/sample - loss: 0.1506 - mean_absolute_error: 0.1506 - val_loss: 0.4586 - val_mean_absolute_error: 0.4586\n",
      "Epoch 31/100\n",
      "264/264 [==============================] - 0s 148us/sample - loss: 0.1473 - mean_absolute_error: 0.1473 - val_loss: 0.4692 - val_mean_absolute_error: 0.4692\n",
      "Epoch 32/100\n",
      "264/264 [==============================] - 0s 141us/sample - loss: 0.1462 - mean_absolute_error: 0.1462 - val_loss: 0.4924 - val_mean_absolute_error: 0.4924\n",
      "Epoch 33/100\n",
      "264/264 [==============================] - 0s 139us/sample - loss: 0.1411 - mean_absolute_error: 0.1411 - val_loss: 0.5083 - val_mean_absolute_error: 0.5083\n",
      "Epoch 34/100\n",
      "264/264 [==============================] - 0s 141us/sample - loss: 0.1842 - mean_absolute_error: 0.1842 - val_loss: 0.4754 - val_mean_absolute_error: 0.4754\n",
      "Epoch 35/100\n",
      "264/264 [==============================] - 0s 146us/sample - loss: 0.1605 - mean_absolute_error: 0.1605 - val_loss: 0.4550 - val_mean_absolute_error: 0.4550\n",
      "Epoch 36/100\n",
      "264/264 [==============================] - 0s 147us/sample - loss: 0.1532 - mean_absolute_error: 0.1532 - val_loss: 0.4849 - val_mean_absolute_error: 0.4849\n",
      "Epoch 37/100\n",
      "264/264 [==============================] - 0s 137us/sample - loss: 0.1794 - mean_absolute_error: 0.1794 - val_loss: 0.5332 - val_mean_absolute_error: 0.5332\n",
      "Epoch 38/100\n",
      "264/264 [==============================] - 0s 140us/sample - loss: 0.1383 - mean_absolute_error: 0.1383 - val_loss: 0.4779 - val_mean_absolute_error: 0.4779\n",
      "Epoch 39/100\n",
      "264/264 [==============================] - 0s 136us/sample - loss: 0.1114 - mean_absolute_error: 0.1114 - val_loss: 0.4702 - val_mean_absolute_error: 0.4702\n",
      "Epoch 40/100\n",
      "264/264 [==============================] - 0s 139us/sample - loss: 0.1159 - mean_absolute_error: 0.1159 - val_loss: 0.5100 - val_mean_absolute_error: 0.5100\n",
      "Epoch 41/100\n",
      "264/264 [==============================] - 0s 136us/sample - loss: 0.1186 - mean_absolute_error: 0.1186 - val_loss: 0.4630 - val_mean_absolute_error: 0.4630\n",
      "Epoch 42/100\n",
      "264/264 [==============================] - 0s 131us/sample - loss: 0.1026 - mean_absolute_error: 0.1026 - val_loss: 0.4669 - val_mean_absolute_error: 0.4669\n",
      "Epoch 43/100\n",
      "264/264 [==============================] - 0s 137us/sample - loss: 0.0957 - mean_absolute_error: 0.0957 - val_loss: 0.4918 - val_mean_absolute_error: 0.4918\n",
      "Epoch 44/100\n",
      "264/264 [==============================] - 0s 137us/sample - loss: 0.1083 - mean_absolute_error: 0.1083 - val_loss: 0.4465 - val_mean_absolute_error: 0.4465\n",
      "Epoch 45/100\n",
      "264/264 [==============================] - 0s 130us/sample - loss: 0.1110 - mean_absolute_error: 0.1110 - val_loss: 0.4688 - val_mean_absolute_error: 0.4688\n",
      "Epoch 46/100\n",
      "264/264 [==============================] - 0s 141us/sample - loss: 0.1136 - mean_absolute_error: 0.1136 - val_loss: 0.5394 - val_mean_absolute_error: 0.5394\n",
      "Epoch 47/100\n",
      "264/264 [==============================] - 0s 130us/sample - loss: 0.0967 - mean_absolute_error: 0.0967 - val_loss: 0.4853 - val_mean_absolute_error: 0.4853\n",
      "Epoch 48/100\n",
      "264/264 [==============================] - 0s 137us/sample - loss: 0.1177 - mean_absolute_error: 0.1177 - val_loss: 0.5064 - val_mean_absolute_error: 0.5064\n"
     ]
    },
    {
     "name": "stdout",
     "output_type": "stream",
     "text": [
      "Epoch 49/100\n",
      "264/264 [==============================] - 0s 139us/sample - loss: 0.1052 - mean_absolute_error: 0.1052 - val_loss: 0.5003 - val_mean_absolute_error: 0.5003\n",
      "Epoch 50/100\n",
      "264/264 [==============================] - 0s 143us/sample - loss: 0.1114 - mean_absolute_error: 0.1114 - val_loss: 0.4832 - val_mean_absolute_error: 0.4832\n",
      "Epoch 51/100\n",
      "264/264 [==============================] - 0s 127us/sample - loss: 0.1019 - mean_absolute_error: 0.1019 - val_loss: 0.4559 - val_mean_absolute_error: 0.4559\n",
      "Epoch 52/100\n",
      "264/264 [==============================] - 0s 123us/sample - loss: 0.0852 - mean_absolute_error: 0.0852 - val_loss: 0.5232 - val_mean_absolute_error: 0.5232\n",
      "Epoch 53/100\n",
      "264/264 [==============================] - 0s 128us/sample - loss: 0.0854 - mean_absolute_error: 0.0854 - val_loss: 0.4843 - val_mean_absolute_error: 0.4843\n",
      "Epoch 54/100\n",
      "264/264 [==============================] - 0s 130us/sample - loss: 0.0982 - mean_absolute_error: 0.0982 - val_loss: 0.4616 - val_mean_absolute_error: 0.4616\n",
      "Epoch 55/100\n",
      "264/264 [==============================] - 0s 140us/sample - loss: 0.0892 - mean_absolute_error: 0.0892 - val_loss: 0.4672 - val_mean_absolute_error: 0.4672\n",
      "Epoch 56/100\n",
      "264/264 [==============================] - 0s 143us/sample - loss: 0.0888 - mean_absolute_error: 0.0888 - val_loss: 0.4713 - val_mean_absolute_error: 0.4713\n",
      "Epoch 57/100\n",
      "264/264 [==============================] - 0s 142us/sample - loss: 0.0921 - mean_absolute_error: 0.0921 - val_loss: 0.5400 - val_mean_absolute_error: 0.5400\n",
      "Epoch 58/100\n",
      "264/264 [==============================] - 0s 154us/sample - loss: 0.0980 - mean_absolute_error: 0.0980 - val_loss: 0.4810 - val_mean_absolute_error: 0.4810\n",
      "Epoch 59/100\n",
      "264/264 [==============================] - 0s 145us/sample - loss: 0.0882 - mean_absolute_error: 0.0882 - val_loss: 0.4589 - val_mean_absolute_error: 0.4589\n",
      "Epoch 60/100\n",
      "264/264 [==============================] - 0s 146us/sample - loss: 0.0728 - mean_absolute_error: 0.0728 - val_loss: 0.5162 - val_mean_absolute_error: 0.5162\n",
      "Epoch 61/100\n",
      "264/264 [==============================] - 0s 151us/sample - loss: 0.0797 - mean_absolute_error: 0.0797 - val_loss: 0.4811 - val_mean_absolute_error: 0.4811\n",
      "Epoch 62/100\n",
      "264/264 [==============================] - 0s 146us/sample - loss: 0.0848 - mean_absolute_error: 0.0848 - val_loss: 0.4514 - val_mean_absolute_error: 0.4514\n",
      "Epoch 63/100\n",
      "264/264 [==============================] - 0s 139us/sample - loss: 0.0857 - mean_absolute_error: 0.0857 - val_loss: 0.5217 - val_mean_absolute_error: 0.5217\n",
      "Epoch 64/100\n",
      "264/264 [==============================] - 0s 141us/sample - loss: 0.0892 - mean_absolute_error: 0.0892 - val_loss: 0.4825 - val_mean_absolute_error: 0.4825\n",
      "Epoch 65/100\n",
      "264/264 [==============================] - 0s 136us/sample - loss: 0.0855 - mean_absolute_error: 0.0855 - val_loss: 0.4765 - val_mean_absolute_error: 0.4765\n",
      "Epoch 66/100\n",
      "264/264 [==============================] - 0s 134us/sample - loss: 0.0732 - mean_absolute_error: 0.0732 - val_loss: 0.4947 - val_mean_absolute_error: 0.4947\n",
      "Epoch 67/100\n",
      "264/264 [==============================] - 0s 135us/sample - loss: 0.1005 - mean_absolute_error: 0.1005 - val_loss: 0.5237 - val_mean_absolute_error: 0.5237\n",
      "Epoch 68/100\n",
      "264/264 [==============================] - 0s 142us/sample - loss: 0.1195 - mean_absolute_error: 0.1195 - val_loss: 0.4219 - val_mean_absolute_error: 0.4219\n",
      "Epoch 69/100\n",
      "264/264 [==============================] - 0s 130us/sample - loss: 0.1000 - mean_absolute_error: 0.1000 - val_loss: 0.5026 - val_mean_absolute_error: 0.5026\n",
      "Epoch 70/100\n",
      "264/264 [==============================] - 0s 144us/sample - loss: 0.1011 - mean_absolute_error: 0.1011 - val_loss: 0.4997 - val_mean_absolute_error: 0.4997\n",
      "Epoch 71/100\n",
      "264/264 [==============================] - 0s 144us/sample - loss: 0.1040 - mean_absolute_error: 0.1040 - val_loss: 0.4668 - val_mean_absolute_error: 0.4668\n",
      "Epoch 72/100\n",
      "264/264 [==============================] - 0s 144us/sample - loss: 0.0830 - mean_absolute_error: 0.0830 - val_loss: 0.4737 - val_mean_absolute_error: 0.4737\n",
      "Epoch 73/100\n",
      "264/264 [==============================] - 0s 146us/sample - loss: 0.0792 - mean_absolute_error: 0.0792 - val_loss: 0.4872 - val_mean_absolute_error: 0.4872\n",
      "Epoch 74/100\n",
      "264/264 [==============================] - 0s 148us/sample - loss: 0.0757 - mean_absolute_error: 0.0757 - val_loss: 0.5062 - val_mean_absolute_error: 0.5062\n",
      "Epoch 75/100\n",
      "264/264 [==============================] - 0s 149us/sample - loss: 0.0872 - mean_absolute_error: 0.0872 - val_loss: 0.4799 - val_mean_absolute_error: 0.4799\n",
      "Epoch 76/100\n",
      "264/264 [==============================] - 0s 141us/sample - loss: 0.0825 - mean_absolute_error: 0.0825 - val_loss: 0.4730 - val_mean_absolute_error: 0.4730\n",
      "Epoch 77/100\n",
      "264/264 [==============================] - 0s 147us/sample - loss: 0.0831 - mean_absolute_error: 0.0831 - val_loss: 0.5136 - val_mean_absolute_error: 0.5136\n",
      "Epoch 78/100\n",
      "264/264 [==============================] - 0s 139us/sample - loss: 0.0748 - mean_absolute_error: 0.0748 - val_loss: 0.4543 - val_mean_absolute_error: 0.4543\n",
      "Epoch 79/100\n",
      "264/264 [==============================] - 0s 137us/sample - loss: 0.0768 - mean_absolute_error: 0.0768 - val_loss: 0.4890 - val_mean_absolute_error: 0.4890\n",
      "Epoch 80/100\n",
      "264/264 [==============================] - 0s 146us/sample - loss: 0.0748 - mean_absolute_error: 0.0748 - val_loss: 0.4955 - val_mean_absolute_error: 0.4955\n",
      "Epoch 81/100\n",
      "264/264 [==============================] - 0s 143us/sample - loss: 0.0821 - mean_absolute_error: 0.0821 - val_loss: 0.5021 - val_mean_absolute_error: 0.5021\n",
      "Epoch 82/100\n",
      "264/264 [==============================] - 0s 150us/sample - loss: 0.0804 - mean_absolute_error: 0.0804 - val_loss: 0.4541 - val_mean_absolute_error: 0.4541\n",
      "Epoch 83/100\n",
      "264/264 [==============================] - 0s 147us/sample - loss: 0.0909 - mean_absolute_error: 0.0909 - val_loss: 0.5039 - val_mean_absolute_error: 0.5039\n",
      "Epoch 84/100\n",
      "264/264 [==============================] - 0s 144us/sample - loss: 0.0923 - mean_absolute_error: 0.0923 - val_loss: 0.4840 - val_mean_absolute_error: 0.4840\n",
      "Epoch 85/100\n",
      "264/264 [==============================] - 0s 142us/sample - loss: 0.0872 - mean_absolute_error: 0.0872 - val_loss: 0.4991 - val_mean_absolute_error: 0.4991\n",
      "Epoch 86/100\n",
      "264/264 [==============================] - 0s 141us/sample - loss: 0.0878 - mean_absolute_error: 0.0878 - val_loss: 0.4817 - val_mean_absolute_error: 0.4817\n",
      "Epoch 87/100\n",
      "264/264 [==============================] - 0s 145us/sample - loss: 0.0939 - mean_absolute_error: 0.0939 - val_loss: 0.4310 - val_mean_absolute_error: 0.4310\n",
      "Epoch 88/100\n",
      "264/264 [==============================] - 0s 141us/sample - loss: 0.1005 - mean_absolute_error: 0.1005 - val_loss: 0.4878 - val_mean_absolute_error: 0.4878\n",
      "Epoch 89/100\n",
      "264/264 [==============================] - 0s 142us/sample - loss: 0.0882 - mean_absolute_error: 0.0882 - val_loss: 0.4784 - val_mean_absolute_error: 0.4784\n",
      "Epoch 90/100\n",
      "264/264 [==============================] - 0s 140us/sample - loss: 0.0695 - mean_absolute_error: 0.0695 - val_loss: 0.4981 - val_mean_absolute_error: 0.4981\n",
      "Epoch 91/100\n",
      "264/264 [==============================] - 0s 132us/sample - loss: 0.0715 - mean_absolute_error: 0.0715 - val_loss: 0.4746 - val_mean_absolute_error: 0.4746\n",
      "Epoch 92/100\n",
      "264/264 [==============================] - 0s 135us/sample - loss: 0.0721 - mean_absolute_error: 0.0721 - val_loss: 0.4764 - val_mean_absolute_error: 0.4764\n",
      "Epoch 93/100\n",
      "264/264 [==============================] - 0s 137us/sample - loss: 0.0583 - mean_absolute_error: 0.0583 - val_loss: 0.5386 - val_mean_absolute_error: 0.5386\n",
      "Epoch 94/100\n",
      "264/264 [==============================] - 0s 141us/sample - loss: 0.0675 - mean_absolute_error: 0.0675 - val_loss: 0.4786 - val_mean_absolute_error: 0.4786\n",
      "Epoch 95/100\n",
      "264/264 [==============================] - 0s 136us/sample - loss: 0.0630 - mean_absolute_error: 0.0630 - val_loss: 0.5181 - val_mean_absolute_error: 0.5181\n",
      "Epoch 96/100\n",
      "264/264 [==============================] - 0s 135us/sample - loss: 0.0673 - mean_absolute_error: 0.0673 - val_loss: 0.4767 - val_mean_absolute_error: 0.4767\n",
      "Epoch 97/100\n"
     ]
    },
    {
     "name": "stdout",
     "output_type": "stream",
     "text": [
      "264/264 [==============================] - 0s 133us/sample - loss: 0.0753 - mean_absolute_error: 0.0753 - val_loss: 0.4684 - val_mean_absolute_error: 0.4684\n",
      "Epoch 98/100\n",
      "264/264 [==============================] - 0s 142us/sample - loss: 0.0806 - mean_absolute_error: 0.0806 - val_loss: 0.4767 - val_mean_absolute_error: 0.4767\n",
      "Epoch 99/100\n",
      "264/264 [==============================] - 0s 129us/sample - loss: 0.0709 - mean_absolute_error: 0.0709 - val_loss: 0.4925 - val_mean_absolute_error: 0.4925\n",
      "Epoch 100/100\n",
      "264/264 [==============================] - 0s 138us/sample - loss: 0.0643 - mean_absolute_error: 0.0643 - val_loss: 0.4484 - val_mean_absolute_error: 0.4484\n"
     ]
    },
    {
     "data": {
      "text/plain": [
       "<tensorflow.python.keras.callbacks.History at 0x10e550588>"
      ]
     },
     "execution_count": 11,
     "metadata": {},
     "output_type": "execute_result"
    }
   ],
   "source": [
    "NN_model.fit(X_train, y_train, epochs=100, batch_size=32, validation_split = 0.2)"
   ]
  },
  {
   "cell_type": "code",
   "execution_count": 12,
   "metadata": {},
   "outputs": [],
   "source": [
    "#Predicting the Validation set results\n",
    "y_predval = NN_model.predict(X_val)"
   ]
  },
  {
   "cell_type": "code",
   "execution_count": 13,
   "metadata": {},
   "outputs": [
    {
     "name": "stdout",
     "output_type": "stream",
     "text": [
      "0.5855956845558254\n",
      "0.6804037737149851\n",
      "0.8248659125669972\n",
      "R2 Score\n",
      "0.045625825747473536\n"
     ]
    }
   ],
   "source": [
    "# Print result of MAE\n",
    "from sklearn import metrics\n",
    "print(metrics.mean_absolute_error(y_val, y_predval))\n",
    "\n",
    "# Print result of MSE\n",
    "print(metrics.mean_squared_error(y_val, y_predval))\n",
    "\n",
    "# Print result of RMSE\n",
    "print(np.sqrt(metrics.mean_squared_error(y_val, y_predval)))\n",
    "\n",
    "from sklearn.metrics import r2_score\n",
    "accuracy=r2_score(y_val,y_predval)\n",
    "\n",
    "print('R2 Score')\n",
    "print(accuracy)"
   ]
  },
  {
   "cell_type": "code",
   "execution_count": 15,
   "metadata": {},
   "outputs": [
    {
     "name": "stdout",
     "output_type": "stream",
     "text": [
      "R^2 = 0.0456\n"
     ]
    },
    {
     "data": {
      "image/png": "[encoded data removed]",
      "text/plain": [
       "<Figure size 1440x720 with 1 Axes>"
      ]
     },
     "metadata": {
      "needs_background": "light"
     },
     "output_type": "display_data"
    },
    {
     "data": {
      "image/png": "[encoded data removed]",
      "text/plain": [
       "<Figure size 1440x720 with 1 Axes>"
      ]
     },
     "metadata": {
      "needs_background": "light"
     },
     "output_type": "display_data"
    }
   ],
   "source": [
    "# Visualising the Random Forest Regression Results\n",
    "# Loading Packages\n",
    "import seaborn as sns\n",
    "import matplotlib.pyplot as plt\n",
    "from sklearn.model_selection import cross_val_predict\n",
    "from sklearn.metrics import r2_score\n",
    "#from sklearn import linear_model\n",
    "from sklearn import datasets\n",
    "from scipy.integrate import simps\n",
    "\n",
    "# Function for Regression Error Characteritic Curve\n",
    "\n",
    "def REC(y_val , y_predval):\n",
    "    \n",
    "    # initilizing the lists\n",
    "    Accuracy = []\n",
    "    \n",
    "    # initializing the values for Epsilon\n",
    "    Begin_Range = 0\n",
    "    End_Range = 1.5\n",
    "    Interval_Size = 0.01\n",
    "    \n",
    "    # List of epsilons\n",
    "    Epsilon = np.arange(Begin_Range , End_Range , Interval_Size)\n",
    "    \n",
    "    # Main Loops\n",
    "    for i in range(len(Epsilon)):\n",
    "        count = 0.0\n",
    "        for j in range(len(y_val)):\n",
    "            if np.linalg.norm(y_val[j] - y_predval[j]) / np.sqrt( np.linalg.norm(y_val[j]) **2 + np.linalg.norm(y_predval[j])**2 ) < Epsilon[i]:\n",
    "                count = count + 1\n",
    "        \n",
    "        Accuracy.append(count/len(y_val))\n",
    "    \n",
    "    # Calculating Area Under Curve using Simpson's rule\n",
    "    AUC = simps(Accuracy , Epsilon ) / End_Range\n",
    "        \n",
    "    # returning epsilon , accuracy , area under curve    \n",
    "    return Epsilon , Accuracy , AUC\n",
    "\n",
    "# finding the deviation and accuracy, and area under curve for plotting\n",
    "Deviation, Accuracy, AUC = REC(y_val, y_predval)\n",
    "\n",
    "# Calculating R^2 of the true and predicted values\n",
    "RR = r2_score(y_val, y_predval)\n",
    "\n",
    "# Plotting\n",
    "plt.figure(figsize=(20 , 10))\n",
    "\n",
    "plt.subplot(1, 2, 1)\n",
    "plt.scatter(y_val, y_predval,color = \"darkorange\")\n",
    "plt.xlabel(\"Real Data\")\n",
    "plt.ylabel(\"Predicted\")\n",
    "plt.figure(figsize=(20 , 10))\n",
    "plt.plot([y_val.min(), y_val.max()], [y_val.min(), y_val.max()], 'k--', lw=4)\n",
    "print(\"R^2 = %0.4f\" %RR)\n",
    "\n",
    "\n",
    "plt.subplot(1, 2, 2)\n",
    "plt.title(\"Regression Error Characteristic (REC)\")\n",
    "plt.plot(Deviation, Accuracy, \"--b\",lw =3)\n",
    "plt.xlabel(\"Deviation\")\n",
    "plt.ylabel(\"Accuracy (%)\")\n",
    "plt.text(1.1, 0.07, \"AUC = %0.4f\" %AUC , fontsize=15)\n",
    "\n",
    "\n",
    "plt.show()"
   ]
  },
  {
   "cell_type": "code",
   "execution_count": null,
   "metadata": {},
   "outputs": [],
   "source": []
  },
  {
   "cell_type": "code",
   "execution_count": null,
   "metadata": {},
   "outputs": [],
   "source": []
  }
 ],
 "metadata": {
  "kernelspec": {
   "display_name": "Python 3",
   "language": "python",
   "name": "python3"
  },
  "language_info": {
   "codemirror_mode": {
    "name": "ipython",
    "version": 3
   },
   "file_extension": ".py",
   "mimetype": "text/x-python",
   "name": "python",
   "nbconvert_exporter": "python",
   "pygments_lexer": "ipython3",
   "version": "3.7.3"
  }
 },
 "nbformat": 4,
 "nbformat_minor": 2
}
