{
 "cells": [
  {
   "cell_type": "code",
   "execution_count": 1,
   "metadata": {},
   "outputs": [
    {
     "name": "stderr",
     "output_type": "stream",
     "text": [
      "Using TensorFlow backend.\n"
     ]
    }
   ],
   "source": [
    "#importing necessary python packages\n",
    "import pandas as pd\n",
    "import numpy as np\n",
    "import os\n",
    "from keras.callbacks import ModelCheckpoint\n",
    "from keras.models import Sequential\n",
    "from keras.layers import Dense, Activation, Flatten\n",
    "from sklearn.model_selection import train_test_split\n",
    "from sklearn.ensemble import RandomForestRegressor\n",
    "from sklearn.metrics import mean_absolute_error \n",
    "import warnings \n",
    "warnings.filterwarnings('ignore')\n",
    "warnings.filterwarnings('ignore', category=DeprecationWarning)"
   ]
  },
  {
   "cell_type": "code",
   "execution_count": 2,
   "metadata": {},
   "outputs": [],
   "source": [
    "# Importing the dataset\n",
    "dt = pd.read_excel('Gene Clinical.xlsx',index_col=0)\n"
   ]
  },
  {
   "cell_type": "code",
   "execution_count": 3,
   "metadata": {},
   "outputs": [
    {
     "data": {
      "text/plain": [
       "(517, 15154)"
      ]
     },
     "execution_count": 3,
     "metadata": {},
     "output_type": "execute_result"
    }
   ],
   "source": [
    "dt.shape"
   ]
  },
  {
   "cell_type": "code",
   "execution_count": 4,
   "metadata": {},
   "outputs": [
    {
     "data": {
      "text/html": [
       "<div>\n",
       "<style scoped>\n",
       "    .dataframe tbody tr th:only-of-type {\n",
       "        vertical-align: middle;\n",
       "    }\n",
       "\n",
       "    .dataframe tbody tr th {\n",
       "        vertical-align: top;\n",
       "    }\n",
       "\n",
       "    .dataframe thead th {\n",
       "        text-align: right;\n",
       "    }\n",
       "</style>\n",
       "<table border=\"1\" class=\"dataframe\">\n",
       "  <thead>\n",
       "    <tr style=\"text-align: right;\">\n",
       "      <th></th>\n",
       "      <th>UBE2Q2P2</th>\n",
       "      <th>SSX9</th>\n",
       "      <th>CXORF67</th>\n",
       "      <th>EFCAB8</th>\n",
       "      <th>SDR16C6P</th>\n",
       "      <th>EFCAB12</th>\n",
       "      <th>A1BG</th>\n",
       "      <th>A1CF</th>\n",
       "      <th>RBFOX1</th>\n",
       "      <th>GGACT</th>\n",
       "      <th>...</th>\n",
       "      <th>Tissue Source Site_NJ</th>\n",
       "      <th>Tissue Source Site_O1</th>\n",
       "      <th>Tissue Source Site_S2</th>\n",
       "      <th>Person Neoplasm Status_TUMOR FREE</th>\n",
       "      <th>Person Neoplasm Status_WITH TUMOR</th>\n",
       "      <th>Vial number_A</th>\n",
       "      <th>Vial number_B</th>\n",
       "      <th>Patient's Vital Status_Alive</th>\n",
       "      <th>Patient's Vital Status_Dead</th>\n",
       "      <th>Overall Survival (Months)</th>\n",
       "    </tr>\n",
       "    <tr>\n",
       "      <th>Hugo_Symbol</th>\n",
       "      <th></th>\n",
       "      <th></th>\n",
       "      <th></th>\n",
       "      <th></th>\n",
       "      <th></th>\n",
       "      <th></th>\n",
       "      <th></th>\n",
       "      <th></th>\n",
       "      <th></th>\n",
       "      <th></th>\n",
       "      <th></th>\n",
       "      <th></th>\n",
       "      <th></th>\n",
       "      <th></th>\n",
       "      <th></th>\n",
       "      <th></th>\n",
       "      <th></th>\n",
       "      <th></th>\n",
       "      <th></th>\n",
       "      <th></th>\n",
       "      <th></th>\n",
       "    </tr>\n",
       "  </thead>\n",
       "  <tbody>\n",
       "    <tr>\n",
       "      <th>TCGA-05-4244-01</th>\n",
       "      <td>-0.4238</td>\n",
       "      <td>-0.1379</td>\n",
       "      <td>-0.1805</td>\n",
       "      <td>0.4529</td>\n",
       "      <td>-0.3317</td>\n",
       "      <td>-0.1012</td>\n",
       "      <td>-0.6977</td>\n",
       "      <td>-0.1476</td>\n",
       "      <td>-0.224</td>\n",
       "      <td>0.3832</td>\n",
       "      <td>...</td>\n",
       "      <td>0</td>\n",
       "      <td>0</td>\n",
       "      <td>0</td>\n",
       "      <td>1</td>\n",
       "      <td>0</td>\n",
       "      <td>1</td>\n",
       "      <td>0</td>\n",
       "      <td>1</td>\n",
       "      <td>0</td>\n",
       "      <td>0.00</td>\n",
       "    </tr>\n",
       "    <tr>\n",
       "      <th>TCGA-05-4249-01</th>\n",
       "      <td>-0.3291</td>\n",
       "      <td>-0.1379</td>\n",
       "      <td>-0.1805</td>\n",
       "      <td>-0.0869</td>\n",
       "      <td>-0.3317</td>\n",
       "      <td>-0.1661</td>\n",
       "      <td>-0.1483</td>\n",
       "      <td>-0.1371</td>\n",
       "      <td>-0.226</td>\n",
       "      <td>-0.5346</td>\n",
       "      <td>...</td>\n",
       "      <td>0</td>\n",
       "      <td>0</td>\n",
       "      <td>0</td>\n",
       "      <td>1</td>\n",
       "      <td>0</td>\n",
       "      <td>1</td>\n",
       "      <td>0</td>\n",
       "      <td>1</td>\n",
       "      <td>0</td>\n",
       "      <td>50.03</td>\n",
       "    </tr>\n",
       "  </tbody>\n",
       "</table>\n",
       "<p>2 rows × 15154 columns</p>\n",
       "</div>"
      ],
      "text/plain": [
       "                 UBE2Q2P2    SSX9  CXORF67  EFCAB8  SDR16C6P  EFCAB12    A1BG  \\\n",
       "Hugo_Symbol                                                                     \n",
       "TCGA-05-4244-01   -0.4238 -0.1379  -0.1805  0.4529   -0.3317  -0.1012 -0.6977   \n",
       "TCGA-05-4249-01   -0.3291 -0.1379  -0.1805 -0.0869   -0.3317  -0.1661 -0.1483   \n",
       "\n",
       "                   A1CF  RBFOX1   GGACT  ...  Tissue Source Site_NJ  \\\n",
       "Hugo_Symbol                              ...                          \n",
       "TCGA-05-4244-01 -0.1476  -0.224  0.3832  ...                      0   \n",
       "TCGA-05-4249-01 -0.1371  -0.226 -0.5346  ...                      0   \n",
       "\n",
       "                 Tissue Source Site_O1  Tissue Source Site_S2  \\\n",
       "Hugo_Symbol                                                     \n",
       "TCGA-05-4244-01                      0                      0   \n",
       "TCGA-05-4249-01                      0                      0   \n",
       "\n",
       "                 Person Neoplasm Status_TUMOR FREE  \\\n",
       "Hugo_Symbol                                          \n",
       "TCGA-05-4244-01                                  1   \n",
       "TCGA-05-4249-01                                  1   \n",
       "\n",
       "                 Person Neoplasm Status_WITH TUMOR  Vial number_A  \\\n",
       "Hugo_Symbol                                                         \n",
       "TCGA-05-4244-01                                  0              1   \n",
       "TCGA-05-4249-01                                  0              1   \n",
       "\n",
       "                 Vial number_B  Patient's Vital Status_Alive  \\\n",
       "Hugo_Symbol                                                    \n",
       "TCGA-05-4244-01              0                             1   \n",
       "TCGA-05-4249-01              0                             1   \n",
       "\n",
       "                 Patient's Vital Status_Dead  Overall Survival (Months)  \n",
       "Hugo_Symbol                                                              \n",
       "TCGA-05-4244-01                            0                       0.00  \n",
       "TCGA-05-4249-01                            0                      50.03  \n",
       "\n",
       "[2 rows x 15154 columns]"
      ]
     },
     "execution_count": 4,
     "metadata": {},
     "output_type": "execute_result"
    }
   ],
   "source": [
    "dt.head(2)"
   ]
  },
  {
   "cell_type": "code",
   "execution_count": 5,
   "metadata": {},
   "outputs": [
    {
     "data": {
      "text/plain": [
       "(517, 15151)"
      ]
     },
     "execution_count": 5,
     "metadata": {},
     "output_type": "execute_result"
    }
   ],
   "source": [
    "del dt['Column1']\n",
    "del dt['Patient\\'s Vital Status_Dead']\n",
    "del dt['Patient\\'s Vital Status_Alive']\n",
    "dt.shape"
   ]
  },
  {
   "cell_type": "code",
   "execution_count": 6,
   "metadata": {},
   "outputs": [],
   "source": [
    "X = dt.iloc[:,0:15150].values\n",
    "y = dt.iloc[:, -1].values"
   ]
  },
  {
   "cell_type": "code",
   "execution_count": 7,
   "metadata": {},
   "outputs": [],
   "source": [
    "# Splitting the dataset into the Training set and Test set\n",
    "from sklearn.model_selection import train_test_split\n",
    "X_train, X_test, y_train, y_test = train_test_split(X, y, test_size = 0.2, random_state = 0)\n",
    "X_train, X_val, y_train, y_val = train_test_split(X_train, y_train, test_size=0.2, random_state=0)"
   ]
  },
  {
   "cell_type": "code",
   "execution_count": 8,
   "metadata": {},
   "outputs": [],
   "source": [
    "# Feature Scaling\n",
    "from sklearn.preprocessing import StandardScaler\n",
    "sc_X = StandardScaler()\n",
    "X_train = sc_X.fit_transform(X_train)\n",
    "X_test = sc_X.transform(X_test)\n",
    "X_val = sc_X.fit_transform(X_val)"
   ]
  },
  {
   "cell_type": "code",
   "execution_count": 9,
   "metadata": {},
   "outputs": [],
   "source": [
    "sc_y = StandardScaler()\n",
    "y_train = np.squeeze(sc_y.fit_transform(y_train.reshape(-1, 1)))\n",
    "y_val = np.squeeze(sc_y.transform(y_val.reshape(-1, 1)))\n",
    "y_test = np.squeeze(sc_y.transform(y_test.reshape(-1, 1)))"
   ]
  },
  {
   "cell_type": "code",
   "execution_count": 10,
   "metadata": {},
   "outputs": [
    {
     "name": "stdout",
     "output_type": "stream",
     "text": [
      "Model: \"sequential\"\n",
      "_________________________________________________________________\n",
      "Layer (type)                 Output Shape              Param #   \n",
      "=================================================================\n",
      "dense (Dense)                (None, 128)               1939328   \n",
      "_________________________________________________________________\n",
      "dense_1 (Dense)              (None, 256)               33024     \n",
      "_________________________________________________________________\n",
      "dense_2 (Dense)              (None, 256)               65792     \n",
      "_________________________________________________________________\n",
      "dense_3 (Dense)              (None, 256)               65792     \n",
      "_________________________________________________________________\n",
      "dense_4 (Dense)              (None, 1)                 257       \n",
      "=================================================================\n",
      "Total params: 2,104,193\n",
      "Trainable params: 2,104,193\n",
      "Non-trainable params: 0\n",
      "_________________________________________________________________\n"
     ]
    }
   ],
   "source": [
    "#Create Deep Neural Network Architecuture\n",
    "from tensorflow.keras import Sequential\n",
    "from tensorflow.keras.layers import Dense, Dropout\n",
    "\n",
    "NN_model = Sequential()\n",
    "\n",
    "# The Input Layer :\n",
    "NN_model.add(Dense(128, kernel_initializer='normal',input_dim = X_train.shape[1], activation='relu'))\n",
    "\n",
    "# The Hidden Layers :\n",
    "NN_model.add(Dense(256, kernel_initializer='normal',activation='relu'))\n",
    "NN_model.add(Dense(256, kernel_initializer='normal',activation='relu'))\n",
    "NN_model.add(Dense(256, kernel_initializer='normal',activation='relu'))\n",
    "\n",
    "# The Output Layer :\n",
    "NN_model.add(Dense(1, kernel_initializer='normal',activation='linear'))\n",
    "\n",
    "# Compile the network :\n",
    "NN_model.compile(loss='mean_absolute_error', optimizer='adam', metrics=['mean_absolute_error'])\n",
    "NN_model.summary()"
   ]
  },
  {
   "cell_type": "code",
   "execution_count": 11,
   "metadata": {},
   "outputs": [
    {
     "name": "stdout",
     "output_type": "stream",
     "text": [
      "Train on 264 samples, validate on 66 samples\n",
      "Epoch 1/100\n",
      "264/264 [==============================] - 0s 2ms/sample - loss: 0.7670 - mean_absolute_error: 0.7670 - val_loss: 0.5624 - val_mean_absolute_error: 0.5624\n",
      "Epoch 2/100\n",
      "264/264 [==============================] - 0s 463us/sample - loss: 0.6335 - mean_absolute_error: 0.6335 - val_loss: 0.4968 - val_mean_absolute_error: 0.4968\n",
      "Epoch 3/100\n",
      "264/264 [==============================] - 0s 449us/sample - loss: 0.5692 - mean_absolute_error: 0.5692 - val_loss: 0.5316 - val_mean_absolute_error: 0.5316\n",
      "Epoch 4/100\n",
      "264/264 [==============================] - 0s 437us/sample - loss: 0.4612 - mean_absolute_error: 0.4612 - val_loss: 0.5148 - val_mean_absolute_error: 0.5148\n",
      "Epoch 5/100\n",
      "264/264 [==============================] - 0s 455us/sample - loss: 0.4123 - mean_absolute_error: 0.4123 - val_loss: 0.5090 - val_mean_absolute_error: 0.5090\n",
      "Epoch 6/100\n",
      "264/264 [==============================] - 0s 449us/sample - loss: 0.3569 - mean_absolute_error: 0.3569 - val_loss: 0.5065 - val_mean_absolute_error: 0.5065\n",
      "Epoch 7/100\n",
      "264/264 [==============================] - 0s 443us/sample - loss: 0.3088 - mean_absolute_error: 0.3088 - val_loss: 0.6170 - val_mean_absolute_error: 0.6170\n",
      "Epoch 8/100\n",
      "264/264 [==============================] - 0s 440us/sample - loss: 0.3125 - mean_absolute_error: 0.3125 - val_loss: 0.5350 - val_mean_absolute_error: 0.5350\n",
      "Epoch 9/100\n",
      "264/264 [==============================] - 0s 456us/sample - loss: 0.2979 - mean_absolute_error: 0.2979 - val_loss: 0.5030 - val_mean_absolute_error: 0.5030\n",
      "Epoch 10/100\n",
      "264/264 [==============================] - 0s 450us/sample - loss: 0.2671 - mean_absolute_error: 0.2671 - val_loss: 0.5081 - val_mean_absolute_error: 0.5081\n",
      "Epoch 11/100\n",
      "264/264 [==============================] - 0s 426us/sample - loss: 0.2322 - mean_absolute_error: 0.2322 - val_loss: 0.5028 - val_mean_absolute_error: 0.5028\n",
      "Epoch 12/100\n",
      "264/264 [==============================] - 0s 423us/sample - loss: 0.2402 - mean_absolute_error: 0.2402 - val_loss: 0.5337 - val_mean_absolute_error: 0.5337\n",
      "Epoch 13/100\n",
      "264/264 [==============================] - 0s 454us/sample - loss: 0.2219 - mean_absolute_error: 0.2219 - val_loss: 0.4952 - val_mean_absolute_error: 0.4952\n",
      "Epoch 14/100\n",
      "264/264 [==============================] - 0s 458us/sample - loss: 0.2562 - mean_absolute_error: 0.2562 - val_loss: 0.4923 - val_mean_absolute_error: 0.4923\n",
      "Epoch 15/100\n",
      "264/264 [==============================] - 0s 451us/sample - loss: 0.2126 - mean_absolute_error: 0.2126 - val_loss: 0.5231 - val_mean_absolute_error: 0.5231\n",
      "Epoch 16/100\n",
      "264/264 [==============================] - 0s 459us/sample - loss: 0.1919 - mean_absolute_error: 0.1919 - val_loss: 0.4921 - val_mean_absolute_error: 0.4921\n",
      "Epoch 17/100\n",
      "264/264 [==============================] - 0s 436us/sample - loss: 0.2206 - mean_absolute_error: 0.2206 - val_loss: 0.5756 - val_mean_absolute_error: 0.5756\n",
      "Epoch 18/100\n",
      "264/264 [==============================] - 0s 441us/sample - loss: 0.2454 - mean_absolute_error: 0.2454 - val_loss: 0.4855 - val_mean_absolute_error: 0.4855\n",
      "Epoch 19/100\n",
      "264/264 [==============================] - 0s 440us/sample - loss: 0.2233 - mean_absolute_error: 0.2233 - val_loss: 0.4779 - val_mean_absolute_error: 0.4779\n",
      "Epoch 20/100\n",
      "264/264 [==============================] - 0s 442us/sample - loss: 0.1948 - mean_absolute_error: 0.1948 - val_loss: 0.5815 - val_mean_absolute_error: 0.5815\n",
      "Epoch 21/100\n",
      "264/264 [==============================] - 0s 445us/sample - loss: 0.2193 - mean_absolute_error: 0.2193 - val_loss: 0.4847 - val_mean_absolute_error: 0.4847\n",
      "Epoch 22/100\n",
      "264/264 [==============================] - 0s 446us/sample - loss: 0.2056 - mean_absolute_error: 0.2056 - val_loss: 0.5186 - val_mean_absolute_error: 0.5186\n",
      "Epoch 23/100\n",
      "264/264 [==============================] - 0s 441us/sample - loss: 0.1791 - mean_absolute_error: 0.1791 - val_loss: 0.4924 - val_mean_absolute_error: 0.4924\n",
      "Epoch 24/100\n",
      "264/264 [==============================] - 0s 429us/sample - loss: 0.1788 - mean_absolute_error: 0.1788 - val_loss: 0.4934 - val_mean_absolute_error: 0.4934\n",
      "Epoch 25/100\n",
      "264/264 [==============================] - 0s 482us/sample - loss: 0.1645 - mean_absolute_error: 0.1645 - val_loss: 0.5074 - val_mean_absolute_error: 0.5074\n",
      "Epoch 26/100\n",
      "264/264 [==============================] - 0s 474us/sample - loss: 0.1450 - mean_absolute_error: 0.1450 - val_loss: 0.4792 - val_mean_absolute_error: 0.4792\n",
      "Epoch 27/100\n",
      "264/264 [==============================] - 0s 451us/sample - loss: 0.2072 - mean_absolute_error: 0.2072 - val_loss: 0.5306 - val_mean_absolute_error: 0.5306\n",
      "Epoch 28/100\n",
      "264/264 [==============================] - 0s 441us/sample - loss: 0.1660 - mean_absolute_error: 0.1660 - val_loss: 0.5023 - val_mean_absolute_error: 0.5023\n",
      "Epoch 29/100\n",
      "264/264 [==============================] - 0s 469us/sample - loss: 0.1703 - mean_absolute_error: 0.1703 - val_loss: 0.5150 - val_mean_absolute_error: 0.5150\n",
      "Epoch 30/100\n",
      "264/264 [==============================] - 0s 462us/sample - loss: 0.1610 - mean_absolute_error: 0.1610 - val_loss: 0.4894 - val_mean_absolute_error: 0.4894\n",
      "Epoch 31/100\n",
      "264/264 [==============================] - 0s 459us/sample - loss: 0.1831 - mean_absolute_error: 0.1831 - val_loss: 0.5600 - val_mean_absolute_error: 0.5600\n",
      "Epoch 32/100\n",
      "264/264 [==============================] - 0s 477us/sample - loss: 0.2054 - mean_absolute_error: 0.2054 - val_loss: 0.4695 - val_mean_absolute_error: 0.4695\n",
      "Epoch 33/100\n",
      "264/264 [==============================] - 0s 463us/sample - loss: 0.1973 - mean_absolute_error: 0.1973 - val_loss: 0.4933 - val_mean_absolute_error: 0.4933\n",
      "Epoch 34/100\n",
      "264/264 [==============================] - 0s 448us/sample - loss: 0.1620 - mean_absolute_error: 0.1620 - val_loss: 0.5525 - val_mean_absolute_error: 0.5525\n",
      "Epoch 35/100\n",
      "264/264 [==============================] - 0s 486us/sample - loss: 0.1260 - mean_absolute_error: 0.1260 - val_loss: 0.4674 - val_mean_absolute_error: 0.4674\n",
      "Epoch 36/100\n",
      "264/264 [==============================] - 0s 431us/sample - loss: 0.1386 - mean_absolute_error: 0.1386 - val_loss: 0.5281 - val_mean_absolute_error: 0.5281\n",
      "Epoch 37/100\n",
      "264/264 [==============================] - 0s 464us/sample - loss: 0.1474 - mean_absolute_error: 0.1474 - val_loss: 0.4742 - val_mean_absolute_error: 0.4742\n",
      "Epoch 38/100\n",
      "264/264 [==============================] - 0s 449us/sample - loss: 0.1348 - mean_absolute_error: 0.1348 - val_loss: 0.5300 - val_mean_absolute_error: 0.5300\n",
      "Epoch 39/100\n",
      "264/264 [==============================] - 0s 450us/sample - loss: 0.1225 - mean_absolute_error: 0.1225 - val_loss: 0.5004 - val_mean_absolute_error: 0.5004\n",
      "Epoch 40/100\n",
      "264/264 [==============================] - 0s 498us/sample - loss: 0.1098 - mean_absolute_error: 0.1098 - val_loss: 0.5109 - val_mean_absolute_error: 0.5109\n",
      "Epoch 41/100\n",
      "264/264 [==============================] - 0s 520us/sample - loss: 0.1143 - mean_absolute_error: 0.1143 - val_loss: 0.5221 - val_mean_absolute_error: 0.5221\n",
      "Epoch 42/100\n",
      "264/264 [==============================] - 0s 492us/sample - loss: 0.1189 - mean_absolute_error: 0.1189 - val_loss: 0.5244 - val_mean_absolute_error: 0.5244\n",
      "Epoch 43/100\n",
      "264/264 [==============================] - 0s 451us/sample - loss: 0.1204 - mean_absolute_error: 0.1204 - val_loss: 0.5069 - val_mean_absolute_error: 0.5069\n",
      "Epoch 44/100\n",
      "264/264 [==============================] - 0s 453us/sample - loss: 0.1162 - mean_absolute_error: 0.1162 - val_loss: 0.5378 - val_mean_absolute_error: 0.5378\n",
      "Epoch 45/100\n",
      "264/264 [==============================] - 0s 430us/sample - loss: 0.1132 - mean_absolute_error: 0.1132 - val_loss: 0.4915 - val_mean_absolute_error: 0.4915\n",
      "Epoch 46/100\n",
      "264/264 [==============================] - 0s 418us/sample - loss: 0.1022 - mean_absolute_error: 0.1022 - val_loss: 0.5144 - val_mean_absolute_error: 0.5144\n",
      "Epoch 47/100\n",
      "264/264 [==============================] - 0s 438us/sample - loss: 0.1023 - mean_absolute_error: 0.1023 - val_loss: 0.5050 - val_mean_absolute_error: 0.5050\n",
      "Epoch 48/100\n",
      "264/264 [==============================] - 0s 435us/sample - loss: 0.0967 - mean_absolute_error: 0.0967 - val_loss: 0.5144 - val_mean_absolute_error: 0.5144\n"
     ]
    },
    {
     "name": "stdout",
     "output_type": "stream",
     "text": [
      "Epoch 49/100\n",
      "264/264 [==============================] - 0s 423us/sample - loss: 0.0934 - mean_absolute_error: 0.0934 - val_loss: 0.5022 - val_mean_absolute_error: 0.5022\n",
      "Epoch 50/100\n",
      "264/264 [==============================] - 0s 435us/sample - loss: 0.0920 - mean_absolute_error: 0.0920 - val_loss: 0.5408 - val_mean_absolute_error: 0.5408\n",
      "Epoch 51/100\n",
      "264/264 [==============================] - 0s 442us/sample - loss: 0.1083 - mean_absolute_error: 0.1083 - val_loss: 0.4996 - val_mean_absolute_error: 0.4996\n",
      "Epoch 52/100\n",
      "264/264 [==============================] - 0s 444us/sample - loss: 0.1011 - mean_absolute_error: 0.1011 - val_loss: 0.5250 - val_mean_absolute_error: 0.5250\n",
      "Epoch 53/100\n",
      "264/264 [==============================] - 0s 445us/sample - loss: 0.1005 - mean_absolute_error: 0.1005 - val_loss: 0.4866 - val_mean_absolute_error: 0.4866\n",
      "Epoch 54/100\n",
      "264/264 [==============================] - 0s 426us/sample - loss: 0.1182 - mean_absolute_error: 0.1182 - val_loss: 0.5399 - val_mean_absolute_error: 0.5399\n",
      "Epoch 55/100\n",
      "264/264 [==============================] - 0s 425us/sample - loss: 0.1150 - mean_absolute_error: 0.1150 - val_loss: 0.5033 - val_mean_absolute_error: 0.5033\n",
      "Epoch 56/100\n",
      "264/264 [==============================] - 0s 430us/sample - loss: 0.1171 - mean_absolute_error: 0.1171 - val_loss: 0.5389 - val_mean_absolute_error: 0.5389\n",
      "Epoch 57/100\n",
      "264/264 [==============================] - 0s 446us/sample - loss: 0.0956 - mean_absolute_error: 0.0956 - val_loss: 0.5646 - val_mean_absolute_error: 0.5646\n",
      "Epoch 58/100\n",
      "264/264 [==============================] - 0s 443us/sample - loss: 0.1078 - mean_absolute_error: 0.1078 - val_loss: 0.5186 - val_mean_absolute_error: 0.5186\n",
      "Epoch 59/100\n",
      "264/264 [==============================] - 0s 430us/sample - loss: 0.1088 - mean_absolute_error: 0.1088 - val_loss: 0.5353 - val_mean_absolute_error: 0.5353\n",
      "Epoch 60/100\n",
      "264/264 [==============================] - 0s 432us/sample - loss: 0.0946 - mean_absolute_error: 0.0946 - val_loss: 0.4893 - val_mean_absolute_error: 0.4893\n",
      "Epoch 61/100\n",
      "264/264 [==============================] - 0s 429us/sample - loss: 0.1135 - mean_absolute_error: 0.1135 - val_loss: 0.5449 - val_mean_absolute_error: 0.5449\n",
      "Epoch 62/100\n",
      "264/264 [==============================] - 0s 424us/sample - loss: 0.1062 - mean_absolute_error: 0.1062 - val_loss: 0.4842 - val_mean_absolute_error: 0.4842\n",
      "Epoch 63/100\n",
      "264/264 [==============================] - 0s 424us/sample - loss: 0.1069 - mean_absolute_error: 0.1069 - val_loss: 0.5329 - val_mean_absolute_error: 0.5329\n",
      "Epoch 64/100\n",
      "264/264 [==============================] - 0s 431us/sample - loss: 0.1244 - mean_absolute_error: 0.1244 - val_loss: 0.4795 - val_mean_absolute_error: 0.4795\n",
      "Epoch 65/100\n",
      "264/264 [==============================] - 0s 433us/sample - loss: 0.1327 - mean_absolute_error: 0.1327 - val_loss: 0.5243 - val_mean_absolute_error: 0.5243\n",
      "Epoch 66/100\n",
      "264/264 [==============================] - 0s 431us/sample - loss: 0.1328 - mean_absolute_error: 0.1328 - val_loss: 0.5049 - val_mean_absolute_error: 0.5049\n",
      "Epoch 67/100\n",
      "264/264 [==============================] - 0s 430us/sample - loss: 0.1342 - mean_absolute_error: 0.1342 - val_loss: 0.5312 - val_mean_absolute_error: 0.5312\n",
      "Epoch 68/100\n",
      "264/264 [==============================] - 0s 432us/sample - loss: 0.1176 - mean_absolute_error: 0.1176 - val_loss: 0.5166 - val_mean_absolute_error: 0.5166\n",
      "Epoch 69/100\n",
      "264/264 [==============================] - 0s 418us/sample - loss: 0.0953 - mean_absolute_error: 0.0953 - val_loss: 0.5012 - val_mean_absolute_error: 0.5012\n",
      "Epoch 70/100\n",
      "264/264 [==============================] - 0s 428us/sample - loss: 0.1072 - mean_absolute_error: 0.1072 - val_loss: 0.4830 - val_mean_absolute_error: 0.4830\n",
      "Epoch 71/100\n",
      "264/264 [==============================] - 0s 430us/sample - loss: 0.0902 - mean_absolute_error: 0.0902 - val_loss: 0.5407 - val_mean_absolute_error: 0.5407\n",
      "Epoch 72/100\n",
      "264/264 [==============================] - 0s 432us/sample - loss: 0.0964 - mean_absolute_error: 0.0964 - val_loss: 0.5142 - val_mean_absolute_error: 0.5142\n",
      "Epoch 73/100\n",
      "264/264 [==============================] - 0s 434us/sample - loss: 0.1141 - mean_absolute_error: 0.1141 - val_loss: 0.5305 - val_mean_absolute_error: 0.5305\n",
      "Epoch 74/100\n",
      "264/264 [==============================] - 0s 450us/sample - loss: 0.0863 - mean_absolute_error: 0.0863 - val_loss: 0.5380 - val_mean_absolute_error: 0.5380\n",
      "Epoch 75/100\n",
      "264/264 [==============================] - 0s 428us/sample - loss: 0.0898 - mean_absolute_error: 0.0898 - val_loss: 0.5397 - val_mean_absolute_error: 0.5397\n",
      "Epoch 76/100\n",
      "264/264 [==============================] - 0s 430us/sample - loss: 0.0922 - mean_absolute_error: 0.0922 - val_loss: 0.4980 - val_mean_absolute_error: 0.4980\n",
      "Epoch 77/100\n",
      "264/264 [==============================] - 0s 432us/sample - loss: 0.1002 - mean_absolute_error: 0.1002 - val_loss: 0.5213 - val_mean_absolute_error: 0.5213\n",
      "Epoch 78/100\n",
      "264/264 [==============================] - 0s 447us/sample - loss: 0.0816 - mean_absolute_error: 0.0816 - val_loss: 0.5157 - val_mean_absolute_error: 0.5157\n",
      "Epoch 79/100\n",
      "264/264 [==============================] - 0s 443us/sample - loss: 0.0864 - mean_absolute_error: 0.0864 - val_loss: 0.5070 - val_mean_absolute_error: 0.5070\n",
      "Epoch 80/100\n",
      "264/264 [==============================] - 0s 435us/sample - loss: 0.0875 - mean_absolute_error: 0.0875 - val_loss: 0.5419 - val_mean_absolute_error: 0.5419\n",
      "Epoch 81/100\n",
      "264/264 [==============================] - 0s 443us/sample - loss: 0.0935 - mean_absolute_error: 0.0935 - val_loss: 0.4979 - val_mean_absolute_error: 0.4979\n",
      "Epoch 82/100\n",
      "264/264 [==============================] - 0s 434us/sample - loss: 0.0944 - mean_absolute_error: 0.0944 - val_loss: 0.5323 - val_mean_absolute_error: 0.5323\n",
      "Epoch 83/100\n",
      "264/264 [==============================] - 0s 432us/sample - loss: 0.0802 - mean_absolute_error: 0.0802 - val_loss: 0.5333 - val_mean_absolute_error: 0.5333\n",
      "Epoch 84/100\n",
      "264/264 [==============================] - 0s 439us/sample - loss: 0.0737 - mean_absolute_error: 0.0737 - val_loss: 0.5143 - val_mean_absolute_error: 0.5143\n",
      "Epoch 85/100\n",
      "264/264 [==============================] - 0s 447us/sample - loss: 0.0692 - mean_absolute_error: 0.0692 - val_loss: 0.5081 - val_mean_absolute_error: 0.5081\n",
      "Epoch 86/100\n",
      "264/264 [==============================] - 0s 458us/sample - loss: 0.0790 - mean_absolute_error: 0.0790 - val_loss: 0.5280 - val_mean_absolute_error: 0.5280\n",
      "Epoch 87/100\n",
      "264/264 [==============================] - 0s 444us/sample - loss: 0.0842 - mean_absolute_error: 0.0842 - val_loss: 0.5552 - val_mean_absolute_error: 0.5552\n",
      "Epoch 88/100\n",
      "264/264 [==============================] - 0s 497us/sample - loss: 0.0843 - mean_absolute_error: 0.0843 - val_loss: 0.5010 - val_mean_absolute_error: 0.5010\n",
      "Epoch 89/100\n",
      "264/264 [==============================] - 0s 476us/sample - loss: 0.0846 - mean_absolute_error: 0.0846 - val_loss: 0.5745 - val_mean_absolute_error: 0.5745\n",
      "Epoch 90/100\n",
      "264/264 [==============================] - 0s 442us/sample - loss: 0.0935 - mean_absolute_error: 0.0935 - val_loss: 0.5003 - val_mean_absolute_error: 0.5003\n",
      "Epoch 91/100\n",
      "264/264 [==============================] - 0s 443us/sample - loss: 0.0989 - mean_absolute_error: 0.0989 - val_loss: 0.5473 - val_mean_absolute_error: 0.5473\n",
      "Epoch 92/100\n",
      "264/264 [==============================] - 0s 467us/sample - loss: 0.0907 - mean_absolute_error: 0.0907 - val_loss: 0.5058 - val_mean_absolute_error: 0.5058\n",
      "Epoch 93/100\n",
      "264/264 [==============================] - 0s 488us/sample - loss: 0.0983 - mean_absolute_error: 0.0983 - val_loss: 0.5479 - val_mean_absolute_error: 0.5479\n",
      "Epoch 94/100\n",
      "264/264 [==============================] - 0s 504us/sample - loss: 0.0809 - mean_absolute_error: 0.0809 - val_loss: 0.5298 - val_mean_absolute_error: 0.5298\n",
      "Epoch 95/100\n",
      "264/264 [==============================] - 0s 475us/sample - loss: 0.1029 - mean_absolute_error: 0.1029 - val_loss: 0.5034 - val_mean_absolute_error: 0.5034\n",
      "Epoch 96/100\n",
      "264/264 [==============================] - 0s 462us/sample - loss: 0.0984 - mean_absolute_error: 0.0984 - val_loss: 0.5498 - val_mean_absolute_error: 0.5498\n",
      "Epoch 97/100\n"
     ]
    },
    {
     "name": "stdout",
     "output_type": "stream",
     "text": [
      "264/264 [==============================] - 0s 484us/sample - loss: 0.0892 - mean_absolute_error: 0.0892 - val_loss: 0.5117 - val_mean_absolute_error: 0.5117\n",
      "Epoch 98/100\n",
      "264/264 [==============================] - 0s 462us/sample - loss: 0.0952 - mean_absolute_error: 0.0952 - val_loss: 0.5534 - val_mean_absolute_error: 0.5534\n",
      "Epoch 99/100\n",
      "264/264 [==============================] - 0s 426us/sample - loss: 0.0905 - mean_absolute_error: 0.0905 - val_loss: 0.5159 - val_mean_absolute_error: 0.5159\n",
      "Epoch 100/100\n",
      "264/264 [==============================] - 0s 435us/sample - loss: 0.0962 - mean_absolute_error: 0.0962 - val_loss: 0.5370 - val_mean_absolute_error: 0.5370\n"
     ]
    },
    {
     "data": {
      "text/plain": [
       "<tensorflow.python.keras.callbacks.History at 0x10b778320>"
      ]
     },
     "execution_count": 11,
     "metadata": {},
     "output_type": "execute_result"
    }
   ],
   "source": [
    "NN_model.fit(X_train, y_train, epochs=100, batch_size=32, validation_split = 0.2)"
   ]
  },
  {
   "cell_type": "code",
   "execution_count": 12,
   "metadata": {},
   "outputs": [],
   "source": [
    "#Predicting the Validation set results\n",
    "y_predval = NN_model.predict(X_val)"
   ]
  },
  {
   "cell_type": "code",
   "execution_count": 13,
   "metadata": {},
   "outputs": [
    {
     "name": "stdout",
     "output_type": "stream",
     "text": [
      "0.6623696117602224\n",
      "0.8325905861517908\n",
      "0.9124640190998168\n",
      "R2 Score\n",
      "-0.1678403087192375\n"
     ]
    }
   ],
   "source": [
    "# Print result of MAE\n",
    "from sklearn import metrics\n",
    "print(metrics.mean_absolute_error(y_val, y_predval))\n",
    "\n",
    "# Print result of MSE\n",
    "print(metrics.mean_squared_error(y_val, y_predval))\n",
    "\n",
    "# Print result of RMSE\n",
    "print(np.sqrt(metrics.mean_squared_error(y_val, y_predval)))\n",
    "\n",
    "from sklearn.metrics import r2_score\n",
    "accuracy=r2_score(y_val,y_predval)\n",
    "\n",
    "print('R2 Score')\n",
    "print(accuracy)"
   ]
  },
  {
   "cell_type": "code",
   "execution_count": 15,
   "metadata": {},
   "outputs": [
    {
     "name": "stdout",
     "output_type": "stream",
     "text": [
      "R^2 = -0.1678\n"
     ]
    },
    {
     "data": {
      "image/png": "[encoded data removed]",
      "text/plain": [
       "<Figure size 1440x720 with 1 Axes>"
      ]
     },
     "metadata": {
      "needs_background": "light"
     },
     "output_type": "display_data"
    },
    {
     "data": {
      "image/png": "[encoded data removed]",
      "text/plain": [
       "<Figure size 1440x720 with 1 Axes>"
      ]
     },
     "metadata": {
      "needs_background": "light"
     },
     "output_type": "display_data"
    }
   ],
   "source": [
    "# Visualising the Random Forest Regression Results\n",
    "# Loading Packages\n",
    "import seaborn as sns\n",
    "import matplotlib.pyplot as plt\n",
    "from sklearn.model_selection import cross_val_predict\n",
    "from sklearn.metrics import r2_score\n",
    "#from sklearn import linear_model\n",
    "from sklearn import datasets\n",
    "from scipy.integrate import simps\n",
    "\n",
    "# Function for Regression Error Characteritic Curve\n",
    "\n",
    "def REC(y_val , y_predval):\n",
    "    \n",
    "    # initilizing the lists\n",
    "    Accuracy = []\n",
    "    \n",
    "    # initializing the values for Epsilon\n",
    "    Begin_Range = 0\n",
    "    End_Range = 1.5\n",
    "    Interval_Size = 0.01\n",
    "    \n",
    "    # List of epsilons\n",
    "    Epsilon = np.arange(Begin_Range , End_Range , Interval_Size)\n",
    "    \n",
    "    # Main Loops\n",
    "    for i in range(len(Epsilon)):\n",
    "        count = 0.0\n",
    "        for j in range(len(y_val)):\n",
    "            if np.linalg.norm(y_val[j] - y_predval[j]) / np.sqrt( np.linalg.norm(y_val[j]) **2 + np.linalg.norm(y_predval[j])**2 ) < Epsilon[i]:\n",
    "                count = count + 1\n",
    "        \n",
    "        Accuracy.append(count/len(y_val))\n",
    "    \n",
    "    # Calculating Area Under Curve using Simpson's rule\n",
    "    AUC = simps(Accuracy , Epsilon ) / End_Range\n",
    "        \n",
    "    # returning epsilon , accuracy , area under curve    \n",
    "    return Epsilon , Accuracy , AUC\n",
    "\n",
    "# finding the deviation and accuracy, and area under curve for plotting\n",
    "Deviation, Accuracy, AUC = REC(y_val, y_predval)\n",
    "\n",
    "# Calculating R^2 of the true and predicted values\n",
    "RR = r2_score(y_val, y_predval)\n",
    "\n",
    "# Plotting\n",
    "plt.figure(figsize=(20 , 10))\n",
    "\n",
    "plt.subplot(1, 2, 1)\n",
    "plt.scatter(y_val, y_predval,color = \"darkorange\")\n",
    "plt.xlabel(\"Real Data\")\n",
    "plt.ylabel(\"Predicted\")\n",
    "plt.figure(figsize=(20 , 10))\n",
    "plt.plot([y_val.min(), y_val.max()], [y_val.min(), y_val.max()], 'k--', lw=4)\n",
    "print(\"R^2 = %0.4f\" %RR)\n",
    "\n",
    "\n",
    "plt.subplot(1, 2, 2)\n",
    "plt.title(\"Regression Error Characteristic (REC)\")\n",
    "plt.plot(Deviation, Accuracy, \"--b\",lw =3)\n",
    "plt.xlabel(\"Deviation\")\n",
    "plt.ylabel(\"Accuracy (%)\")\n",
    "plt.text(1.1, 0.07, \"AUC = %0.4f\" %AUC , fontsize=15)\n",
    "\n",
    "\n",
    "plt.show()"
   ]
  },
  {
   "cell_type": "code",
   "execution_count": null,
   "metadata": {},
   "outputs": [],
   "source": []
  },
  {
   "cell_type": "code",
   "execution_count": null,
   "metadata": {},
   "outputs": [],
   "source": []
  },
  {
   "cell_type": "code",
   "execution_count": null,
   "metadata": {},
   "outputs": [],
   "source": []
  },
  {
   "cell_type": "code",
   "execution_count": null,
   "metadata": {},
   "outputs": [],
   "source": []
  }
 ],
 "metadata": {
  "kernelspec": {
   "display_name": "Python 3",
   "language": "python",
   "name": "python3"
  },
  "language_info": {
   "codemirror_mode": {
    "name": "ipython",
    "version": 3
   },
   "file_extension": ".py",
   "mimetype": "text/x-python",
   "name": "python",
   "nbconvert_exporter": "python",
   "pygments_lexer": "ipython3",
   "version": "3.7.3"
  }
 },
 "nbformat": 4,
 "nbformat_minor": 2
}
