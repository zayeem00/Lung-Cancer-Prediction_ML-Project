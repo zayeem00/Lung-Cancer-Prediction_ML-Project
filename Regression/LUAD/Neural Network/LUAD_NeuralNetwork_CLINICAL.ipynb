{
 "cells": [
  {
   "cell_type": "code",
   "execution_count": 1,
   "metadata": {},
   "outputs": [
    {
     "name": "stderr",
     "output_type": "stream",
     "text": [
      "Using TensorFlow backend.\n"
     ]
    }
   ],
   "source": [
    "#importing necessary python packages\n",
    "import pandas as pd\n",
    "import numpy as np\n",
    "import os\n",
    "from keras.callbacks import ModelCheckpoint\n",
    "from keras.models import Sequential\n",
    "from keras.layers import Dense, Activation, Flatten\n",
    "from sklearn.model_selection import train_test_split\n",
    "from sklearn.ensemble import RandomForestRegressor\n",
    "from sklearn.metrics import mean_absolute_error \n",
    "import warnings \n",
    "warnings.filterwarnings('ignore')\n",
    "warnings.filterwarnings('ignore', category=DeprecationWarning)"
   ]
  },
  {
   "cell_type": "code",
   "execution_count": 2,
   "metadata": {},
   "outputs": [],
   "source": [
    "# Importing the dataset\n",
    "dt = pd.read_excel('LUAD_clinical.xlsx',index_col=0)"
   ]
  },
  {
   "cell_type": "code",
   "execution_count": 3,
   "metadata": {},
   "outputs": [
    {
     "data": {
      "text/plain": [
       "(517, 347)"
      ]
     },
     "execution_count": 3,
     "metadata": {},
     "output_type": "execute_result"
    }
   ],
   "source": [
    "dt.shape"
   ]
  },
  {
   "cell_type": "code",
   "execution_count": 4,
   "metadata": {},
   "outputs": [
    {
     "data": {
      "text/html": [
       "<div>\n",
       "<style scoped>\n",
       "    .dataframe tbody tr th:only-of-type {\n",
       "        vertical-align: middle;\n",
       "    }\n",
       "\n",
       "    .dataframe tbody tr th {\n",
       "        vertical-align: top;\n",
       "    }\n",
       "\n",
       "    .dataframe thead th {\n",
       "        text-align: right;\n",
       "    }\n",
       "</style>\n",
       "<table border=\"1\" class=\"dataframe\">\n",
       "  <thead>\n",
       "    <tr style=\"text-align: right;\">\n",
       "      <th></th>\n",
       "      <th>Diagnosis Age</th>\n",
       "      <th>Birth from Initial Pathologic Diagnosis Date</th>\n",
       "      <th>Last Alive Less Initial Pathologic Diagnosis Date Calculated Day Value</th>\n",
       "      <th>Fraction Genome Altered</th>\n",
       "      <th>Year Cancer Initial Diagnosis</th>\n",
       "      <th>Longest Dimension</th>\n",
       "      <th>Number of Samples Per Patient</th>\n",
       "      <th>Sample type id</th>\n",
       "      <th>Shortest Dimension</th>\n",
       "      <th>Specimen Second Longest Dimension</th>\n",
       "      <th>...</th>\n",
       "      <th>Tissue Source Site_NJ</th>\n",
       "      <th>Tissue Source Site_O1</th>\n",
       "      <th>Tissue Source Site_S2</th>\n",
       "      <th>Person Neoplasm Status_TUMOR FREE</th>\n",
       "      <th>Person Neoplasm Status_WITH TUMOR</th>\n",
       "      <th>Vial number_A</th>\n",
       "      <th>Vial number_B</th>\n",
       "      <th>Patient's Vital Status_Alive</th>\n",
       "      <th>Patient's Vital Status_Dead</th>\n",
       "      <th>Overall Survival (Months)2</th>\n",
       "    </tr>\n",
       "    <tr>\n",
       "      <th>Sample ID</th>\n",
       "      <th></th>\n",
       "      <th></th>\n",
       "      <th></th>\n",
       "      <th></th>\n",
       "      <th></th>\n",
       "      <th></th>\n",
       "      <th></th>\n",
       "      <th></th>\n",
       "      <th></th>\n",
       "      <th></th>\n",
       "      <th></th>\n",
       "      <th></th>\n",
       "      <th></th>\n",
       "      <th></th>\n",
       "      <th></th>\n",
       "      <th></th>\n",
       "      <th></th>\n",
       "      <th></th>\n",
       "      <th></th>\n",
       "      <th></th>\n",
       "      <th></th>\n",
       "    </tr>\n",
       "  </thead>\n",
       "  <tbody>\n",
       "    <tr>\n",
       "      <th>TCGA-05-4244-01</th>\n",
       "      <td>70.0</td>\n",
       "      <td>-25752.0</td>\n",
       "      <td>0</td>\n",
       "      <td>0.456523</td>\n",
       "      <td>2009.0</td>\n",
       "      <td>1.1</td>\n",
       "      <td>1</td>\n",
       "      <td>1</td>\n",
       "      <td>0.3</td>\n",
       "      <td>0.9</td>\n",
       "      <td>...</td>\n",
       "      <td>0</td>\n",
       "      <td>0</td>\n",
       "      <td>0</td>\n",
       "      <td>1</td>\n",
       "      <td>0</td>\n",
       "      <td>1</td>\n",
       "      <td>0</td>\n",
       "      <td>1</td>\n",
       "      <td>0</td>\n",
       "      <td>0.00</td>\n",
       "    </tr>\n",
       "    <tr>\n",
       "      <th>TCGA-05-4249-01</th>\n",
       "      <td>67.0</td>\n",
       "      <td>-24532.0</td>\n",
       "      <td>0</td>\n",
       "      <td>0.222128</td>\n",
       "      <td>2007.0</td>\n",
       "      <td>1.4</td>\n",
       "      <td>1</td>\n",
       "      <td>1</td>\n",
       "      <td>0.4</td>\n",
       "      <td>0.8</td>\n",
       "      <td>...</td>\n",
       "      <td>0</td>\n",
       "      <td>0</td>\n",
       "      <td>0</td>\n",
       "      <td>1</td>\n",
       "      <td>0</td>\n",
       "      <td>1</td>\n",
       "      <td>0</td>\n",
       "      <td>1</td>\n",
       "      <td>0</td>\n",
       "      <td>50.03</td>\n",
       "    </tr>\n",
       "  </tbody>\n",
       "</table>\n",
       "<p>2 rows × 347 columns</p>\n",
       "</div>"
      ],
      "text/plain": [
       "                 Diagnosis Age  Birth from Initial Pathologic Diagnosis Date  \\\n",
       "Sample ID                                                                      \n",
       "TCGA-05-4244-01           70.0                                      -25752.0   \n",
       "TCGA-05-4249-01           67.0                                      -24532.0   \n",
       "\n",
       "                 Last Alive Less Initial Pathologic Diagnosis Date Calculated Day Value  \\\n",
       "Sample ID                                                                                 \n",
       "TCGA-05-4244-01                                                  0                        \n",
       "TCGA-05-4249-01                                                  0                        \n",
       "\n",
       "                 Fraction Genome Altered  Year Cancer Initial Diagnosis  \\\n",
       "Sample ID                                                                 \n",
       "TCGA-05-4244-01                 0.456523                         2009.0   \n",
       "TCGA-05-4249-01                 0.222128                         2007.0   \n",
       "\n",
       "                 Longest Dimension  Number of Samples Per Patient  \\\n",
       "Sample ID                                                           \n",
       "TCGA-05-4244-01                1.1                              1   \n",
       "TCGA-05-4249-01                1.4                              1   \n",
       "\n",
       "                 Sample type id  Shortest Dimension  \\\n",
       "Sample ID                                             \n",
       "TCGA-05-4244-01               1                 0.3   \n",
       "TCGA-05-4249-01               1                 0.4   \n",
       "\n",
       "                 Specimen Second Longest Dimension  ...  \\\n",
       "Sample ID                                           ...   \n",
       "TCGA-05-4244-01                                0.9  ...   \n",
       "TCGA-05-4249-01                                0.8  ...   \n",
       "\n",
       "                 Tissue Source Site_NJ  Tissue Source Site_O1  \\\n",
       "Sample ID                                                       \n",
       "TCGA-05-4244-01                      0                      0   \n",
       "TCGA-05-4249-01                      0                      0   \n",
       "\n",
       "                 Tissue Source Site_S2  Person Neoplasm Status_TUMOR FREE  \\\n",
       "Sample ID                                                                   \n",
       "TCGA-05-4244-01                      0                                  1   \n",
       "TCGA-05-4249-01                      0                                  1   \n",
       "\n",
       "                 Person Neoplasm Status_WITH TUMOR  Vial number_A  \\\n",
       "Sample ID                                                           \n",
       "TCGA-05-4244-01                                  0              1   \n",
       "TCGA-05-4249-01                                  0              1   \n",
       "\n",
       "                 Vial number_B  Patient's Vital Status_Alive  \\\n",
       "Sample ID                                                      \n",
       "TCGA-05-4244-01              0                             1   \n",
       "TCGA-05-4249-01              0                             1   \n",
       "\n",
       "                 Patient's Vital Status_Dead  Overall Survival (Months)2  \n",
       "Sample ID                                                                 \n",
       "TCGA-05-4244-01                            0                        0.00  \n",
       "TCGA-05-4249-01                            0                       50.03  \n",
       "\n",
       "[2 rows x 347 columns]"
      ]
     },
     "execution_count": 4,
     "metadata": {},
     "output_type": "execute_result"
    }
   ],
   "source": [
    "dt.head(2)"
   ]
  },
  {
   "cell_type": "code",
   "execution_count": 5,
   "metadata": {},
   "outputs": [],
   "source": [
    "del dt['Patient\\'s Vital Status_Dead']\n",
    "del dt['Patient\\'s Vital Status_Alive']"
   ]
  },
  {
   "cell_type": "code",
   "execution_count": 6,
   "metadata": {},
   "outputs": [
    {
     "data": {
      "text/plain": [
       "(517, 345)"
      ]
     },
     "execution_count": 6,
     "metadata": {},
     "output_type": "execute_result"
    }
   ],
   "source": [
    "dt.shape"
   ]
  },
  {
   "cell_type": "code",
   "execution_count": 7,
   "metadata": {},
   "outputs": [],
   "source": [
    "X = dt.iloc[:,0:344].values\n",
    "y = dt.iloc[:, -1].values"
   ]
  },
  {
   "cell_type": "code",
   "execution_count": 8,
   "metadata": {},
   "outputs": [],
   "source": [
    "# Splitting the dataset into the Training set and Test set\n",
    "from sklearn.model_selection import train_test_split\n",
    "X_train, X_test, y_train, y_test = train_test_split(X, y, test_size = 0.2, random_state = 0)\n",
    "X_train, X_val, y_train, y_val = train_test_split(X_train, y_train, test_size=0.2, random_state=0)"
   ]
  },
  {
   "cell_type": "code",
   "execution_count": 9,
   "metadata": {},
   "outputs": [],
   "source": [
    "# Feature Scaling\n",
    "from sklearn.preprocessing import StandardScaler\n",
    "sc_X = StandardScaler()\n",
    "X_train = sc_X.fit_transform(X_train)\n",
    "X_test = sc_X.transform(X_test)\n",
    "X_val = sc_X.fit_transform(X_val)"
   ]
  },
  {
   "cell_type": "code",
   "execution_count": 10,
   "metadata": {},
   "outputs": [],
   "source": [
    "sc_y = StandardScaler()\n",
    "y_train = np.squeeze(sc_y.fit_transform(y_train.reshape(-1, 1)))\n",
    "y_val = np.squeeze(sc_y.transform(y_val.reshape(-1, 1)))\n",
    "y_test = np.squeeze(sc_y.transform(y_test.reshape(-1, 1)))"
   ]
  },
  {
   "cell_type": "code",
   "execution_count": 11,
   "metadata": {},
   "outputs": [
    {
     "name": "stdout",
     "output_type": "stream",
     "text": [
      "Model: \"sequential\"\n",
      "_________________________________________________________________\n",
      "Layer (type)                 Output Shape              Param #   \n",
      "=================================================================\n",
      "dense (Dense)                (None, 128)               44160     \n",
      "_________________________________________________________________\n",
      "dense_1 (Dense)              (None, 256)               33024     \n",
      "_________________________________________________________________\n",
      "dense_2 (Dense)              (None, 256)               65792     \n",
      "_________________________________________________________________\n",
      "dense_3 (Dense)              (None, 256)               65792     \n",
      "_________________________________________________________________\n",
      "dense_4 (Dense)              (None, 1)                 257       \n",
      "=================================================================\n",
      "Total params: 209,025\n",
      "Trainable params: 209,025\n",
      "Non-trainable params: 0\n",
      "_________________________________________________________________\n"
     ]
    }
   ],
   "source": [
    "#Create Deep Neural Network Architecuture\n",
    "from tensorflow.keras import Sequential\n",
    "from tensorflow.keras.layers import Dense, Dropout\n",
    "\n",
    "NN_model = Sequential()\n",
    "\n",
    "# The Input Layer :\n",
    "NN_model.add(Dense(128, kernel_initializer='normal',input_dim = X_train.shape[1], activation='relu'))\n",
    "\n",
    "# The Hidden Layers :\n",
    "NN_model.add(Dense(256, kernel_initializer='normal',activation='relu'))\n",
    "NN_model.add(Dense(256, kernel_initializer='normal',activation='relu'))\n",
    "NN_model.add(Dense(256, kernel_initializer='normal',activation='relu'))\n",
    "\n",
    "# The Output Layer :\n",
    "NN_model.add(Dense(1, kernel_initializer='normal',activation='linear'))\n",
    "\n",
    "# Compile the network :\n",
    "NN_model.compile(loss='mean_absolute_error', optimizer='adam', metrics=['mean_absolute_error'])\n",
    "NN_model.summary()"
   ]
  },
  {
   "cell_type": "code",
   "execution_count": 12,
   "metadata": {},
   "outputs": [
    {
     "name": "stdout",
     "output_type": "stream",
     "text": [
      "Train on 264 samples, validate on 66 samples\n",
      "Epoch 1/100\n",
      "264/264 [==============================] - 0s 990us/sample - loss: 0.6815 - mean_absolute_error: 0.6815 - val_loss: 0.4396 - val_mean_absolute_error: 0.4396\n",
      "Epoch 2/100\n",
      "264/264 [==============================] - 0s 103us/sample - loss: 0.6006 - mean_absolute_error: 0.6006 - val_loss: 0.4187 - val_mean_absolute_error: 0.4187\n",
      "Epoch 3/100\n",
      "264/264 [==============================] - 0s 107us/sample - loss: 0.5040 - mean_absolute_error: 0.5040 - val_loss: 0.4133 - val_mean_absolute_error: 0.4133\n",
      "Epoch 4/100\n",
      "264/264 [==============================] - 0s 110us/sample - loss: 0.4096 - mean_absolute_error: 0.4096 - val_loss: 0.4170 - val_mean_absolute_error: 0.4170\n",
      "Epoch 5/100\n",
      "264/264 [==============================] - 0s 108us/sample - loss: 0.3526 - mean_absolute_error: 0.3526 - val_loss: 0.4238 - val_mean_absolute_error: 0.4238\n",
      "Epoch 6/100\n",
      "264/264 [==============================] - 0s 104us/sample - loss: 0.2884 - mean_absolute_error: 0.2884 - val_loss: 0.4347 - val_mean_absolute_error: 0.4347\n",
      "Epoch 7/100\n",
      "264/264 [==============================] - 0s 106us/sample - loss: 0.2317 - mean_absolute_error: 0.2317 - val_loss: 0.4042 - val_mean_absolute_error: 0.4042\n",
      "Epoch 8/100\n",
      "264/264 [==============================] - 0s 109us/sample - loss: 0.2405 - mean_absolute_error: 0.2405 - val_loss: 0.4775 - val_mean_absolute_error: 0.4775\n",
      "Epoch 9/100\n",
      "264/264 [==============================] - 0s 111us/sample - loss: 0.2192 - mean_absolute_error: 0.2192 - val_loss: 0.4047 - val_mean_absolute_error: 0.4047\n",
      "Epoch 10/100\n",
      "264/264 [==============================] - 0s 110us/sample - loss: 0.1877 - mean_absolute_error: 0.1877 - val_loss: 0.4517 - val_mean_absolute_error: 0.4517\n",
      "Epoch 11/100\n",
      "264/264 [==============================] - 0s 101us/sample - loss: 0.1736 - mean_absolute_error: 0.1736 - val_loss: 0.4331 - val_mean_absolute_error: 0.4331\n",
      "Epoch 12/100\n",
      "264/264 [==============================] - 0s 100us/sample - loss: 0.1621 - mean_absolute_error: 0.1621 - val_loss: 0.4215 - val_mean_absolute_error: 0.4215\n",
      "Epoch 13/100\n",
      "264/264 [==============================] - 0s 112us/sample - loss: 0.1626 - mean_absolute_error: 0.1626 - val_loss: 0.4698 - val_mean_absolute_error: 0.4698\n",
      "Epoch 14/100\n",
      "264/264 [==============================] - 0s 113us/sample - loss: 0.1382 - mean_absolute_error: 0.1382 - val_loss: 0.4297 - val_mean_absolute_error: 0.4297\n",
      "Epoch 15/100\n",
      "264/264 [==============================] - 0s 110us/sample - loss: 0.1295 - mean_absolute_error: 0.1295 - val_loss: 0.4709 - val_mean_absolute_error: 0.4709\n",
      "Epoch 16/100\n",
      "264/264 [==============================] - 0s 107us/sample - loss: 0.1218 - mean_absolute_error: 0.1218 - val_loss: 0.4482 - val_mean_absolute_error: 0.4482\n",
      "Epoch 17/100\n",
      "264/264 [==============================] - 0s 103us/sample - loss: 0.1115 - mean_absolute_error: 0.1115 - val_loss: 0.4213 - val_mean_absolute_error: 0.4213\n",
      "Epoch 18/100\n",
      "264/264 [==============================] - 0s 113us/sample - loss: 0.1177 - mean_absolute_error: 0.1177 - val_loss: 0.4839 - val_mean_absolute_error: 0.4839\n",
      "Epoch 19/100\n",
      "264/264 [==============================] - 0s 101us/sample - loss: 0.1426 - mean_absolute_error: 0.1426 - val_loss: 0.3994 - val_mean_absolute_error: 0.3994\n",
      "Epoch 20/100\n",
      "264/264 [==============================] - 0s 102us/sample - loss: 0.1447 - mean_absolute_error: 0.1447 - val_loss: 0.4898 - val_mean_absolute_error: 0.4898\n",
      "Epoch 21/100\n",
      "264/264 [==============================] - 0s 97us/sample - loss: 0.1393 - mean_absolute_error: 0.1393 - val_loss: 0.4269 - val_mean_absolute_error: 0.4269\n",
      "Epoch 22/100\n",
      "264/264 [==============================] - 0s 116us/sample - loss: 0.1310 - mean_absolute_error: 0.1310 - val_loss: 0.4944 - val_mean_absolute_error: 0.4944\n",
      "Epoch 23/100\n",
      "264/264 [==============================] - 0s 111us/sample - loss: 0.1207 - mean_absolute_error: 0.1207 - val_loss: 0.4329 - val_mean_absolute_error: 0.4329\n",
      "Epoch 24/100\n",
      "264/264 [==============================] - 0s 90us/sample - loss: 0.0943 - mean_absolute_error: 0.0943 - val_loss: 0.4860 - val_mean_absolute_error: 0.4860\n",
      "Epoch 25/100\n",
      "264/264 [==============================] - 0s 93us/sample - loss: 0.1279 - mean_absolute_error: 0.1279 - val_loss: 0.4091 - val_mean_absolute_error: 0.4091\n",
      "Epoch 26/100\n",
      "264/264 [==============================] - 0s 99us/sample - loss: 0.1265 - mean_absolute_error: 0.1265 - val_loss: 0.4601 - val_mean_absolute_error: 0.4601\n",
      "Epoch 27/100\n",
      "264/264 [==============================] - 0s 103us/sample - loss: 0.1014 - mean_absolute_error: 0.1014 - val_loss: 0.4263 - val_mean_absolute_error: 0.4263\n",
      "Epoch 28/100\n",
      "264/264 [==============================] - 0s 108us/sample - loss: 0.0924 - mean_absolute_error: 0.0924 - val_loss: 0.4335 - val_mean_absolute_error: 0.4335\n",
      "Epoch 29/100\n",
      "264/264 [==============================] - 0s 108us/sample - loss: 0.0784 - mean_absolute_error: 0.0784 - val_loss: 0.4365 - val_mean_absolute_error: 0.4365\n",
      "Epoch 30/100\n",
      "264/264 [==============================] - 0s 105us/sample - loss: 0.0701 - mean_absolute_error: 0.0701 - val_loss: 0.4414 - val_mean_absolute_error: 0.4414\n",
      "Epoch 31/100\n",
      "264/264 [==============================] - 0s 111us/sample - loss: 0.0742 - mean_absolute_error: 0.0742 - val_loss: 0.4559 - val_mean_absolute_error: 0.4559\n",
      "Epoch 32/100\n",
      "264/264 [==============================] - 0s 109us/sample - loss: 0.0717 - mean_absolute_error: 0.0717 - val_loss: 0.4276 - val_mean_absolute_error: 0.4276\n",
      "Epoch 33/100\n",
      "264/264 [==============================] - 0s 103us/sample - loss: 0.0796 - mean_absolute_error: 0.0796 - val_loss: 0.4484 - val_mean_absolute_error: 0.4484\n",
      "Epoch 34/100\n",
      "264/264 [==============================] - 0s 101us/sample - loss: 0.1011 - mean_absolute_error: 0.1011 - val_loss: 0.4507 - val_mean_absolute_error: 0.4507\n",
      "Epoch 35/100\n",
      "264/264 [==============================] - 0s 106us/sample - loss: 0.0885 - mean_absolute_error: 0.0885 - val_loss: 0.4313 - val_mean_absolute_error: 0.4313\n",
      "Epoch 36/100\n",
      "264/264 [==============================] - 0s 101us/sample - loss: 0.0826 - mean_absolute_error: 0.0826 - val_loss: 0.4281 - val_mean_absolute_error: 0.4281\n",
      "Epoch 37/100\n",
      "264/264 [==============================] - 0s 101us/sample - loss: 0.0839 - mean_absolute_error: 0.0839 - val_loss: 0.4275 - val_mean_absolute_error: 0.4275\n",
      "Epoch 38/100\n",
      "264/264 [==============================] - 0s 104us/sample - loss: 0.0721 - mean_absolute_error: 0.0721 - val_loss: 0.4655 - val_mean_absolute_error: 0.4655\n",
      "Epoch 39/100\n",
      "264/264 [==============================] - 0s 107us/sample - loss: 0.0692 - mean_absolute_error: 0.0692 - val_loss: 0.4468 - val_mean_absolute_error: 0.4468\n",
      "Epoch 40/100\n",
      "264/264 [==============================] - 0s 105us/sample - loss: 0.0625 - mean_absolute_error: 0.0625 - val_loss: 0.4497 - val_mean_absolute_error: 0.4497\n",
      "Epoch 41/100\n",
      "264/264 [==============================] - 0s 101us/sample - loss: 0.0598 - mean_absolute_error: 0.0598 - val_loss: 0.4545 - val_mean_absolute_error: 0.4545\n",
      "Epoch 42/100\n",
      "264/264 [==============================] - 0s 103us/sample - loss: 0.0682 - mean_absolute_error: 0.0682 - val_loss: 0.4485 - val_mean_absolute_error: 0.4485\n",
      "Epoch 43/100\n",
      "264/264 [==============================] - 0s 105us/sample - loss: 0.0559 - mean_absolute_error: 0.0559 - val_loss: 0.4588 - val_mean_absolute_error: 0.4588\n",
      "Epoch 44/100\n",
      "264/264 [==============================] - 0s 98us/sample - loss: 0.0555 - mean_absolute_error: 0.0555 - val_loss: 0.4507 - val_mean_absolute_error: 0.4507\n",
      "Epoch 45/100\n",
      "264/264 [==============================] - 0s 106us/sample - loss: 0.0556 - mean_absolute_error: 0.0556 - val_loss: 0.4511 - val_mean_absolute_error: 0.4511\n",
      "Epoch 46/100\n",
      "264/264 [==============================] - 0s 97us/sample - loss: 0.0600 - mean_absolute_error: 0.0600 - val_loss: 0.4363 - val_mean_absolute_error: 0.4363\n",
      "Epoch 47/100\n",
      "264/264 [==============================] - 0s 106us/sample - loss: 0.0774 - mean_absolute_error: 0.0774 - val_loss: 0.4701 - val_mean_absolute_error: 0.4701\n",
      "Epoch 48/100\n",
      "264/264 [==============================] - 0s 103us/sample - loss: 0.0648 - mean_absolute_error: 0.0648 - val_loss: 0.4486 - val_mean_absolute_error: 0.4486\n",
      "Epoch 49/100\n"
     ]
    },
    {
     "name": "stdout",
     "output_type": "stream",
     "text": [
      "264/264 [==============================] - 0s 107us/sample - loss: 0.0646 - mean_absolute_error: 0.0646 - val_loss: 0.4432 - val_mean_absolute_error: 0.4432\n",
      "Epoch 50/100\n",
      "264/264 [==============================] - 0s 92us/sample - loss: 0.0919 - mean_absolute_error: 0.0919 - val_loss: 0.4663 - val_mean_absolute_error: 0.4663\n",
      "Epoch 51/100\n",
      "264/264 [==============================] - 0s 109us/sample - loss: 0.0847 - mean_absolute_error: 0.0847 - val_loss: 0.4368 - val_mean_absolute_error: 0.4368\n",
      "Epoch 52/100\n",
      "264/264 [==============================] - 0s 98us/sample - loss: 0.0824 - mean_absolute_error: 0.0824 - val_loss: 0.4871 - val_mean_absolute_error: 0.4871\n",
      "Epoch 53/100\n",
      "264/264 [==============================] - 0s 99us/sample - loss: 0.0695 - mean_absolute_error: 0.0695 - val_loss: 0.4526 - val_mean_absolute_error: 0.4526\n",
      "Epoch 54/100\n",
      "264/264 [==============================] - 0s 103us/sample - loss: 0.0689 - mean_absolute_error: 0.0689 - val_loss: 0.4675 - val_mean_absolute_error: 0.4675\n",
      "Epoch 55/100\n",
      "264/264 [==============================] - 0s 101us/sample - loss: 0.0594 - mean_absolute_error: 0.0594 - val_loss: 0.4301 - val_mean_absolute_error: 0.4301\n",
      "Epoch 56/100\n",
      "264/264 [==============================] - 0s 99us/sample - loss: 0.0672 - mean_absolute_error: 0.0672 - val_loss: 0.4338 - val_mean_absolute_error: 0.4338\n",
      "Epoch 57/100\n",
      "264/264 [==============================] - 0s 103us/sample - loss: 0.0724 - mean_absolute_error: 0.0724 - val_loss: 0.4421 - val_mean_absolute_error: 0.4421\n",
      "Epoch 58/100\n",
      "264/264 [==============================] - 0s 99us/sample - loss: 0.0579 - mean_absolute_error: 0.0579 - val_loss: 0.4716 - val_mean_absolute_error: 0.4716\n",
      "Epoch 59/100\n",
      "264/264 [==============================] - 0s 93us/sample - loss: 0.0550 - mean_absolute_error: 0.0550 - val_loss: 0.4422 - val_mean_absolute_error: 0.4422\n",
      "Epoch 60/100\n",
      "264/264 [==============================] - 0s 94us/sample - loss: 0.0492 - mean_absolute_error: 0.0492 - val_loss: 0.4421 - val_mean_absolute_error: 0.4421\n",
      "Epoch 61/100\n",
      "264/264 [==============================] - 0s 93us/sample - loss: 0.0476 - mean_absolute_error: 0.0476 - val_loss: 0.4576 - val_mean_absolute_error: 0.4576\n",
      "Epoch 62/100\n",
      "264/264 [==============================] - 0s 92us/sample - loss: 0.0385 - mean_absolute_error: 0.0385 - val_loss: 0.4496 - val_mean_absolute_error: 0.4496\n",
      "Epoch 63/100\n",
      "264/264 [==============================] - 0s 99us/sample - loss: 0.0521 - mean_absolute_error: 0.0521 - val_loss: 0.4479 - val_mean_absolute_error: 0.4479\n",
      "Epoch 64/100\n",
      "264/264 [==============================] - 0s 97us/sample - loss: 0.0536 - mean_absolute_error: 0.0536 - val_loss: 0.4357 - val_mean_absolute_error: 0.4357\n",
      "Epoch 65/100\n",
      "264/264 [==============================] - 0s 104us/sample - loss: 0.0508 - mean_absolute_error: 0.0508 - val_loss: 0.4430 - val_mean_absolute_error: 0.4430\n",
      "Epoch 66/100\n",
      "264/264 [==============================] - 0s 99us/sample - loss: 0.0470 - mean_absolute_error: 0.0470 - val_loss: 0.4527 - val_mean_absolute_error: 0.4527\n",
      "Epoch 67/100\n",
      "264/264 [==============================] - 0s 101us/sample - loss: 0.0542 - mean_absolute_error: 0.0542 - val_loss: 0.4387 - val_mean_absolute_error: 0.4387\n",
      "Epoch 68/100\n",
      "264/264 [==============================] - 0s 102us/sample - loss: 0.0636 - mean_absolute_error: 0.0636 - val_loss: 0.4914 - val_mean_absolute_error: 0.4914\n",
      "Epoch 69/100\n",
      "264/264 [==============================] - 0s 100us/sample - loss: 0.0611 - mean_absolute_error: 0.0611 - val_loss: 0.4426 - val_mean_absolute_error: 0.4426\n",
      "Epoch 70/100\n",
      "264/264 [==============================] - 0s 102us/sample - loss: 0.0654 - mean_absolute_error: 0.0654 - val_loss: 0.4395 - val_mean_absolute_error: 0.4395\n",
      "Epoch 71/100\n",
      "264/264 [==============================] - 0s 98us/sample - loss: 0.0614 - mean_absolute_error: 0.0614 - val_loss: 0.4426 - val_mean_absolute_error: 0.4426\n",
      "Epoch 72/100\n",
      "264/264 [==============================] - 0s 95us/sample - loss: 0.0537 - mean_absolute_error: 0.0537 - val_loss: 0.4705 - val_mean_absolute_error: 0.4705\n",
      "Epoch 73/100\n",
      "264/264 [==============================] - 0s 101us/sample - loss: 0.0486 - mean_absolute_error: 0.0486 - val_loss: 0.4510 - val_mean_absolute_error: 0.4510\n",
      "Epoch 74/100\n",
      "264/264 [==============================] - 0s 93us/sample - loss: 0.0429 - mean_absolute_error: 0.0429 - val_loss: 0.4529 - val_mean_absolute_error: 0.4529\n",
      "Epoch 75/100\n",
      "264/264 [==============================] - 0s 91us/sample - loss: 0.0423 - mean_absolute_error: 0.0423 - val_loss: 0.4435 - val_mean_absolute_error: 0.4435\n",
      "Epoch 76/100\n",
      "264/264 [==============================] - 0s 96us/sample - loss: 0.0445 - mean_absolute_error: 0.0445 - val_loss: 0.4574 - val_mean_absolute_error: 0.4574\n",
      "Epoch 77/100\n",
      "264/264 [==============================] - 0s 93us/sample - loss: 0.0393 - mean_absolute_error: 0.0393 - val_loss: 0.4472 - val_mean_absolute_error: 0.4472\n",
      "Epoch 78/100\n",
      "264/264 [==============================] - 0s 96us/sample - loss: 0.0378 - mean_absolute_error: 0.0378 - val_loss: 0.4446 - val_mean_absolute_error: 0.4446\n",
      "Epoch 79/100\n",
      "264/264 [==============================] - 0s 93us/sample - loss: 0.0444 - mean_absolute_error: 0.0444 - val_loss: 0.4739 - val_mean_absolute_error: 0.4739\n",
      "Epoch 80/100\n",
      "264/264 [==============================] - 0s 95us/sample - loss: 0.0489 - mean_absolute_error: 0.0489 - val_loss: 0.4498 - val_mean_absolute_error: 0.4498\n",
      "Epoch 81/100\n",
      "264/264 [==============================] - 0s 93us/sample - loss: 0.0479 - mean_absolute_error: 0.0479 - val_loss: 0.4446 - val_mean_absolute_error: 0.4446\n",
      "Epoch 82/100\n",
      "264/264 [==============================] - 0s 87us/sample - loss: 0.0524 - mean_absolute_error: 0.0524 - val_loss: 0.4648 - val_mean_absolute_error: 0.4648\n",
      "Epoch 83/100\n",
      "264/264 [==============================] - 0s 89us/sample - loss: 0.0520 - mean_absolute_error: 0.0520 - val_loss: 0.4524 - val_mean_absolute_error: 0.4524\n",
      "Epoch 84/100\n",
      "264/264 [==============================] - 0s 94us/sample - loss: 0.0575 - mean_absolute_error: 0.0575 - val_loss: 0.4602 - val_mean_absolute_error: 0.4602\n",
      "Epoch 85/100\n",
      "264/264 [==============================] - 0s 94us/sample - loss: 0.0677 - mean_absolute_error: 0.0677 - val_loss: 0.4658 - val_mean_absolute_error: 0.4658\n",
      "Epoch 86/100\n",
      "264/264 [==============================] - 0s 109us/sample - loss: 0.0752 - mean_absolute_error: 0.0752 - val_loss: 0.4257 - val_mean_absolute_error: 0.4257\n",
      "Epoch 87/100\n",
      "264/264 [==============================] - 0s 95us/sample - loss: 0.0747 - mean_absolute_error: 0.0747 - val_loss: 0.4750 - val_mean_absolute_error: 0.4750\n",
      "Epoch 88/100\n",
      "264/264 [==============================] - 0s 97us/sample - loss: 0.0629 - mean_absolute_error: 0.0629 - val_loss: 0.4472 - val_mean_absolute_error: 0.4472\n",
      "Epoch 89/100\n",
      "264/264 [==============================] - 0s 102us/sample - loss: 0.0601 - mean_absolute_error: 0.0601 - val_loss: 0.4560 - val_mean_absolute_error: 0.4560\n",
      "Epoch 90/100\n",
      "264/264 [==============================] - 0s 103us/sample - loss: 0.0546 - mean_absolute_error: 0.0546 - val_loss: 0.4565 - val_mean_absolute_error: 0.4565\n",
      "Epoch 91/100\n",
      "264/264 [==============================] - 0s 98us/sample - loss: 0.0486 - mean_absolute_error: 0.0486 - val_loss: 0.4513 - val_mean_absolute_error: 0.4513\n",
      "Epoch 92/100\n",
      "264/264 [==============================] - 0s 98us/sample - loss: 0.0431 - mean_absolute_error: 0.0431 - val_loss: 0.4545 - val_mean_absolute_error: 0.4545\n",
      "Epoch 93/100\n",
      "264/264 [==============================] - 0s 103us/sample - loss: 0.0436 - mean_absolute_error: 0.0436 - val_loss: 0.4682 - val_mean_absolute_error: 0.4682\n",
      "Epoch 94/100\n",
      "264/264 [==============================] - 0s 96us/sample - loss: 0.0411 - mean_absolute_error: 0.0411 - val_loss: 0.4618 - val_mean_absolute_error: 0.4618\n",
      "Epoch 95/100\n",
      "264/264 [==============================] - 0s 108us/sample - loss: 0.0442 - mean_absolute_error: 0.0442 - val_loss: 0.4455 - val_mean_absolute_error: 0.4455\n",
      "Epoch 96/100\n",
      "264/264 [==============================] - 0s 105us/sample - loss: 0.0442 - mean_absolute_error: 0.0442 - val_loss: 0.4662 - val_mean_absolute_error: 0.4662\n",
      "Epoch 97/100\n"
     ]
    },
    {
     "name": "stdout",
     "output_type": "stream",
     "text": [
      "264/264 [==============================] - 0s 97us/sample - loss: 0.0545 - mean_absolute_error: 0.0545 - val_loss: 0.4812 - val_mean_absolute_error: 0.4812\n",
      "Epoch 98/100\n",
      "264/264 [==============================] - 0s 96us/sample - loss: 0.0595 - mean_absolute_error: 0.0595 - val_loss: 0.4370 - val_mean_absolute_error: 0.4370\n",
      "Epoch 99/100\n",
      "264/264 [==============================] - 0s 92us/sample - loss: 0.0590 - mean_absolute_error: 0.0590 - val_loss: 0.4542 - val_mean_absolute_error: 0.4542\n",
      "Epoch 100/100\n",
      "264/264 [==============================] - 0s 103us/sample - loss: 0.0525 - mean_absolute_error: 0.0525 - val_loss: 0.4637 - val_mean_absolute_error: 0.4637\n"
     ]
    },
    {
     "data": {
      "text/plain": [
       "<tensorflow.python.keras.callbacks.History at 0x10d791128>"
      ]
     },
     "execution_count": 12,
     "metadata": {},
     "output_type": "execute_result"
    }
   ],
   "source": [
    "NN_model.fit(X_train, y_train, epochs=100, batch_size=32, validation_split = 0.2)"
   ]
  },
  {
   "cell_type": "code",
   "execution_count": 13,
   "metadata": {},
   "outputs": [],
   "source": [
    "#Predicting the Validation set results\n",
    "y_predval = NN_model.predict(X_val)"
   ]
  },
  {
   "cell_type": "code",
   "execution_count": 14,
   "metadata": {},
   "outputs": [
    {
     "name": "stdout",
     "output_type": "stream",
     "text": [
      "0.5098261024488672\n",
      "0.4656565912347609\n",
      "0.6823903510709695\n",
      "R2 Score\n",
      "0.346842798477657\n"
     ]
    }
   ],
   "source": [
    "# Print result of MAE\n",
    "from sklearn import metrics\n",
    "print(metrics.mean_absolute_error(y_val, y_predval))\n",
    "\n",
    "# Print result of MSE\n",
    "print(metrics.mean_squared_error(y_val, y_predval))\n",
    "\n",
    "# Print result of RMSE\n",
    "print(np.sqrt(metrics.mean_squared_error(y_val, y_predval)))\n",
    "\n",
    "from sklearn.metrics import r2_score\n",
    "accuracy=r2_score(y_val,y_predval)\n",
    "\n",
    "print('R2 Score')\n",
    "print(accuracy)"
   ]
  },
  {
   "cell_type": "code",
   "execution_count": 16,
   "metadata": {},
   "outputs": [
    {
     "name": "stdout",
     "output_type": "stream",
     "text": [
      "R^2 = 0.3468\n"
     ]
    },
    {
     "data": {
      "image/png": "[encoded data removed]",
      "text/plain": [
       "<Figure size 1440x720 with 1 Axes>"
      ]
     },
     "metadata": {
      "needs_background": "light"
     },
     "output_type": "display_data"
    },
    {
     "data": {
      "image/png": "[encoded data removed]",
      "text/plain": [
       "<Figure size 1440x720 with 1 Axes>"
      ]
     },
     "metadata": {
      "needs_background": "light"
     },
     "output_type": "display_data"
    }
   ],
   "source": [
    "# Visualising the Random Forest Regression Results\n",
    "# Loading Packages\n",
    "import seaborn as sns\n",
    "import matplotlib.pyplot as plt\n",
    "from sklearn.model_selection import cross_val_predict\n",
    "from sklearn.metrics import r2_score\n",
    "#from sklearn import linear_model\n",
    "from sklearn import datasets\n",
    "from scipy.integrate import simps\n",
    "\n",
    "# Function for Regression Error Characteritic Curve\n",
    "\n",
    "def REC(y_val , y_predval):\n",
    "    \n",
    "    # initilizing the lists\n",
    "    Accuracy = []\n",
    "    \n",
    "    # initializing the values for Epsilon\n",
    "    Begin_Range = 0\n",
    "    End_Range = 1.5\n",
    "    Interval_Size = 0.01\n",
    "    \n",
    "    # List of epsilons\n",
    "    Epsilon = np.arange(Begin_Range , End_Range , Interval_Size)\n",
    "    \n",
    "    # Main Loops\n",
    "    for i in range(len(Epsilon)):\n",
    "        count = 0.0\n",
    "        for j in range(len(y_val)):\n",
    "            if np.linalg.norm(y_val[j] - y_predval[j]) / np.sqrt( np.linalg.norm(y_val[j]) **2 + np.linalg.norm(y_predval[j])**2 ) < Epsilon[i]:\n",
    "                count = count + 1\n",
    "        \n",
    "        Accuracy.append(count/len(y_val))\n",
    "    \n",
    "    # Calculating Area Under Curve using Simpson's rule\n",
    "    AUC = simps(Accuracy , Epsilon ) / End_Range\n",
    "        \n",
    "    # returning epsilon , accuracy , area under curve    \n",
    "    return Epsilon , Accuracy , AUC\n",
    "\n",
    "# finding the deviation and accuracy, and area under curve for plotting\n",
    "Deviation, Accuracy, AUC = REC(y_val, y_predval)\n",
    "\n",
    "# Calculating R^2 of the true and predicted values\n",
    "RR = r2_score(y_val, y_predval)\n",
    "\n",
    "# Plotting\n",
    "plt.figure(figsize=(20 , 10))\n",
    "\n",
    "plt.subplot(1, 2, 1)\n",
    "plt.scatter(y_val, y_predval,color = \"darkorange\")\n",
    "plt.xlabel(\"Real Data\")\n",
    "plt.ylabel(\"Predicted\")\n",
    "plt.figure(figsize=(20 , 10))\n",
    "plt.plot([y_val.min(), y_val.max()], [y_val.min(), y_val.max()], 'k--', lw=4)\n",
    "print(\"R^2 = %0.4f\" %RR)\n",
    "\n",
    "\n",
    "plt.subplot(1, 2, 2)\n",
    "plt.title(\"Regression Error Characteristic (REC)\")\n",
    "plt.plot(Deviation, Accuracy, \"--b\",lw =3)\n",
    "plt.xlabel(\"Deviation\")\n",
    "plt.ylabel(\"Accuracy (%)\")\n",
    "plt.text(1.1, 0.07, \"AUC = %0.4f\" %AUC , fontsize=15)\n",
    "\n",
    "\n",
    "plt.show()"
   ]
  },
  {
   "cell_type": "code",
   "execution_count": null,
   "metadata": {},
   "outputs": [],
   "source": []
  }
 ],
 "metadata": {
  "kernelspec": {
   "display_name": "Python 3",
   "language": "python",
   "name": "python3"
  },
  "language_info": {
   "codemirror_mode": {
    "name": "ipython",
    "version": 3
   },
   "file_extension": ".py",
   "mimetype": "text/x-python",
   "name": "python",
   "nbconvert_exporter": "python",
   "pygments_lexer": "ipython3",
   "version": "3.7.3"
  }
 },
 "nbformat": 4,
 "nbformat_minor": 2
}
